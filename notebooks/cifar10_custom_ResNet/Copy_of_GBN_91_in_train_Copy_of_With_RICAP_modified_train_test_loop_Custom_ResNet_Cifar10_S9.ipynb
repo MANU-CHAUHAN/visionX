{
  "nbformat": 4,
  "nbformat_minor": 0,
  "metadata": {
    "accelerator": "GPU",
    "colab": {
      "name": "Copy of GBN 91 in train Copy of With RICAP modified train test loop - Custom ResNet Cifar10 - S9.ipynb",
      "provenance": [],
      "collapsed_sections": []
    },
    "kernelspec": {
      "display_name": "Python 3",
      "name": "python3"
    },
    "language_info": {
      "codemirror_mode": {
        "name": "ipython",
        "version": 3
      },
      "file_extension": ".py",
      "mimetype": "text/x-python",
      "name": "python",
      "nbconvert_exporter": "python",
      "pygments_lexer": "ipython3",
      "version": "3.6.6"
    }
  },
  "cells": [
    {
      "cell_type": "code",
      "metadata": {
        "colab": {
          "base_uri": "https://localhost:8080/"
        },
        "id": "yrACTK9GvN8I",
        "outputId": "3713e4c4-e0b6-478d-c7fe-c91de4d20b4c"
      },
      "source": [
        "!pip install --upgrade albumentations\n",
        "!pip install --upgrade torch_lr_finder\n",
        "!nvidia-smi"
      ],
      "execution_count": 1,
      "outputs": [
        {
          "output_type": "stream",
          "text": [
            "Requirement already up-to-date: albumentations in /usr/local/lib/python3.7/dist-packages (1.0.3)\n",
            "Requirement already satisfied, skipping upgrade: scipy in /usr/local/lib/python3.7/dist-packages (from albumentations) (1.4.1)\n",
            "Requirement already satisfied, skipping upgrade: PyYAML in /usr/local/lib/python3.7/dist-packages (from albumentations) (3.13)\n",
            "Requirement already satisfied, skipping upgrade: opencv-python-headless>=4.1.1 in /usr/local/lib/python3.7/dist-packages (from albumentations) (4.5.3.56)\n",
            "Requirement already satisfied, skipping upgrade: numpy>=1.11.1 in /usr/local/lib/python3.7/dist-packages (from albumentations) (1.19.5)\n",
            "Requirement already satisfied, skipping upgrade: scikit-image>=0.16.1 in /usr/local/lib/python3.7/dist-packages (from albumentations) (0.16.2)\n",
            "Requirement already satisfied, skipping upgrade: imageio>=2.3.0 in /usr/local/lib/python3.7/dist-packages (from scikit-image>=0.16.1->albumentations) (2.4.1)\n",
            "Requirement already satisfied, skipping upgrade: networkx>=2.0 in /usr/local/lib/python3.7/dist-packages (from scikit-image>=0.16.1->albumentations) (2.5.1)\n",
            "Requirement already satisfied, skipping upgrade: pillow>=4.3.0 in /usr/local/lib/python3.7/dist-packages (from scikit-image>=0.16.1->albumentations) (7.1.2)\n",
            "Requirement already satisfied, skipping upgrade: PyWavelets>=0.4.0 in /usr/local/lib/python3.7/dist-packages (from scikit-image>=0.16.1->albumentations) (1.1.1)\n",
            "Requirement already satisfied, skipping upgrade: matplotlib!=3.0.0,>=2.0.0 in /usr/local/lib/python3.7/dist-packages (from scikit-image>=0.16.1->albumentations) (3.2.2)\n",
            "Requirement already satisfied, skipping upgrade: decorator<5,>=4.3 in /usr/local/lib/python3.7/dist-packages (from networkx>=2.0->scikit-image>=0.16.1->albumentations) (4.4.2)\n",
            "Requirement already satisfied, skipping upgrade: cycler>=0.10 in /usr/local/lib/python3.7/dist-packages (from matplotlib!=3.0.0,>=2.0.0->scikit-image>=0.16.1->albumentations) (0.10.0)\n",
            "Requirement already satisfied, skipping upgrade: python-dateutil>=2.1 in /usr/local/lib/python3.7/dist-packages (from matplotlib!=3.0.0,>=2.0.0->scikit-image>=0.16.1->albumentations) (2.8.1)\n",
            "Requirement already satisfied, skipping upgrade: kiwisolver>=1.0.1 in /usr/local/lib/python3.7/dist-packages (from matplotlib!=3.0.0,>=2.0.0->scikit-image>=0.16.1->albumentations) (1.3.1)\n",
            "Requirement already satisfied, skipping upgrade: pyparsing!=2.0.4,!=2.1.2,!=2.1.6,>=2.0.1 in /usr/local/lib/python3.7/dist-packages (from matplotlib!=3.0.0,>=2.0.0->scikit-image>=0.16.1->albumentations) (2.4.7)\n",
            "Requirement already satisfied, skipping upgrade: six in /usr/local/lib/python3.7/dist-packages (from cycler>=0.10->matplotlib!=3.0.0,>=2.0.0->scikit-image>=0.16.1->albumentations) (1.15.0)\n",
            "Requirement already up-to-date: torch_lr_finder in /usr/local/lib/python3.7/dist-packages (0.2.1)\n",
            "Requirement already satisfied, skipping upgrade: torch>=0.4.1 in /usr/local/lib/python3.7/dist-packages (from torch_lr_finder) (1.9.0+cu102)\n",
            "Requirement already satisfied, skipping upgrade: tqdm in /usr/local/lib/python3.7/dist-packages (from torch_lr_finder) (4.41.1)\n",
            "Requirement already satisfied, skipping upgrade: matplotlib in /usr/local/lib/python3.7/dist-packages (from torch_lr_finder) (3.2.2)\n",
            "Requirement already satisfied, skipping upgrade: numpy in /usr/local/lib/python3.7/dist-packages (from torch_lr_finder) (1.19.5)\n",
            "Requirement already satisfied, skipping upgrade: packaging in /usr/local/lib/python3.7/dist-packages (from torch_lr_finder) (21.0)\n",
            "Requirement already satisfied, skipping upgrade: typing-extensions in /usr/local/lib/python3.7/dist-packages (from torch>=0.4.1->torch_lr_finder) (3.7.4.3)\n",
            "Requirement already satisfied, skipping upgrade: kiwisolver>=1.0.1 in /usr/local/lib/python3.7/dist-packages (from matplotlib->torch_lr_finder) (1.3.1)\n",
            "Requirement already satisfied, skipping upgrade: pyparsing!=2.0.4,!=2.1.2,!=2.1.6,>=2.0.1 in /usr/local/lib/python3.7/dist-packages (from matplotlib->torch_lr_finder) (2.4.7)\n",
            "Requirement already satisfied, skipping upgrade: cycler>=0.10 in /usr/local/lib/python3.7/dist-packages (from matplotlib->torch_lr_finder) (0.10.0)\n",
            "Requirement already satisfied, skipping upgrade: python-dateutil>=2.1 in /usr/local/lib/python3.7/dist-packages (from matplotlib->torch_lr_finder) (2.8.1)\n",
            "Requirement already satisfied, skipping upgrade: six in /usr/local/lib/python3.7/dist-packages (from cycler>=0.10->matplotlib->torch_lr_finder) (1.15.0)\n",
            "Mon Jul 19 08:29:27 2021       \n",
            "+-----------------------------------------------------------------------------+\n",
            "| NVIDIA-SMI 470.42.01    Driver Version: 460.32.03    CUDA Version: 11.2     |\n",
            "|-------------------------------+----------------------+----------------------+\n",
            "| GPU  Name        Persistence-M| Bus-Id        Disp.A | Volatile Uncorr. ECC |\n",
            "| Fan  Temp  Perf  Pwr:Usage/Cap|         Memory-Usage | GPU-Util  Compute M. |\n",
            "|                               |                      |               MIG M. |\n",
            "|===============================+======================+======================|\n",
            "|   0  Tesla P100-PCIE...  Off  | 00000000:00:04.0 Off |                    0 |\n",
            "| N/A   64C    P0    31W / 250W |      0MiB / 16280MiB |      0%      Default |\n",
            "|                               |                      |                  N/A |\n",
            "+-------------------------------+----------------------+----------------------+\n",
            "                                                                               \n",
            "+-----------------------------------------------------------------------------+\n",
            "| Processes:                                                                  |\n",
            "|  GPU   GI   CI        PID   Type   Process name                  GPU Memory |\n",
            "|        ID   ID                                                   Usage      |\n",
            "|=============================================================================|\n",
            "|  No running processes found                                                 |\n",
            "+-----------------------------------------------------------------------------+\n"
          ],
          "name": "stdout"
        }
      ]
    },
    {
      "cell_type": "code",
      "metadata": {
        "id": "-yVpodAMpoCi"
      },
      "source": [
        "import torch\n",
        "import torchvision\n",
        "import cv2\n",
        "import numpy as np\n",
        "import torchvision.transforms as transforms\n",
        "import torch.nn as nn\n",
        "import torch.nn.functional as F\n",
        "from torchsummary import summary\n",
        "import torch.optim as optim\n",
        "from tqdm import tqdm\n",
        "from torch.optim.lr_scheduler import StepLR\n",
        "from functools import partial\n",
        "import time\n",
        "%matplotlib inline\n",
        "\n",
        "conv = partial(nn.Conv2d, bias=False)\n",
        "bn = nn.BatchNorm2d\n",
        "relu = nn.ReLU\n",
        "\n",
        "classes = ('plane', 'car', 'bird', 'cat', 'deer', 'dog', 'frog', 'horse', 'ship', 'truck')"
      ],
      "execution_count": 2,
      "outputs": []
    },
    {
      "cell_type": "code",
      "metadata": {
        "id": "oH4IWUA1SNGa"
      },
      "source": [
        "import albumentations as A\n",
        "from albumentations.pytorch.transforms import ToTensorV2, ToTensor\n",
        "\n",
        "torch.backends.cudnn.benchmark = True"
      ],
      "execution_count": 3,
      "outputs": []
    },
    {
      "cell_type": "code",
      "metadata": {
        "colab": {
          "base_uri": "https://localhost:8080/"
        },
        "id": "D8Tjigo2poCl",
        "outputId": "1c719bc6-b38f-4a9c-c699-8499600ed7e1"
      },
      "source": [
        "transform = transforms.Compose([transforms.ToTensor()]) # simple ToTensor for now\n",
        "\n",
        "train_set = torchvision.datasets.CIFAR10(root='./cifar10', download=True, train=True, transform=transform)\n"
      ],
      "execution_count": 4,
      "outputs": [
        {
          "output_type": "stream",
          "text": [
            "Files already downloaded and verified\n"
          ],
          "name": "stdout"
        }
      ]
    },
    {
      "cell_type": "code",
      "metadata": {
        "colab": {
          "base_uri": "https://localhost:8080/"
        },
        "id": "Pcq0CLIKTX-o",
        "outputId": "c3d73390-acf9-4c72-f781-32ec105487e5"
      },
      "source": [
        "train_set.data.shape # train data shape"
      ],
      "execution_count": 5,
      "outputs": [
        {
          "output_type": "execute_result",
          "data": {
            "text/plain": [
              "(50000, 32, 32, 3)"
            ]
          },
          "metadata": {
            "tags": []
          },
          "execution_count": 5
        }
      ]
    },
    {
      "cell_type": "code",
      "metadata": {
        "id": "ldxJ0FQ-Wuum"
      },
      "source": [
        "# calculate mean and standard deviation\n",
        "\n",
        "mean = np.mean(train_set.data, axis=(0,1,2))\n",
        "\n",
        "\n",
        "sdev = np.std(train_set.data, axis=(0, 1, 2))\n"
      ],
      "execution_count": 6,
      "outputs": []
    },
    {
      "cell_type": "code",
      "metadata": {
        "id": "c05SafsfuY58"
      },
      "source": [
        "mean = mean/255\n",
        "sdev = sdev/255"
      ],
      "execution_count": 7,
      "outputs": []
    },
    {
      "cell_type": "code",
      "metadata": {
        "colab": {
          "base_uri": "https://localhost:8080/"
        },
        "id": "1NrvhVCrvIBS",
        "outputId": "c5cc9ef2-3920-4321-ab95-f3fc67378152"
      },
      "source": [
        "SEED = 101\n",
        "BATCH = 512\n",
        "\n",
        "cuda = torch.cuda.is_available()\n",
        "print(\"CUDA Available?\", cuda)\n",
        "\n",
        "if cuda:\n",
        "    torch.cuda.manual_seed(SEED)\n",
        "\n",
        "device = torch.device(\"cuda\" if cuda else \"cpu\")\n",
        "\n",
        "# dataloader arguments\n",
        "dataloader_args = dict(shuffle=True, batch_size=BATCH, num_workers=2, pin_memory=True)\\\n",
        "    if cuda else dict(shuffle=True, batch_size=32)\n"
      ],
      "execution_count": 8,
      "outputs": [
        {
          "output_type": "stream",
          "text": [
            "CUDA Available? True\n"
          ],
          "name": "stdout"
        }
      ]
    },
    {
      "cell_type": "code",
      "metadata": {
        "id": "HR3JHR-8iDrL"
      },
      "source": [
        "# dataset= dsets.CIFAR10(root='./cifar10/data/', transform=transform, train= True, download=True)\n",
        "# test_set= dsets.CIFAR10(root=\"./cifar10/data/\", transform=transform, train= False)\n",
        "\n",
        "def ZCA_whitening(X):\n",
        "    X= X.reshape((-1, np.product(X.shape[1:])))\n",
        "    X_centered= X - np.mean(X, axis= 0)\n",
        "    Sigma= np.dot(X_centered.T, X_centered) / X_centered.shape[0]\n",
        "    U, Lambda, _= np.linalg.svd(Sigma)\n",
        "    W= np.dot(U, np.dot(np.diag(1.0/np.sqrt(Lambda + 1e-5)), U.T))\n",
        "    \n",
        "    X_ZCA= np.dot(X_centered, W.T)\n",
        "    X_ZCA_rescaled = (X_ZCA - X_ZCA.min()) / (X_ZCA.max() - X_ZCA.min())\n",
        "    return X_ZCA_rescaled\n",
        "\n",
        "# dataset_zca= ZCA_whitening(dataset.train_data)\n",
        "# test_set_zca= ZCA_whitening(test_set.test_data)\n",
        "\n",
        "# dataset_zca= torch.tensor(dataset_zca.reshape(-1,32,32,3))\n",
        "# test_set_zca= torch.tensor(test_set_zca.reshape(-1,32,32,3))\n",
        "\n",
        "# torch.Tensor(dataset.train_data)\n",
        "# torch.Tensor(test_set.test_data)"
      ],
      "execution_count": 9,
      "outputs": []
    },
    {
      "cell_type": "code",
      "metadata": {
        "id": "av0yATtWpFpV"
      },
      "source": [
        "# class GaussNoise():\n",
        "#     def __init__(self, mean , sdev):\n",
        "#         self.mean = mean\n",
        "#         self.sdev = sdev\n",
        "    \n",
        "#     def __call__(self, tensor=None, size=None):\n",
        "#         if tensor:\n",
        "#             val= torch.rand(tensor.size(), dtype=tensor.dtype) * self.sdev + self.mean\n",
        "\n",
        "#             return val\n",
        "#         else:\n",
        "#             return np.random.rand(size) * self.sdev + self.mean"
      ],
      "execution_count": 10,
      "outputs": []
    },
    {
      "cell_type": "code",
      "metadata": {
        "id": "f8AQ9zwC6fXS"
      },
      "source": [
        "class LabelSmoothingLoss(nn.Module):\n",
        "    def __init__(self, classes, smoothing=0.0, dim=-1):\n",
        "        super(LabelSmoothingLoss, self).__init__()\n",
        "        self.confidence = 1.0 - smoothing\n",
        "        self.smoothing = smoothing\n",
        "        self.cls = classes\n",
        "        self.dim = dim\n",
        "\n",
        "    def forward(self, pred, target):\n",
        "        pred = pred.log_softmax(dim=self.dim)\n",
        "        with torch.no_grad():\n",
        "            # true_dist = pred.data.clone()\n",
        "            true_dist = torch.zeros_like(pred)\n",
        "            true_dist.fill_(self.smoothing / (self.cls - 1))\n",
        "            true_dist.scatter_(1, target.data.unsqueeze(1), self.confidence)\n",
        "        return torch.mean(torch.sum(-true_dist * pred, dim=self.dim))"
      ],
      "execution_count": 11,
      "outputs": []
    },
    {
      "cell_type": "code",
      "metadata": {
        "id": "aZUgWZziEyiE"
      },
      "source": [
        "# noise = GaussNoise(mean=mean, sdev=sdev)\n",
        "# noise_to_add = noise(size=mean.shape[0])\n",
        "lr_epochs = []\n",
        "# noise(size=1)[0], noise_to_add"
      ],
      "execution_count": 12,
      "outputs": []
    },
    {
      "cell_type": "code",
      "metadata": {
        "id": "5Lp6WM7M-ULg"
      },
      "source": [
        "def apply_ricap(*, batch, beta=0.3):\n",
        "\n",
        "    input, target = batch\n",
        "\n",
        "    I_x, I_y = input.size()[2:]\n",
        "\n",
        "    w = int(np.round(I_x * np.random.beta(beta, beta)))\n",
        "    h = int(np.round(I_y * np.random.beta(beta, beta)))\n",
        "    w_ = [w, I_x - w, w, I_x - w]\n",
        "    h_ = [h, h, I_y - h, I_y - h]\n",
        "\n",
        "    cropped_images = {}\n",
        "    c_ = {}\n",
        "    W_ = {}\n",
        "\n",
        "    for k in range(4):\n",
        "        idx = torch.randperm(input.size(0))\n",
        "        x_k = np.random.randint(0, I_x - w_[k] + 1)\n",
        "        y_k = np.random.randint(0, I_y - h_[k] + 1)\n",
        "        cropped_images[k] = input[idx][:, :, x_k:x_k + w_[k], y_k:y_k + h_[k]]\n",
        "        c_[k] = target[idx].cuda()\n",
        "        W_[k] = w_[k] * h_[k] / (I_x * I_y)\n",
        "\n",
        "    patched_images = torch.cat(\n",
        "        (torch.cat((cropped_images[0], cropped_images[1]), 2),\n",
        "         torch.cat((cropped_images[2], cropped_images[3]), 2)),\n",
        "        3)\n",
        "\n",
        "    patched_images = patched_images.cuda()\n",
        "    \n",
        "    return patched_images"
      ],
      "execution_count": 13,
      "outputs": []
    },
    {
      "cell_type": "code",
      "metadata": {
        "id": "kkuRfo1IpoC3"
      },
      "source": [
        "def train_eval_model(model, train_loader, optimizer, device, epochs=1,\n",
        "                     criterion=None,\n",
        "                     test=False, test_loader=None,\n",
        "                     scheduler=None,\n",
        "                     grad_clip=None,\n",
        "                     l1=False, lambda_1=0.001,\n",
        "                     noise_level=0.1,\n",
        "                     ricap_apply=False,\n",
        "                     ricap_beta=0.3,\n",
        "                     ricap_prob=0.1):\n",
        "    if not model:\n",
        "        raise NotImplementedError(\"\\nNo model provided\")\n",
        "    if not train_loader:\n",
        "        raise NotImplementedError(\"\\nTrain Loader not provided\")\n",
        "    if not optimizer:\n",
        "        raise NotImplementedError(\"\\nOptimizer not provided\")\n",
        "    if not device:\n",
        "        raise ValueError(\"\\nno device provided, kindly provide CPU or Cuda to use\")\n",
        "    if ricap_apply:\n",
        "        print(f\"\\n\\nRICAP has been set to True with probability: {ricap_prob} and Beta value: {ricap_beta}\")\n",
        "    \n",
        "    # if `criterion` is not given use CrossEntropy Loss as default\n",
        "    if not criterion:\n",
        "        criterion = nn.CrossEntropyLoss()\n",
        "    \n",
        "    model.train()  # set the train mode\n",
        "\n",
        "    scaler = torch.cuda.amp.GradScaler()  # create grad scaler\n",
        "    \n",
        "    # iterate over for `epochs` epochs and keep storing valuable info\n",
        "    for epoch in range(epochs):\n",
        "        print(f\"\\n\\n\\nepoch num ===================================== {epoch + 1}\")\n",
        "        correct = processed = train_loss = regularization_loss = 0\n",
        "\n",
        "        pbar = tqdm(train_loader)\n",
        "        ricap_count = 0\n",
        "\n",
        "        if scheduler:\n",
        "            last_lr = scheduler.get_last_lr()\n",
        "            lr_epochs.append((epoch + 1, last_lr))\n",
        "            print(f\"LR at epoch {epoch + 1} start: -->\", last_lr, end=\"\\n\\n\")\n",
        "\n",
        "        if l1:\n",
        "            for param in model.parameters():\n",
        "                regularization_loss += torch.sum(abs(param))\n",
        "\n",
        "        for batch_idx, (data, target) in enumerate(pbar):\n",
        "            data, target = data.to(device), target.to(device)  # move data to `device`\n",
        "\n",
        "            optimizer.zero_grad()  # zero out the gradients to avoid accumulating them over loops\n",
        "\n",
        "            # apply RICAP is flag is True and `ricap_prob` greater than random number\n",
        "            if ricap_apply and (ricap_prob > np.random.random()):\n",
        "                # print(f\"Applying RICAP\")\n",
        "                ricap_count += 1\n",
        "                data = apply_ricap(batch=(data, target), beta=ricap_beta)\n",
        "\n",
        "            with torch.cuda.amp.autocast():\n",
        "              output = model(data)  # get model's predictions\n",
        "              \n",
        "              loss = criterion(output, target) + lambda_1 * regularization_loss\n",
        "            #   loss += noise(tensor=loss)\n",
        "\n",
        "            train_loss += loss.item()\n",
        "\n",
        "            scaler.scale(loss).backward()\n",
        "            # loss.backward() # to perform backpropagation and calculate the gradients\n",
        "\n",
        "            # if gradient clipping is to be used\n",
        "            if grad_clip:\n",
        "                nn.utils.clip_grad_value_(model.parameters(), grad_clip)\n",
        "\n",
        "            # optimizer.step() # take 1 step for the optimizer and update the weights\n",
        "\n",
        "            pred = output.argmax(dim=1, keepdim=True)  # get the index of the max log-probability\n",
        "\n",
        "            correct += pred.eq(target.view_as(\n",
        "                pred)).sum().item()  # compare and see how many predictions are coorect and then add up the count\n",
        "\n",
        "            processed += len(data)  # total processed data size\n",
        "\n",
        "            scaler.step(optimizer)\n",
        "            scaler.update()\n",
        "\n",
        "            if scheduler:\n",
        "                scheduler.step()\n",
        "\n",
        "        acc = 100 * correct / processed\n",
        "\n",
        "        train_losses.append(train_loss)\n",
        "\n",
        "        train_accuracy.append(acc)\n",
        "\n",
        "        pbar.set_description(desc=f'loss={loss.item()} batch_id={batch_idx}')\n",
        "\n",
        "        total_batch_iters = len(train_loader)\n",
        "        ricap_perc = ricap_count/total_batch_iters\n",
        "        print(f\"\\n\\nRicap applied: {ricap_perc * 100:.2f} percent of total batch iterations\")\n",
        "\n",
        "        train_loss /= len(train_loader.dataset)\n",
        "        print('\\n\\t\\t\\tTrain metrics: accuracy: {}/{} ({:.4f}%)'.format(correct, len(train_loader.dataset),\n",
        "                                                                        correct * 100 / len(train_loader.dataset)))\n",
        "\n",
        "        if test:  # moving to evaluation\n",
        "            model.eval()  # set the correct mode\n",
        "            correct = test_loss = 0\n",
        "\n",
        "            with torch.no_grad():  # to disable gradient calculation with no_grad context\n",
        "                for data, target in test_loader:\n",
        "                    data, target = data.to(device), target.to(device)\n",
        "\n",
        "                    output = model(data)\n",
        "\n",
        "                    test_loss += criterion(output, target).sum().item()  # sum up batch loss\n",
        "\n",
        "                    pred = output.argmax(dim=1, keepdim=True)  # get the index of the max log-probability\n",
        "\n",
        "                    correct += pred.eq(target.view_as(pred)).sum().item()\n",
        "\n",
        "            test_loss /= len(test_loader.dataset)\n",
        "            test_losses.append(test_loss)\n",
        "            test_accuracy.append(100. * correct / len(test_loader.dataset))\n",
        "\n",
        "            print('\\n\\tTest metrics: average loss: {:.4f}, accuracy: {}/{} ({:.5f}%)\\n'.format(\n",
        "                test_loss, correct, len(test_loader.dataset),\n",
        "                100. * correct / len(test_loader.dataset)))\n"
      ],
      "execution_count": 30,
      "outputs": []
    },
    {
      "cell_type": "code",
      "metadata": {
        "id": "GifNf68LwCav"
      },
      "source": [
        "def plot_graphs(*, train_losses, train_accuracy, test_losses, test_accuracy):\n",
        "    fig, axs = plt.subplots(2,2,figsize=(20,10))\n",
        "    axs[0, 0].plot(train_losses)\n",
        "    axs[0, 0].set_title(\"Training Loss\")\n",
        "    axs[1, 0].plot(train_accuracy)\n",
        "    axs[1, 0].set_title(\"Training Accuracy\")\n",
        "    axs[0, 1].plot(test_losses)\n",
        "    axs[0, 1].set_title(\"Test Loss\")\n",
        "    axs[1, 1].plot(test_accuracy)\n",
        "    axs[1, 1].set_title(\"Test Accuracy\")"
      ],
      "execution_count": 31,
      "outputs": []
    },
    {
      "cell_type": "code",
      "metadata": {
        "id": "w_hwQGwmzahO"
      },
      "source": [
        "class Cifar10SearchDataset(torchvision.datasets.CIFAR10):\n",
        "    def __init__(self, root=\"./data/cifar10\", train=True, download=True, transform=None):\n",
        "        super().__init__(root=root, train=train, download=download, transform=transform)\n",
        "\n",
        "    def __getitem__(self, index):\n",
        "        image, label = self.data[index], self.targets[index]\n",
        "\n",
        "        if self.transform is not None:\n",
        "            transformed = self.transform(image=image)\n",
        "            image = transformed[\"image\"]\n",
        "\n",
        "        return image, label"
      ],
      "execution_count": 32,
      "outputs": []
    },
    {
      "cell_type": "code",
      "metadata": {
        "id": "trNiivNwhn13"
      },
      "source": [
        "# # transforms\n",
        "\n",
        "# train_transforms = A.Compose([\n",
        "#                             A.augmentations.transforms.PadIfNeeded(min_height=40, min_width=40, border_mode=cv2.BORDER_CONSTANT,\n",
        "#                                                                        p=0.5,value=mean),\n",
        "#                             A.RandomCrop(32, 32, p=1),\n",
        "#                             A.HorizontalFlip(p=0.5),\n",
        "#                             A.CoarseDropout(max_holes=1,\n",
        "#                                             p=0.2,\n",
        "#                                             max_height=8,\n",
        "#                                             max_width=8,\n",
        "#                                             min_height=8,\n",
        "#                                             min_width=8,\n",
        "#                                             fill_value= mean),\n",
        "                              \n",
        "#                             A.Normalize(mean=mean, std=sdev),\n",
        "#                             ToTensor()\n",
        "#                             ])\n",
        "\n",
        "# test_transforms = A.Compose([A.HorizontalFlip(p=0.3),\n",
        "#                              A.Normalize(mean=mean, std=sdev),\n",
        "#                             ToTensor()\n",
        "#                             ])\n",
        "\n",
        "\n",
        "train_transforms = A.Compose([     \n",
        "                    A.Sequential([\n",
        "                    A.CropAndPad(px=4, keep_size=False),\n",
        "                    A.RandomCrop(32,32)]),\n",
        "                    A.HorizontalFlip(p=0.3),\n",
        "                    A.CoarseDropout(p=0.2, max_holes = 1, max_height=8, max_width=8, min_height=8,\n",
        "                                    min_width=8, fill_value=(0.4914, 0.4822, 0.4465)),\n",
        "                    A.Normalize(mean=(0.4914, 0.4822, 0.4465), std=(0.247, 0.243, 0.261)),\n",
        "                    ToTensorV2(),\n",
        "                    ])\n",
        "\n",
        "test_transforms = A.Compose([\n",
        "                  A.Normalize(mean=(0.4914, 0.4822, 0.4465), std=(0.247, 0.243, 0.261)),\n",
        "                  ToTensorV2(),\n",
        "                ])"
      ],
      "execution_count": 34,
      "outputs": []
    },
    {
      "cell_type": "code",
      "metadata": {
        "colab": {
          "base_uri": "https://localhost:8080/"
        },
        "id": "4HAK6Y1Uhn14",
        "outputId": "fe50b928-6c3f-4ca1-bebd-14090140a5ee"
      },
      "source": [
        "\n",
        "# data sets with transforms\n",
        "train_set = Cifar10SearchDataset(train=True, download=True, transform=train_transforms)\n",
        "\n",
        "test_set = Cifar10SearchDataset(train=False, download=True, transform=test_transforms)\n",
        "\n",
        "\n",
        "# data loaders on data sets\n",
        "train_loader = torch.utils.data.DataLoader(dataset=train_set, **dataloader_args)\n",
        "\n",
        "test_loader = torch.utils.data.DataLoader(test_set, **dataloader_args)"
      ],
      "execution_count": 35,
      "outputs": [
        {
          "output_type": "stream",
          "text": [
            "Files already downloaded and verified\n",
            "Files already downloaded and verified\n"
          ],
          "name": "stdout"
        }
      ]
    },
    {
      "cell_type": "code",
      "metadata": {
        "colab": {
          "base_uri": "https://localhost:8080/",
          "height": 1000
        },
        "id": "3DkWGTxGhn15",
        "outputId": "7946cf11-b5a8-4392-8316-2ec48fbd014d"
      },
      "source": [
        "from __future__ import print_function\n",
        "# channel_means = (0.49196659, 0.48229005, 0.4461573)\n",
        "# channel_stdevs = (0.24703223, 0.24348513, 0.26158784)\n",
        "def unnormalize(img):\n",
        "  img = img.numpy().astype(dtype=np.float32)\n",
        "  \n",
        "  for i in range(img.shape[0]):\n",
        "    img[i] = (img[i]*sdev[i])+mean[i]\n",
        "  \n",
        "  return np.transpose(img, (1,2,0))\n",
        "\n",
        "%matplotlib inline\n",
        "import matplotlib.pyplot as plt\n",
        "dataiter = iter(train_loader)\n",
        "images, labels = dataiter.next()\n",
        "\n",
        "print(images.shape)\n",
        "print(labels.shape)\n",
        "\n",
        "num_classes = 10\n",
        "# display 10 images from each category. \n",
        "class_names = ['airplane','automobile','bird','cat','deer',\n",
        "               'dog','frog','horse','ship','truck']\n",
        "r, c = 10, 11\n",
        "n = 5\n",
        "fig = plt.figure(figsize=(15,15))\n",
        "fig.subplots_adjust(hspace=0.2, wspace=0.2)\n",
        "for i in range(num_classes):\n",
        "    idx = np.random.choice(np.where(labels[:]==i)[0], n)\n",
        "    ax = plt.subplot(r, c, i*c+1)\n",
        "    ax.text(-1.5, 0.5, class_names[i], fontsize=14)\n",
        "    plt.axis('off')\n",
        "    for j in range(1, n+1):\n",
        "      plt.subplot(r, c, i*c+j+1)\n",
        "      plt.imshow(unnormalize(images[idx[j-1]]), interpolation='none')\n",
        "      plt.axis('off')\n",
        "plt.show()"
      ],
      "execution_count": 36,
      "outputs": [
        {
          "output_type": "stream",
          "text": [
            "Clipping input data to the valid range for imshow with RGB data ([0..1] for floats or [0..255] for integers).\n",
            "Clipping input data to the valid range for imshow with RGB data ([0..1] for floats or [0..255] for integers).\n",
            "Clipping input data to the valid range for imshow with RGB data ([0..1] for floats or [0..255] for integers).\n"
          ],
          "name": "stderr"
        },
        {
          "output_type": "stream",
          "text": [
            "torch.Size([512, 3, 32, 32])\n",
            "torch.Size([512])\n"
          ],
          "name": "stdout"
        },
        {
          "output_type": "stream",
          "text": [
            "Clipping input data to the valid range for imshow with RGB data ([0..1] for floats or [0..255] for integers).\n",
            "Clipping input data to the valid range for imshow with RGB data ([0..1] for floats or [0..255] for integers).\n",
            "Clipping input data to the valid range for imshow with RGB data ([0..1] for floats or [0..255] for integers).\n",
            "Clipping input data to the valid range for imshow with RGB data ([0..1] for floats or [0..255] for integers).\n",
            "Clipping input data to the valid range for imshow with RGB data ([0..1] for floats or [0..255] for integers).\n",
            "Clipping input data to the valid range for imshow with RGB data ([0..1] for floats or [0..255] for integers).\n",
            "Clipping input data to the valid range for imshow with RGB data ([0..1] for floats or [0..255] for integers).\n",
            "Clipping input data to the valid range for imshow with RGB data ([0..1] for floats or [0..255] for integers).\n",
            "Clipping input data to the valid range for imshow with RGB data ([0..1] for floats or [0..255] for integers).\n",
            "Clipping input data to the valid range for imshow with RGB data ([0..1] for floats or [0..255] for integers).\n",
            "Clipping input data to the valid range for imshow with RGB data ([0..1] for floats or [0..255] for integers).\n",
            "Clipping input data to the valid range for imshow with RGB data ([0..1] for floats or [0..255] for integers).\n",
            "Clipping input data to the valid range for imshow with RGB data ([0..1] for floats or [0..255] for integers).\n",
            "Clipping input data to the valid range for imshow with RGB data ([0..1] for floats or [0..255] for integers).\n",
            "Clipping input data to the valid range for imshow with RGB data ([0..1] for floats or [0..255] for integers).\n",
            "Clipping input data to the valid range for imshow with RGB data ([0..1] for floats or [0..255] for integers).\n",
            "Clipping input data to the valid range for imshow with RGB data ([0..1] for floats or [0..255] for integers).\n",
            "Clipping input data to the valid range for imshow with RGB data ([0..1] for floats or [0..255] for integers).\n",
            "Clipping input data to the valid range for imshow with RGB data ([0..1] for floats or [0..255] for integers).\n",
            "Clipping input data to the valid range for imshow with RGB data ([0..1] for floats or [0..255] for integers).\n",
            "Clipping input data to the valid range for imshow with RGB data ([0..1] for floats or [0..255] for integers).\n",
            "Clipping input data to the valid range for imshow with RGB data ([0..1] for floats or [0..255] for integers).\n",
            "Clipping input data to the valid range for imshow with RGB data ([0..1] for floats or [0..255] for integers).\n",
            "Clipping input data to the valid range for imshow with RGB data ([0..1] for floats or [0..255] for integers).\n",
            "Clipping input data to the valid range for imshow with RGB data ([0..1] for floats or [0..255] for integers).\n",
            "Clipping input data to the valid range for imshow with RGB data ([0..1] for floats or [0..255] for integers).\n",
            "Clipping input data to the valid range for imshow with RGB data ([0..1] for floats or [0..255] for integers).\n",
            "Clipping input data to the valid range for imshow with RGB data ([0..1] for floats or [0..255] for integers).\n",
            "Clipping input data to the valid range for imshow with RGB data ([0..1] for floats or [0..255] for integers).\n",
            "Clipping input data to the valid range for imshow with RGB data ([0..1] for floats or [0..255] for integers).\n",
            "Clipping input data to the valid range for imshow with RGB data ([0..1] for floats or [0..255] for integers).\n",
            "Clipping input data to the valid range for imshow with RGB data ([0..1] for floats or [0..255] for integers).\n",
            "Clipping input data to the valid range for imshow with RGB data ([0..1] for floats or [0..255] for integers).\n",
            "Clipping input data to the valid range for imshow with RGB data ([0..1] for floats or [0..255] for integers).\n",
            "Clipping input data to the valid range for imshow with RGB data ([0..1] for floats or [0..255] for integers).\n",
            "Clipping input data to the valid range for imshow with RGB data ([0..1] for floats or [0..255] for integers).\n",
            "Clipping input data to the valid range for imshow with RGB data ([0..1] for floats or [0..255] for integers).\n",
            "Clipping input data to the valid range for imshow with RGB data ([0..1] for floats or [0..255] for integers).\n",
            "Clipping input data to the valid range for imshow with RGB data ([0..1] for floats or [0..255] for integers).\n",
            "Clipping input data to the valid range for imshow with RGB data ([0..1] for floats or [0..255] for integers).\n",
            "Clipping input data to the valid range for imshow with RGB data ([0..1] for floats or [0..255] for integers).\n",
            "Clipping input data to the valid range for imshow with RGB data ([0..1] for floats or [0..255] for integers).\n",
            "Clipping input data to the valid range for imshow with RGB data ([0..1] for floats or [0..255] for integers).\n",
            "Clipping input data to the valid range for imshow with RGB data ([0..1] for floats or [0..255] for integers).\n",
            "Clipping input data to the valid range for imshow with RGB data ([0..1] for floats or [0..255] for integers).\n",
            "Clipping input data to the valid range for imshow with RGB data ([0..1] for floats or [0..255] for integers).\n",
            "Clipping input data to the valid range for imshow with RGB data ([0..1] for floats or [0..255] for integers).\n"
          ],
          "name": "stderr"
        },
        {
          "output_type": "display_data",
          "data": {
            "image/png": "[encoded data removed]",
            "text/plain": [
              "<Figure size 1080x1080 with 60 Axes>"
            ]
          },
          "metadata": {
            "tags": [],
            "needs_background": "light"
          }
        }
      ]
    },
    {
      "cell_type": "code",
      "metadata": {
        "id": "nO39LCr0Y98q"
      },
      "source": [
        "class GBN(torch.nn.Module):\n",
        "    \"\"\"\n",
        "    Ghost Batch Normalization\n",
        "    \"\"\"\n",
        "\n",
        "    def __init__(self, input_dim, virtual_batch_size=128, momentum=0.01):\n",
        "        super(GBN, self).__init__()\n",
        "\n",
        "        self.input_dim = input_dim\n",
        "        self.virtual_batch_size = virtual_batch_size\n",
        "        self.bn = nn.BatchNorm2d(self.input_dim, momentum=momentum)\n",
        "\n",
        "    def forward(self, x):\n",
        "        chunks = x.chunk(int(np.ceil(x.shape[0] / self.virtual_batch_size)), 0)\n",
        "        res = [self.bn(x_) for x_ in chunks]\n",
        "\n",
        "        return torch.cat(res, dim=0)"
      ],
      "execution_count": 37,
      "outputs": []
    },
    {
      "cell_type": "code",
      "metadata": {
        "id": "cyt1meAKyrgW"
      },
      "source": [
        "# def get_conv_block(in_channels=3, out_channels=64, max_pool=False):\n",
        "#     layers = [nn.Conv2d(in_channels, out_channels, kernel_size=3, padding=1, bias=False)]\n",
        "    \n",
        "#     if max_pool:\n",
        "#         layers.append(nn.MaxPool2d(2))\n",
        "\n",
        "#     layers.extend([nn.BatchNorm2d(out_channels, momentum=0.9),\n",
        "#                    nn.ReLU(inplace=True)])\n",
        "\n",
        "#     return nn.Sequential(*layers)\n",
        "\n",
        "\"\"\"Pre-activated approach, try with this now\"\"\"\n",
        "def get_conv_block(in_channels=3, out_channels=64, max_pool=False):\n",
        "    layers = [nn.BatchNorm2d(in_channels, momentum=0.9),\n",
        "                   nn.ReLU(inplace=True)]\n",
        "    \n",
        "    if max_pool:\n",
        "        layers.append(nn.MaxPool2d(2))\n",
        "\n",
        "    layers.append(nn.Conv2d(in_channels, out_channels, kernel_size=3, padding=1, bias=False))\n",
        "\n",
        "    return nn.Sequential(*layers)\n",
        "\n",
        "class CustomResNet(nn.Module):\n",
        "    def __init__(self, in_planes, num_classes):\n",
        "        super().__init__()\n",
        "        self.num_classes = num_classes\n",
        "        \n",
        "        self.conv1 = get_conv_block(in_channels = in_planes, out_channels = 64)\n",
        "\n",
        "        self.conv2 = get_conv_block(in_channels = 64, out_channels = 128, max_pool=True)\n",
        "\n",
        "        self.res1 = nn.Sequential(get_conv_block(in_channels=128, out_channels=128), get_conv_block(in_channels=128, out_channels=128))\n",
        "        \n",
        "        self.conv3 = get_conv_block(128, 256, max_pool=True)\n",
        "\n",
        "        self.conv4 = get_conv_block(256, 512, max_pool=True)\n",
        "        \n",
        "        self.res2 = nn.Sequential(get_conv_block(512, 512), get_conv_block(512, 512))\n",
        "        \n",
        "        self.classifier = nn.Sequential(nn.MaxPool2d(4),\n",
        "                                        nn.Flatten(), \n",
        "                                        nn.Linear(512, num_classes, bias=False))\n",
        "        # self.extra_1 = nn.Sequential(\n",
        "        #     nn.Conv2d(64, 128, 1, stride=2),\n",
        "        #     nn.BatchNorm2d(128),\n",
        "        #     nn.ReLU(),\n",
        "        #     nn.Conv2d(128, 256, 3, stride=1, padding=1),\n",
        "        #     nn.BatchNorm2d(256),\n",
        "        #     nn.ReLU(),\n",
        "        #     nn.MaxPool2d(2)\n",
        "        # )\n",
        "        \n",
        "    def forward(self, x):\n",
        "        x1 = out = self.conv1(x)\n",
        "        out = self.conv2(out)\n",
        "        out = out + self.res1(out)\n",
        "        out = self.conv3(out) #+ self.extra_1(x1)\n",
        "        out = self.conv4(out)\n",
        "        out = out + self.res2(out)\n",
        "        out = self.classifier(out)\n",
        "        # out = out.view(-1, self.num_classes)\n",
        "        # out = F.softmax(out, dim=-1)\n",
        "        return out"
      ],
      "execution_count": 38,
      "outputs": []
    },
    {
      "cell_type": "code",
      "metadata": {
        "colab": {
          "base_uri": "https://localhost:8080/"
        },
        "id": "VRq44qX00cG6",
        "outputId": "60478353-53bd-4b17-c520-b6d9eacf914c"
      },
      "source": [
        "model = CustomResNet(3, 10).to(device)\n",
        "\n",
        "criterion = LabelSmoothingLoss(classes=10, smoothing=0.1)\n",
        "# criterion = nn.CrossEntropyLoss()\n",
        "\n",
        "summary(model, input_size=(3, 32, 32))"
      ],
      "execution_count": 39,
      "outputs": [
        {
          "output_type": "stream",
          "text": [
            "----------------------------------------------------------------\n",
            "        Layer (type)               Output Shape         Param #\n",
            "================================================================\n",
            "       BatchNorm2d-1            [-1, 3, 32, 32]               6\n",
            "              ReLU-2            [-1, 3, 32, 32]               0\n",
            "            Conv2d-3           [-1, 64, 32, 32]           1,728\n",
            "       BatchNorm2d-4           [-1, 64, 32, 32]             128\n",
            "              ReLU-5           [-1, 64, 32, 32]               0\n",
            "         MaxPool2d-6           [-1, 64, 16, 16]               0\n",
            "            Conv2d-7          [-1, 128, 16, 16]          73,728\n",
            "       BatchNorm2d-8          [-1, 128, 16, 16]             256\n",
            "              ReLU-9          [-1, 128, 16, 16]               0\n",
            "           Conv2d-10          [-1, 128, 16, 16]         147,456\n",
            "      BatchNorm2d-11          [-1, 128, 16, 16]             256\n",
            "             ReLU-12          [-1, 128, 16, 16]               0\n",
            "           Conv2d-13          [-1, 128, 16, 16]         147,456\n",
            "      BatchNorm2d-14          [-1, 128, 16, 16]             256\n",
            "             ReLU-15          [-1, 128, 16, 16]               0\n",
            "        MaxPool2d-16            [-1, 128, 8, 8]               0\n",
            "           Conv2d-17            [-1, 256, 8, 8]         294,912\n",
            "      BatchNorm2d-18            [-1, 256, 8, 8]             512\n",
            "             ReLU-19            [-1, 256, 8, 8]               0\n",
            "        MaxPool2d-20            [-1, 256, 4, 4]               0\n",
            "           Conv2d-21            [-1, 512, 4, 4]       1,179,648\n",
            "      BatchNorm2d-22            [-1, 512, 4, 4]           1,024\n",
            "             ReLU-23            [-1, 512, 4, 4]               0\n",
            "           Conv2d-24            [-1, 512, 4, 4]       2,359,296\n",
            "      BatchNorm2d-25            [-1, 512, 4, 4]           1,024\n",
            "             ReLU-26            [-1, 512, 4, 4]               0\n",
            "           Conv2d-27            [-1, 512, 4, 4]       2,359,296\n",
            "        MaxPool2d-28            [-1, 512, 1, 1]               0\n",
            "          Flatten-29                  [-1, 512]               0\n",
            "           Linear-30                   [-1, 10]           5,120\n",
            "================================================================\n",
            "Total params: 6,572,102\n",
            "Trainable params: 6,572,102\n",
            "Non-trainable params: 0\n",
            "----------------------------------------------------------------\n",
            "Input size (MB): 0.01\n",
            "Forward/backward pass size (MB): 4.84\n",
            "Params size (MB): 25.07\n",
            "Estimated Total Size (MB): 29.92\n",
            "----------------------------------------------------------------\n"
          ],
          "name": "stdout"
        }
      ]
    },
    {
      "cell_type": "code",
      "metadata": {
        "id": "h1Frv9EAXlpM"
      },
      "source": [
        "# from torch_lr_finder import LRFinder\n",
        "\n",
        "# # optimizer = optim.Adam(model.parameters(), lr=1e-7, weight_decay=1e-2)\n",
        "# optimizer = optim.SGD(model.parameters(), lr = 1e-4, momentum=0.9, nesterov=True, weight_decay=1e-5)\n",
        "# lr_finder = LRFinder(model, optimizer, criterion, device=\"cuda\")\n",
        "# lr_finder.range_test(train_loader, end_lr=1, num_iter=200)\n",
        "# lr_finder.plot() # to inspect the loss-learning rate graph\n",
        "# lr_finder.reset() # to reset the model and optimizer to their initial state"
      ],
      "execution_count": 40,
      "outputs": []
    },
    {
      "cell_type": "code",
      "metadata": {
        "colab": {
          "base_uri": "https://localhost:8080/"
        },
        "id": "EdIa7mUkwdmg",
        "outputId": "683005eb-4b85-4dd7-81e8-2b7b440eb984"
      },
      "source": [
        "model = CustomResNet(3, 10).to(device)\n",
        "# 0.02 with decay 1e-5 -> seems promising & 0.05 with 2e-5\n",
        "\n",
        "max_lr = 2.6e-2\n",
        "# 0.05, -> \n",
        "# 1) 2.49e-1, -> can take more 2) 2.91e-1 3) 3.1e-1,-> 84% & 82% can take more 4) 4.3e-1 -> can take more perhaps, try\n",
        "# 5) 4.9e-1,  6) 5.9e-1 with opt lr 2.49e-2, 7) 5.1e-1 with 1.49e-2\n",
        "\n",
        "optimizer = optim.SGD(model.parameters(), momentum=0.9, lr = max_lr/10, nesterov=True, weight_decay=0.00025) # [\"0.000125\", \"0.00025\", \"0.0005\"]\n",
        "# 2.49e-2, -> 3.4e-2, \n",
        "\n",
        "# optimizer = optim.Adam(model.parameters(), lr=max_lr, weight_decay=1e-4)\n",
        "\n",
        "scheduler = torch.optim.lr_scheduler.OneCycleLR(optimizer=optimizer,\n",
        "                                                max_lr=max_lr,\n",
        "                                                pct_start=0.35,\n",
        "                                                anneal_strategy='linear',\n",
        "                                                verbose=False,\n",
        "                                                epochs=24,\n",
        "                                                cycle_momentum=False,\n",
        "                                                steps_per_epoch=len(train_loader))\n",
        "\n",
        "\n",
        "\n",
        "train_losses = []\n",
        "train_accuracy = []\n",
        "test_losses = []\n",
        "test_accuracy = []\n",
        "lr_epochs = []\n",
        "\n",
        "start = time.perf_counter()\n",
        "\n",
        "train_eval_model(model=model,\n",
        "                 train_loader=train_loader,\n",
        "                 optimizer = optimizer,\n",
        "                 criterion=criterion,\n",
        "                 device=device,\n",
        "                 epochs=24,\n",
        "                 test=True,\n",
        "                 test_loader=test_loader,\n",
        "                 scheduler=scheduler,\n",
        "                 grad_clip=None,\n",
        "                 noise_level=0)\n",
        "                # ricap_apply=False,\n",
        "                #  ricap_prob=0.05,\n",
        "                #  ricap_beta=0.32)\n",
        "\n",
        "end = time.perf_counter()\n",
        "\n",
        "print(f\"\\n\\nTime taken: {(end - start)//60} minutes and {int((end - start)%60)} seconds\")"
      ],
      "execution_count": 41,
      "outputs": [
        {
          "output_type": "stream",
          "text": [
            "\r  0%|          | 0/98 [00:00<?, ?it/s]"
          ],
          "name": "stderr"
        },
        {
          "output_type": "stream",
          "text": [
            "\n",
            "\n",
            "\n",
            "epoch num ===================================== 1\n",
            "LR at epoch 1 start: --> [0.00104]\n",
            "\n"
          ],
          "name": "stdout"
        },
        {
          "output_type": "stream",
          "text": [
            "100%|██████████| 98/98 [00:08<00:00, 11.43it/s]"
          ],
          "name": "stderr"
        },
        {
          "output_type": "stream",
          "text": [
            "\n",
            "\n",
            "Ricap applied: 0.00 percent of total batch iterations\n",
            "\n",
            "\t\t\tTrain metrics: accuracy: 17453/50000 (34.9060%)\n"
          ],
          "name": "stdout"
        },
        {
          "output_type": "stream",
          "text": [
            "\n",
            "  0%|          | 0/98 [00:00<?, ?it/s]"
          ],
          "name": "stderr"
        },
        {
          "output_type": "stream",
          "text": [
            "\n",
            "\tTest metrics: average loss: 0.0033, accuracy: 4904/10000 (49.04000%)\n",
            "\n",
            "\n",
            "\n",
            "\n",
            "epoch num ===================================== 2\n",
            "LR at epoch 2 start: --> [0.004015042568718073]\n",
            "\n"
          ],
          "name": "stdout"
        },
        {
          "output_type": "stream",
          "text": [
            "100%|██████████| 98/98 [00:08<00:00, 11.36it/s]"
          ],
          "name": "stderr"
        },
        {
          "output_type": "stream",
          "text": [
            "\n",
            "\n",
            "Ricap applied: 0.00 percent of total batch iterations\n",
            "\n",
            "\t\t\tTrain metrics: accuracy: 14037/50000 (28.0740%)\n"
          ],
          "name": "stdout"
        },
        {
          "output_type": "stream",
          "text": [
            "\n",
            "  0%|          | 0/98 [00:00<?, ?it/s]"
          ],
          "name": "stderr"
        },
        {
          "output_type": "stream",
          "text": [
            "\n",
            "\tTest metrics: average loss: 0.0037, accuracy: 3647/10000 (36.47000%)\n",
            "\n",
            "\n",
            "\n",
            "\n",
            "epoch num ===================================== 3\n",
            "LR at epoch 3 start: --> [0.006990085137436148]\n",
            "\n"
          ],
          "name": "stdout"
        },
        {
          "output_type": "stream",
          "text": [
            "100%|██████████| 98/98 [00:08<00:00, 11.81it/s]"
          ],
          "name": "stderr"
        },
        {
          "output_type": "stream",
          "text": [
            "\n",
            "\n",
            "Ricap applied: 0.00 percent of total batch iterations\n",
            "\n",
            "\t\t\tTrain metrics: accuracy: 20482/50000 (40.9640%)\n"
          ],
          "name": "stdout"
        },
        {
          "output_type": "stream",
          "text": [
            "\n",
            "  0%|          | 0/98 [00:00<?, ?it/s]"
          ],
          "name": "stderr"
        },
        {
          "output_type": "stream",
          "text": [
            "\n",
            "\tTest metrics: average loss: 0.0032, accuracy: 4995/10000 (49.95000%)\n",
            "\n",
            "\n",
            "\n",
            "\n",
            "epoch num ===================================== 4\n",
            "LR at epoch 4 start: --> [0.009965127706154221]\n",
            "\n"
          ],
          "name": "stdout"
        },
        {
          "output_type": "stream",
          "text": [
            "100%|██████████| 98/98 [00:08<00:00, 12.01it/s]"
          ],
          "name": "stderr"
        },
        {
          "output_type": "stream",
          "text": [
            "\n",
            "\n",
            "Ricap applied: 0.00 percent of total batch iterations\n",
            "\n",
            "\t\t\tTrain metrics: accuracy: 24511/50000 (49.0220%)\n"
          ],
          "name": "stdout"
        },
        {
          "output_type": "stream",
          "text": [
            "\n",
            "  0%|          | 0/98 [00:00<?, ?it/s]"
          ],
          "name": "stderr"
        },
        {
          "output_type": "stream",
          "text": [
            "\n",
            "\tTest metrics: average loss: 0.0030, accuracy: 5529/10000 (55.29000%)\n",
            "\n",
            "\n",
            "\n",
            "\n",
            "epoch num ===================================== 5\n",
            "LR at epoch 5 start: --> [0.012940170274872294]\n",
            "\n"
          ],
          "name": "stdout"
        },
        {
          "output_type": "stream",
          "text": [
            "100%|██████████| 98/98 [00:08<00:00, 11.93it/s]"
          ],
          "name": "stderr"
        },
        {
          "output_type": "stream",
          "text": [
            "\n",
            "\n",
            "Ricap applied: 0.00 percent of total batch iterations\n",
            "\n",
            "\t\t\tTrain metrics: accuracy: 27027/50000 (54.0540%)\n"
          ],
          "name": "stdout"
        },
        {
          "output_type": "stream",
          "text": [
            "\n",
            "  0%|          | 0/98 [00:00<?, ?it/s]"
          ],
          "name": "stderr"
        },
        {
          "output_type": "stream",
          "text": [
            "\n",
            "\tTest metrics: average loss: 0.0031, accuracy: 5497/10000 (54.97000%)\n",
            "\n",
            "\n",
            "\n",
            "\n",
            "epoch num ===================================== 6\n",
            "LR at epoch 6 start: --> [0.01591521284359037]\n",
            "\n"
          ],
          "name": "stdout"
        },
        {
          "output_type": "stream",
          "text": [
            "100%|██████████| 98/98 [00:08<00:00, 12.04it/s]"
          ],
          "name": "stderr"
        },
        {
          "output_type": "stream",
          "text": [
            "\n",
            "\n",
            "Ricap applied: 0.00 percent of total batch iterations\n",
            "\n",
            "\t\t\tTrain metrics: accuracy: 29600/50000 (59.2000%)\n"
          ],
          "name": "stdout"
        },
        {
          "output_type": "stream",
          "text": [
            "\n",
            "  0%|          | 0/98 [00:00<?, ?it/s]"
          ],
          "name": "stderr"
        },
        {
          "output_type": "stream",
          "text": [
            "\n",
            "\tTest metrics: average loss: 0.0028, accuracy: 6247/10000 (62.47000%)\n",
            "\n",
            "\n",
            "\n",
            "\n",
            "epoch num ===================================== 7\n",
            "LR at epoch 7 start: --> [0.018890255412308442]\n",
            "\n"
          ],
          "name": "stdout"
        },
        {
          "output_type": "stream",
          "text": [
            "100%|██████████| 98/98 [00:08<00:00, 11.84it/s]"
          ],
          "name": "stderr"
        },
        {
          "output_type": "stream",
          "text": [
            "\n",
            "\n",
            "Ricap applied: 0.00 percent of total batch iterations\n",
            "\n",
            "\t\t\tTrain metrics: accuracy: 31853/50000 (63.7060%)\n"
          ],
          "name": "stdout"
        },
        {
          "output_type": "stream",
          "text": [
            "\n",
            "  0%|          | 0/98 [00:00<?, ?it/s]"
          ],
          "name": "stderr"
        },
        {
          "output_type": "stream",
          "text": [
            "\n",
            "\tTest metrics: average loss: 0.0025, accuracy: 6827/10000 (68.27000%)\n",
            "\n",
            "\n",
            "\n",
            "\n",
            "epoch num ===================================== 8\n",
            "LR at epoch 8 start: --> [0.021865297981026516]\n",
            "\n"
          ],
          "name": "stdout"
        },
        {
          "output_type": "stream",
          "text": [
            "100%|██████████| 98/98 [00:08<00:00, 11.30it/s]"
          ],
          "name": "stderr"
        },
        {
          "output_type": "stream",
          "text": [
            "\n",
            "\n",
            "Ricap applied: 0.00 percent of total batch iterations\n",
            "\n",
            "\t\t\tTrain metrics: accuracy: 33810/50000 (67.6200%)\n"
          ],
          "name": "stdout"
        },
        {
          "output_type": "stream",
          "text": [
            "\n",
            "  0%|          | 0/98 [00:00<?, ?it/s]"
          ],
          "name": "stderr"
        },
        {
          "output_type": "stream",
          "text": [
            "\n",
            "\tTest metrics: average loss: 0.0025, accuracy: 6968/10000 (69.68000%)\n",
            "\n",
            "\n",
            "\n",
            "\n",
            "epoch num ===================================== 9\n",
            "LR at epoch 9 start: --> [0.02484034054974459]\n",
            "\n"
          ],
          "name": "stdout"
        },
        {
          "output_type": "stream",
          "text": [
            "100%|██████████| 98/98 [00:08<00:00, 11.21it/s]"
          ],
          "name": "stderr"
        },
        {
          "output_type": "stream",
          "text": [
            "\n",
            "\n",
            "Ricap applied: 0.00 percent of total batch iterations\n",
            "\n",
            "\t\t\tTrain metrics: accuracy: 35190/50000 (70.3800%)\n"
          ],
          "name": "stdout"
        },
        {
          "output_type": "stream",
          "text": [
            "\n",
            "  0%|          | 0/98 [00:00<?, ?it/s]"
          ],
          "name": "stderr"
        },
        {
          "output_type": "stream",
          "text": [
            "\n",
            "\tTest metrics: average loss: 0.0023, accuracy: 7396/10000 (73.96000%)\n",
            "\n",
            "\n",
            "\n",
            "\n",
            "epoch num ===================================== 10\n",
            "LR at epoch 10 start: --> [0.02498299726530612]\n",
            "\n"
          ],
          "name": "stdout"
        },
        {
          "output_type": "stream",
          "text": [
            "100%|██████████| 98/98 [00:08<00:00, 11.59it/s]"
          ],
          "name": "stderr"
        },
        {
          "output_type": "stream",
          "text": [
            "\n",
            "\n",
            "Ricap applied: 0.00 percent of total batch iterations\n",
            "\n",
            "\t\t\tTrain metrics: accuracy: 37587/50000 (75.1740%)\n"
          ],
          "name": "stdout"
        },
        {
          "output_type": "stream",
          "text": [
            "\n",
            "  0%|          | 0/98 [00:00<?, ?it/s]"
          ],
          "name": "stderr"
        },
        {
          "output_type": "stream",
          "text": [
            "\n",
            "\tTest metrics: average loss: 0.0021, accuracy: 7807/10000 (78.07000%)\n",
            "\n",
            "\n",
            "\n",
            "\n",
            "epoch num ===================================== 11\n",
            "LR at epoch 11 start: --> [0.02331633726530612]\n",
            "\n"
          ],
          "name": "stdout"
        },
        {
          "output_type": "stream",
          "text": [
            "100%|██████████| 98/98 [00:08<00:00, 11.83it/s]"
          ],
          "name": "stderr"
        },
        {
          "output_type": "stream",
          "text": [
            "\n",
            "\n",
            "Ricap applied: 0.00 percent of total batch iterations\n",
            "\n",
            "\t\t\tTrain metrics: accuracy: 38908/50000 (77.8160%)\n"
          ],
          "name": "stdout"
        },
        {
          "output_type": "stream",
          "text": [
            "\n",
            "  0%|          | 0/98 [00:00<?, ?it/s]"
          ],
          "name": "stderr"
        },
        {
          "output_type": "stream",
          "text": [
            "\n",
            "\tTest metrics: average loss: 0.0021, accuracy: 7867/10000 (78.67000%)\n",
            "\n",
            "\n",
            "\n",
            "\n",
            "epoch num ===================================== 12\n",
            "LR at epoch 12 start: --> [0.02164967726530612]\n",
            "\n"
          ],
          "name": "stdout"
        },
        {
          "output_type": "stream",
          "text": [
            "100%|██████████| 98/98 [00:08<00:00, 11.84it/s]"
          ],
          "name": "stderr"
        },
        {
          "output_type": "stream",
          "text": [
            "\n",
            "\n",
            "Ricap applied: 0.00 percent of total batch iterations\n",
            "\n",
            "\t\t\tTrain metrics: accuracy: 39993/50000 (79.9860%)\n"
          ],
          "name": "stdout"
        },
        {
          "output_type": "stream",
          "text": [
            "\n",
            "  0%|          | 0/98 [00:00<?, ?it/s]"
          ],
          "name": "stderr"
        },
        {
          "output_type": "stream",
          "text": [
            "\n",
            "\tTest metrics: average loss: 0.0020, accuracy: 8080/10000 (80.80000%)\n",
            "\n",
            "\n",
            "\n",
            "\n",
            "epoch num ===================================== 13\n",
            "LR at epoch 13 start: --> [0.019983017265306123]\n",
            "\n"
          ],
          "name": "stdout"
        },
        {
          "output_type": "stream",
          "text": [
            "100%|██████████| 98/98 [00:08<00:00, 11.86it/s]"
          ],
          "name": "stderr"
        },
        {
          "output_type": "stream",
          "text": [
            "\n",
            "\n",
            "Ricap applied: 0.00 percent of total batch iterations\n",
            "\n",
            "\t\t\tTrain metrics: accuracy: 40969/50000 (81.9380%)\n"
          ],
          "name": "stdout"
        },
        {
          "output_type": "stream",
          "text": [
            "\n",
            "  0%|          | 0/98 [00:00<?, ?it/s]"
          ],
          "name": "stderr"
        },
        {
          "output_type": "stream",
          "text": [
            "\n",
            "\tTest metrics: average loss: 0.0021, accuracy: 7930/10000 (79.30000%)\n",
            "\n",
            "\n",
            "\n",
            "\n",
            "epoch num ===================================== 14\n",
            "LR at epoch 14 start: --> [0.018316357265306123]\n",
            "\n"
          ],
          "name": "stdout"
        },
        {
          "output_type": "stream",
          "text": [
            "100%|██████████| 98/98 [00:08<00:00, 12.15it/s]"
          ],
          "name": "stderr"
        },
        {
          "output_type": "stream",
          "text": [
            "\n",
            "\n",
            "Ricap applied: 0.00 percent of total batch iterations\n",
            "\n",
            "\t\t\tTrain metrics: accuracy: 41662/50000 (83.3240%)\n"
          ],
          "name": "stdout"
        },
        {
          "output_type": "stream",
          "text": [
            "\n",
            "  0%|          | 0/98 [00:00<?, ?it/s]"
          ],
          "name": "stderr"
        },
        {
          "output_type": "stream",
          "text": [
            "\n",
            "\tTest metrics: average loss: 0.0020, accuracy: 8162/10000 (81.62000%)\n",
            "\n",
            "\n",
            "\n",
            "\n",
            "epoch num ===================================== 15\n",
            "LR at epoch 15 start: --> [0.016649697265306122]\n",
            "\n"
          ],
          "name": "stdout"
        },
        {
          "output_type": "stream",
          "text": [
            "100%|██████████| 98/98 [00:08<00:00, 11.27it/s]"
          ],
          "name": "stderr"
        },
        {
          "output_type": "stream",
          "text": [
            "\n",
            "\n",
            "Ricap applied: 0.00 percent of total batch iterations\n",
            "\n",
            "\t\t\tTrain metrics: accuracy: 42278/50000 (84.5560%)\n"
          ],
          "name": "stdout"
        },
        {
          "output_type": "stream",
          "text": [
            "\n",
            "  0%|          | 0/98 [00:00<?, ?it/s]"
          ],
          "name": "stderr"
        },
        {
          "output_type": "stream",
          "text": [
            "\n",
            "\tTest metrics: average loss: 0.0019, accuracy: 8213/10000 (82.13000%)\n",
            "\n",
            "\n",
            "\n",
            "\n",
            "epoch num ===================================== 16\n",
            "LR at epoch 16 start: --> [0.014983037265306122]\n",
            "\n"
          ],
          "name": "stdout"
        },
        {
          "output_type": "stream",
          "text": [
            "100%|██████████| 98/98 [00:08<00:00, 11.11it/s]"
          ],
          "name": "stderr"
        },
        {
          "output_type": "stream",
          "text": [
            "\n",
            "\n",
            "Ricap applied: 0.00 percent of total batch iterations\n",
            "\n",
            "\t\t\tTrain metrics: accuracy: 42917/50000 (85.8340%)\n"
          ],
          "name": "stdout"
        },
        {
          "output_type": "stream",
          "text": [
            "\n",
            "  0%|          | 0/98 [00:00<?, ?it/s]"
          ],
          "name": "stderr"
        },
        {
          "output_type": "stream",
          "text": [
            "\n",
            "\tTest metrics: average loss: 0.0019, accuracy: 8340/10000 (83.40000%)\n",
            "\n",
            "\n",
            "\n",
            "\n",
            "epoch num ===================================== 17\n",
            "LR at epoch 17 start: --> [0.013316377265306122]\n",
            "\n"
          ],
          "name": "stdout"
        },
        {
          "output_type": "stream",
          "text": [
            "100%|██████████| 98/98 [00:08<00:00, 11.32it/s]"
          ],
          "name": "stderr"
        },
        {
          "output_type": "stream",
          "text": [
            "\n",
            "\n",
            "Ricap applied: 0.00 percent of total batch iterations\n",
            "\n",
            "\t\t\tTrain metrics: accuracy: 43494/50000 (86.9880%)\n"
          ],
          "name": "stdout"
        },
        {
          "output_type": "stream",
          "text": [
            "\n",
            "  0%|          | 0/98 [00:00<?, ?it/s]"
          ],
          "name": "stderr"
        },
        {
          "output_type": "stream",
          "text": [
            "\n",
            "\tTest metrics: average loss: 0.0019, accuracy: 8420/10000 (84.20000%)\n",
            "\n",
            "\n",
            "\n",
            "\n",
            "epoch num ===================================== 18\n",
            "LR at epoch 18 start: --> [0.011649717265306125]\n",
            "\n"
          ],
          "name": "stdout"
        },
        {
          "output_type": "stream",
          "text": [
            "100%|██████████| 98/98 [00:08<00:00, 11.83it/s]"
          ],
          "name": "stderr"
        },
        {
          "output_type": "stream",
          "text": [
            "\n",
            "\n",
            "Ricap applied: 0.00 percent of total batch iterations\n",
            "\n",
            "\t\t\tTrain metrics: accuracy: 44033/50000 (88.0660%)\n"
          ],
          "name": "stdout"
        },
        {
          "output_type": "stream",
          "text": [
            "\n",
            "  0%|          | 0/98 [00:00<?, ?it/s]"
          ],
          "name": "stderr"
        },
        {
          "output_type": "stream",
          "text": [
            "\n",
            "\tTest metrics: average loss: 0.0018, accuracy: 8459/10000 (84.59000%)\n",
            "\n",
            "\n",
            "\n",
            "\n",
            "epoch num ===================================== 19\n",
            "LR at epoch 19 start: --> [0.009983057265306124]\n",
            "\n"
          ],
          "name": "stdout"
        },
        {
          "output_type": "stream",
          "text": [
            "100%|██████████| 98/98 [00:08<00:00, 11.91it/s]"
          ],
          "name": "stderr"
        },
        {
          "output_type": "stream",
          "text": [
            "\n",
            "\n",
            "Ricap applied: 0.00 percent of total batch iterations\n",
            "\n",
            "\t\t\tTrain metrics: accuracy: 44314/50000 (88.6280%)\n"
          ],
          "name": "stdout"
        },
        {
          "output_type": "stream",
          "text": [
            "\n",
            "  0%|          | 0/98 [00:00<?, ?it/s]"
          ],
          "name": "stderr"
        },
        {
          "output_type": "stream",
          "text": [
            "\n",
            "\tTest metrics: average loss: 0.0018, accuracy: 8473/10000 (84.73000%)\n",
            "\n",
            "\n",
            "\n",
            "\n",
            "epoch num ===================================== 20\n",
            "LR at epoch 20 start: --> [0.00831639726530612]\n",
            "\n"
          ],
          "name": "stdout"
        },
        {
          "output_type": "stream",
          "text": [
            "100%|██████████| 98/98 [00:08<00:00, 12.12it/s]"
          ],
          "name": "stderr"
        },
        {
          "output_type": "stream",
          "text": [
            "\n",
            "\n",
            "Ricap applied: 0.00 percent of total batch iterations\n",
            "\n",
            "\t\t\tTrain metrics: accuracy: 44791/50000 (89.5820%)\n"
          ],
          "name": "stdout"
        },
        {
          "output_type": "stream",
          "text": [
            "\n",
            "  0%|          | 0/98 [00:00<?, ?it/s]"
          ],
          "name": "stderr"
        },
        {
          "output_type": "stream",
          "text": [
            "\n",
            "\tTest metrics: average loss: 0.0018, accuracy: 8526/10000 (85.26000%)\n",
            "\n",
            "\n",
            "\n",
            "\n",
            "epoch num ===================================== 21\n",
            "LR at epoch 21 start: --> [0.00664973726530612]\n",
            "\n"
          ],
          "name": "stdout"
        },
        {
          "output_type": "stream",
          "text": [
            "100%|██████████| 98/98 [00:08<00:00, 12.01it/s]"
          ],
          "name": "stderr"
        },
        {
          "output_type": "stream",
          "text": [
            "\n",
            "\n",
            "Ricap applied: 0.00 percent of total batch iterations\n",
            "\n",
            "\t\t\tTrain metrics: accuracy: 45102/50000 (90.2040%)\n"
          ],
          "name": "stdout"
        },
        {
          "output_type": "stream",
          "text": [
            "\n",
            "  0%|          | 0/98 [00:00<?, ?it/s]"
          ],
          "name": "stderr"
        },
        {
          "output_type": "stream",
          "text": [
            "\n",
            "\tTest metrics: average loss: 0.0018, accuracy: 8598/10000 (85.98000%)\n",
            "\n",
            "\n",
            "\n",
            "\n",
            "epoch num ===================================== 22\n",
            "LR at epoch 22 start: --> [0.004983077265306123]\n",
            "\n"
          ],
          "name": "stdout"
        },
        {
          "output_type": "stream",
          "text": [
            "100%|██████████| 98/98 [00:08<00:00, 11.33it/s]"
          ],
          "name": "stderr"
        },
        {
          "output_type": "stream",
          "text": [
            "\n",
            "\n",
            "Ricap applied: 0.00 percent of total batch iterations\n",
            "\n",
            "\t\t\tTrain metrics: accuracy: 45409/50000 (90.8180%)\n"
          ],
          "name": "stdout"
        },
        {
          "output_type": "stream",
          "text": [
            "\n",
            "  0%|          | 0/98 [00:00<?, ?it/s]"
          ],
          "name": "stderr"
        },
        {
          "output_type": "stream",
          "text": [
            "\n",
            "\tTest metrics: average loss: 0.0018, accuracy: 8598/10000 (85.98000%)\n",
            "\n",
            "\n",
            "\n",
            "\n",
            "epoch num ===================================== 23\n",
            "LR at epoch 23 start: --> [0.003316417265306123]\n",
            "\n"
          ],
          "name": "stdout"
        },
        {
          "output_type": "stream",
          "text": [
            "100%|██████████| 98/98 [00:08<00:00, 11.26it/s]"
          ],
          "name": "stderr"
        },
        {
          "output_type": "stream",
          "text": [
            "\n",
            "\n",
            "Ricap applied: 0.00 percent of total batch iterations\n",
            "\n",
            "\t\t\tTrain metrics: accuracy: 45765/50000 (91.5300%)\n"
          ],
          "name": "stdout"
        },
        {
          "output_type": "stream",
          "text": [
            "\n",
            "  0%|          | 0/98 [00:00<?, ?it/s]"
          ],
          "name": "stderr"
        },
        {
          "output_type": "stream",
          "text": [
            "\n",
            "\tTest metrics: average loss: 0.0018, accuracy: 8630/10000 (86.30000%)\n",
            "\n",
            "\n",
            "\n",
            "\n",
            "epoch num ===================================== 24\n",
            "LR at epoch 24 start: --> [0.0016497572653061225]\n",
            "\n"
          ],
          "name": "stdout"
        },
        {
          "output_type": "stream",
          "text": [
            "100%|██████████| 98/98 [00:08<00:00, 11.43it/s]"
          ],
          "name": "stderr"
        },
        {
          "output_type": "stream",
          "text": [
            "\n",
            "\n",
            "Ricap applied: 0.00 percent of total batch iterations\n",
            "\n",
            "\t\t\tTrain metrics: accuracy: 45969/50000 (91.9380%)\n"
          ],
          "name": "stdout"
        },
        {
          "output_type": "stream",
          "text": [
            "\n"
          ],
          "name": "stderr"
        },
        {
          "output_type": "stream",
          "text": [
            "\n",
            "\tTest metrics: average loss: 0.0018, accuracy: 8658/10000 (86.58000%)\n",
            "\n",
            "\n",
            "\n",
            "Time taken: 3.0 minutes and 42 seconds\n"
          ],
          "name": "stdout"
        }
      ]
    },
    {
      "cell_type": "code",
      "metadata": {
        "id": "EfOfjnwQ6d3m",
        "colab": {
          "base_uri": "https://localhost:8080/",
          "height": 607
        },
        "outputId": "7293330b-9996-4ac4-f5f2-c41274ffa722"
      },
      "source": [
        "plot_graphs(train_losses=train_losses, train_accuracy=train_accuracy,\n",
        "            test_losses=test_losses,test_accuracy=test_accuracy)    "
      ],
      "execution_count": 42,
      "outputs": [
        {
          "output_type": "display_data",
          "data": {
            "image/png": "[encoded data removed]",
            "text/plain": [
              "<Figure size 1440x720 with 4 Axes>"
            ]
          },
          "metadata": {
            "tags": [],
            "needs_background": "light"
          }
        }
      ]
    },
    {
      "cell_type": "code",
      "metadata": {
        "id": "7P9ivkWMq-21",
        "colab": {
          "base_uri": "https://localhost:8080/",
          "height": 282
        },
        "outputId": "9578df34-c48c-4599-8159-8aae99671645"
      },
      "source": [
        "plt.plot(*zip(*lr_epochs))"
      ],
      "execution_count": 43,
      "outputs": [
        {
          "output_type": "execute_result",
          "data": {
            "text/plain": [
              "[<matplotlib.lines.Line2D at 0x7f0e15e6e110>]"
            ]
          },
          "metadata": {
            "tags": []
          },
          "execution_count": 43
        },
        {
          "output_type": "display_data",
          "data": {
            "image/png": "[encoded data removed]",
            "text/plain": [
              "<Figure size 432x288 with 1 Axes>"
            ]
          },
          "metadata": {
            "tags": [],
            "needs_background": "light"
          }
        }
      ]
    },
    {
      "cell_type": "code",
      "metadata": {
        "id": "p8WIwzZDzILX"
      },
      "source": [
        ""
      ],
      "execution_count": 26,
      "outputs": []
    }
  ]
}