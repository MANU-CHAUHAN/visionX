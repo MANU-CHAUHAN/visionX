{
  "nbformat": 4,
  "nbformat_minor": 0,
  "metadata": {
    "accelerator": "GPU",
    "colab": {
      "name": "Custom ResNet Cifar10 with RICAP train 94 test 92.42 S9.ipynb",
      "provenance": [],
      "collapsed_sections": []
    },
    "kernelspec": {
      "display_name": "Python 3",
      "name": "python3"
    },
    "language_info": {
      "codemirror_mode": {
        "name": "ipython",
        "version": 3
      },
      "file_extension": ".py",
      "mimetype": "text/x-python",
      "name": "python",
      "nbconvert_exporter": "python",
      "pygments_lexer": "ipython3",
      "version": "3.6.6"
    }
  },
  "cells": [
    {
      "cell_type": "code",
      "metadata": {
        "colab": {
          "base_uri": "https://localhost:8080/"
        },
        "id": "yrACTK9GvN8I",
        "outputId": "c837bb74-c022-430e-a342-75417fc94238"
      },
      "source": [
        "!pip install --upgrade albumentations"
      ],
      "execution_count": 1,
      "outputs": [
        {
          "output_type": "stream",
          "text": [
            "Requirement already satisfied: albumentations in /usr/local/lib/python3.7/dist-packages (1.0.3)\n",
            "Requirement already satisfied: opencv-python-headless>=4.1.1 in /usr/local/lib/python3.7/dist-packages (from albumentations) (4.5.3.56)\n",
            "Requirement already satisfied: PyYAML in /usr/local/lib/python3.7/dist-packages (from albumentations) (3.13)\n",
            "Requirement already satisfied: scipy in /usr/local/lib/python3.7/dist-packages (from albumentations) (1.4.1)\n",
            "Requirement already satisfied: numpy>=1.11.1 in /usr/local/lib/python3.7/dist-packages (from albumentations) (1.19.5)\n",
            "Requirement already satisfied: scikit-image>=0.16.1 in /usr/local/lib/python3.7/dist-packages (from albumentations) (0.16.2)\n",
            "Requirement already satisfied: pillow>=4.3.0 in /usr/local/lib/python3.7/dist-packages (from scikit-image>=0.16.1->albumentations) (7.1.2)\n",
            "Requirement already satisfied: networkx>=2.0 in /usr/local/lib/python3.7/dist-packages (from scikit-image>=0.16.1->albumentations) (2.5.1)\n",
            "Requirement already satisfied: imageio>=2.3.0 in /usr/local/lib/python3.7/dist-packages (from scikit-image>=0.16.1->albumentations) (2.4.1)\n",
            "Requirement already satisfied: PyWavelets>=0.4.0 in /usr/local/lib/python3.7/dist-packages (from scikit-image>=0.16.1->albumentations) (1.1.1)\n",
            "Requirement already satisfied: matplotlib!=3.0.0,>=2.0.0 in /usr/local/lib/python3.7/dist-packages (from scikit-image>=0.16.1->albumentations) (3.2.2)\n",
            "Requirement already satisfied: kiwisolver>=1.0.1 in /usr/local/lib/python3.7/dist-packages (from matplotlib!=3.0.0,>=2.0.0->scikit-image>=0.16.1->albumentations) (1.3.1)\n",
            "Requirement already satisfied: pyparsing!=2.0.4,!=2.1.2,!=2.1.6,>=2.0.1 in /usr/local/lib/python3.7/dist-packages (from matplotlib!=3.0.0,>=2.0.0->scikit-image>=0.16.1->albumentations) (2.4.7)\n",
            "Requirement already satisfied: python-dateutil>=2.1 in /usr/local/lib/python3.7/dist-packages (from matplotlib!=3.0.0,>=2.0.0->scikit-image>=0.16.1->albumentations) (2.8.1)\n",
            "Requirement already satisfied: cycler>=0.10 in /usr/local/lib/python3.7/dist-packages (from matplotlib!=3.0.0,>=2.0.0->scikit-image>=0.16.1->albumentations) (0.10.0)\n",
            "Requirement already satisfied: six in /usr/local/lib/python3.7/dist-packages (from cycler>=0.10->matplotlib!=3.0.0,>=2.0.0->scikit-image>=0.16.1->albumentations) (1.15.0)\n",
            "Requirement already satisfied: decorator<5,>=4.3 in /usr/local/lib/python3.7/dist-packages (from networkx>=2.0->scikit-image>=0.16.1->albumentations) (4.4.2)\n"
          ],
          "name": "stdout"
        }
      ]
    },
    {
      "cell_type": "code",
      "metadata": {
        "id": "-yVpodAMpoCi"
      },
      "source": [
        "import torch\n",
        "import torchvision\n",
        "import cv2\n",
        "import numpy as np\n",
        "import torchvision.transforms as transforms\n",
        "import torch.nn as nn\n",
        "import torch.nn.functional as F\n",
        "from torchsummary import summary\n",
        "import torch.optim as optim\n",
        "from tqdm import tqdm\n",
        "from torch.optim.lr_scheduler import StepLR\n",
        "from functools import partial\n",
        "import time\n",
        "from copy import deepcopy\n",
        "\n",
        "%matplotlib inline\n",
        "\n",
        "conv = partial(nn.Conv2d, bias=False)\n",
        "bn = nn.BatchNorm2d\n",
        "relu = nn.ReLU\n",
        "\n",
        "classes = ('plane', 'car', 'bird', 'cat', 'deer', 'dog', 'frog', 'horse', 'ship', 'truck')"
      ],
      "execution_count": 2,
      "outputs": []
    },
    {
      "cell_type": "code",
      "metadata": {
        "id": "oH4IWUA1SNGa"
      },
      "source": [
        "import albumentations as A\n",
        "from albumentations.pytorch.transforms import ToTensorV2, ToTensor\n",
        "\n",
        "# torch.backends.cudnn.benchmark = True"
      ],
      "execution_count": 3,
      "outputs": []
    },
    {
      "cell_type": "code",
      "metadata": {
        "colab": {
          "base_uri": "https://localhost:8080/"
        },
        "id": "D8Tjigo2poCl",
        "outputId": "4105bef9-0c84-4a64-ed6f-832d68b59b8b"
      },
      "source": [
        "transform = transforms.Compose([transforms.ToTensor()]) # simple ToTensor for now\n",
        "\n",
        "train_set = torchvision.datasets.CIFAR10(root='./cifar10', download=True, train=True, transform=transform)\n"
      ],
      "execution_count": 4,
      "outputs": [
        {
          "output_type": "stream",
          "text": [
            "Files already downloaded and verified\n"
          ],
          "name": "stdout"
        }
      ]
    },
    {
      "cell_type": "code",
      "metadata": {
        "colab": {
          "base_uri": "https://localhost:8080/"
        },
        "id": "Pcq0CLIKTX-o",
        "outputId": "e27257ed-7ecf-447b-cbf8-4da640fa2f30"
      },
      "source": [
        "train_set.data.shape # train data shape"
      ],
      "execution_count": 5,
      "outputs": [
        {
          "output_type": "execute_result",
          "data": {
            "text/plain": [
              "(50000, 32, 32, 3)"
            ]
          },
          "metadata": {
            "tags": []
          },
          "execution_count": 5
        }
      ]
    },
    {
      "cell_type": "code",
      "metadata": {
        "colab": {
          "base_uri": "https://localhost:8080/"
        },
        "id": "6KuCnj_Y3Ktj",
        "outputId": "e498d775-00d7-4467-f99a-a96c119b6757"
      },
      "source": [
        "type(train_set.data), type(train_set.targets)"
      ],
      "execution_count": 6,
      "outputs": [
        {
          "output_type": "execute_result",
          "data": {
            "text/plain": [
              "(numpy.ndarray, list)"
            ]
          },
          "metadata": {
            "tags": []
          },
          "execution_count": 6
        }
      ]
    },
    {
      "cell_type": "code",
      "metadata": {
        "id": "ldxJ0FQ-Wuum"
      },
      "source": [
        "# calculate mean and standard deviation\n",
        "\n",
        "mean = np.mean(train_set.data, axis=(0,1,2))\n",
        "\n",
        "\n",
        "sdev = np.std(train_set.data, axis=(0, 1, 2))\n"
      ],
      "execution_count": 7,
      "outputs": []
    },
    {
      "cell_type": "code",
      "metadata": {
        "colab": {
          "base_uri": "https://localhost:8080/"
        },
        "id": "Et6ZlJd1f1i2",
        "outputId": "28451a17-d992-471f-d5d0-6e872cfa9baf"
      },
      "source": [
        "mean.shape"
      ],
      "execution_count": 8,
      "outputs": [
        {
          "output_type": "execute_result",
          "data": {
            "text/plain": [
              "(3,)"
            ]
          },
          "metadata": {
            "tags": []
          },
          "execution_count": 8
        }
      ]
    },
    {
      "cell_type": "code",
      "metadata": {
        "id": "c05SafsfuY58"
      },
      "source": [
        "mean = mean/255\n",
        "sdev = sdev/255"
      ],
      "execution_count": 9,
      "outputs": []
    },
    {
      "cell_type": "code",
      "metadata": {
        "colab": {
          "base_uri": "https://localhost:8080/"
        },
        "id": "1NrvhVCrvIBS",
        "outputId": "4bea1f54-57b1-4d26-a928-418684d033d0"
      },
      "source": [
        "SEED = 101\n",
        "BATCH = 512\n",
        "\n",
        "cuda = torch.cuda.is_available()\n",
        "print(\"CUDA Available?\", cuda)\n",
        "\n",
        "if cuda:\n",
        "    torch.cuda.manual_seed(SEED)\n",
        "\n",
        "device = torch.device(\"cuda\" if cuda else \"cpu\")\n",
        "\n",
        "# dataloader arguments\n",
        "dataloader_args = dict(shuffle=True, batch_size=BATCH, num_workers=2, pin_memory=True)\\\n",
        "    if cuda else dict(shuffle=True, batch_size=32)\n"
      ],
      "execution_count": 10,
      "outputs": [
        {
          "output_type": "stream",
          "text": [
            "CUDA Available? True\n"
          ],
          "name": "stdout"
        }
      ]
    },
    {
      "cell_type": "code",
      "metadata": {
        "id": "HR3JHR-8iDrL"
      },
      "source": [
        "# dataset= torchvision.datasets.CIFAR10(root='./cifar10/data/', transform=transform, train= True, download=True)\n",
        "# test_set= torchvision.datasets.CIFAR10(root=\"./cifar10/data/\", transform=transform, train= False)\n",
        "\n",
        "# def ZCA_whitening(X):\n",
        "#     X= X.reshape((-1, np.product(X.shape[1:])))\n",
        "#     X_centered= X - np.mean(X, axis= 0)\n",
        "#     Sigma= np.dot(X_centered.T, X_centered) / X_centered.shape[0]\n",
        "#     U, Lambda, _= np.linalg.svd(Sigma)\n",
        "#     W= np.dot(U, np.dot(np.diag(1.0/np.sqrt(Lambda + 1e-5)), U.T))\n",
        "    \n",
        "#     X_ZCA= np.dot(X_centered, W.T)\n",
        "#     X_ZCA_rescaled = (X_ZCA - X_ZCA.min()) / (X_ZCA.max() - X_ZCA.min())\n",
        "#     return X_ZCA_rescaled\n"
      ],
      "execution_count": 11,
      "outputs": []
    },
    {
      "cell_type": "code",
      "metadata": {
        "id": "mRNm3sRYhs4e"
      },
      "source": [
        "# ref: https://discuss.pytorch.org/t/how-to-apply-the-zca-whitening-matrix-correctly-with-lineartransformation/19168\n",
        "def computeZCAMAtrix():\n",
        "    root = 'cifar10/' \n",
        "    temp= torchvision.datasets.CIFAR10(root = root,\n",
        "                                  train = True,\n",
        "                                  download = True)\n",
        "        \n",
        "    #normalize the data to [0 1] range\n",
        "    temp.data=temp.data/255\n",
        "    \n",
        "    #compute mean and std and normalize the data to -1 1 range with 1 std\n",
        "    mean=temp.data.mean(axis=(0,1,2))\n",
        "    std=temp.data.std(axis=(0,1,2))   \n",
        "    temp.data=np.multiply(1/std,np.add(temp.data,-mean)) \n",
        "    \n",
        "    \n",
        "    #reshape data from M x C x W x H to M x N where N=C x W x H \n",
        "    X = temp.data\n",
        "    X = X.reshape(-1, 3072)\n",
        "    \n",
        "    # compute the covariance \n",
        "    cov = np.cov(X, rowvar=False)   # cov is (N, N)\n",
        "    \n",
        "    # singular value decomposition\n",
        "    U,S,V = np.linalg.svd(cov)     # U is (N, N), S is (N,1) V is (N,N)\n",
        "    # build the ZCA matrix which is (N,N)\n",
        "    epsilon = 1e-5\n",
        "    zca_matrix = np.dot(U, np.dot(np.diag(1.0/np.sqrt(S + epsilon)), U.T))\n",
        "    return (torch.from_numpy(zca_matrix).float(), torch.from_numpy(mean), std)  \n",
        "\n",
        "\n",
        "# taken from : https://github.com/semi-supervised-paper/semi-supervised-paper-implementation/blob/e39b61ccab/semi_supervised/core/utils/data_util.py#L150\n",
        "class ZCATransformation(object):\n",
        "    def __init__(self, transformation_matrix, transformation_mean):\n",
        "        if transformation_matrix.size(0) != transformation_matrix.size(1):\n",
        "            raise ValueError(\"transformation_matrix should be square. Got \" +\n",
        "                             \"[{} x {}] rectangular matrix.\".format(*transformation_matrix.size()))\n",
        "        self.transformation_matrix = transformation_matrix\n",
        "        self.transformation_mean = transformation_mean\n",
        "\n",
        "    def __call__(self, tensor):\n",
        "        \"\"\"\n",
        "        Args:\n",
        "            tensor (Tensor): Tensor image of size (N, C, H, W) to be whitened.\n",
        "        Returns:\n",
        "            Tensor: Transformed image.\n",
        "        \"\"\"\n",
        "        if tensor.size(1) * tensor.size(2) * tensor.size(3) != self.transformation_matrix.size(0):\n",
        "            raise ValueError(\"tensor and transformation matrix have incompatible shape.\" +\n",
        "                             \"[{} x {} x {}] != \".format(*tensor[0].size()) +\n",
        "                             \"{}\".format(self.transformation_matrix.size(0)))\n",
        "        \n",
        "        c1_mean, c2_mean, c3_mean = self.transformation_mean\n",
        "        \n",
        "        tensor[:, 0, :, :] = tensor[:, 0, :, :] - c1_mean\n",
        "        tensor[:, 1, :, :] = tensor[:, 1, :, :] - c2_mean\n",
        "        tensor[:, 2, :, :] = tensor[:, 2, :, :] - c3_mean\n",
        "\n",
        "        batch = tensor.size(0)\n",
        "\n",
        "        flat_tensor = tensor.view(batch, -1)\n",
        "        transformed_tensor = torch.mm(flat_tensor , self.transformation_matrix)\n",
        "\n",
        "        tensor = transformed_tensor.view(tensor.size())\n",
        "        return tensor\n",
        "\n",
        "    def __repr__(self):\n",
        "        format_string = self.__class__.__name__ + '('\n",
        "        format_string += (str(self.transformation_matrix.numpy().tolist()) + ')')\n",
        "        return format_string"
      ],
      "execution_count": 12,
      "outputs": []
    },
    {
      "cell_type": "code",
      "metadata": {
        "id": "V1H3Hr6XeOKm"
      },
      "source": [
        "# dataset_zca= ZCA_whitening(dataset.data)\n",
        "# test_set_zca= ZCA_whitening(test_set.data)\n",
        "\n",
        "# dataset_zca= torch.tensor(dataset_zca.reshape(-1,3, 32,32))\n",
        "# test_set_zca= torch.tensor(test_set_zca.reshape(-1,3, 32,32))"
      ],
      "execution_count": 13,
      "outputs": []
    },
    {
      "cell_type": "code",
      "metadata": {
        "id": "ytNVrMtZesJi"
      },
      "source": [
        "# print(dataset.data.mean())\n",
        "# print(test_set.data.shape)\n",
        "# print(dataset_zca.mean())"
      ],
      "execution_count": 14,
      "outputs": []
    },
    {
      "cell_type": "code",
      "metadata": {
        "id": "av0yATtWpFpV"
      },
      "source": [
        "# class GaussNoise():\n",
        "#     def __init__(self, mean , sdev):\n",
        "#         self.mean = mean\n",
        "#         self.sdev = sdev\n",
        "    \n",
        "#     def __call__(self, tensor=None, size=None):\n",
        "#         if tensor:\n",
        "#             val= torch.rand(tensor.size(), dtype=tensor.dtype) * self.sdev + self.mean\n",
        "\n",
        "#             return val\n",
        "#         else:\n",
        "#             return np.random.rand(size) * self.sdev + self.mean"
      ],
      "execution_count": 15,
      "outputs": []
    },
    {
      "cell_type": "code",
      "metadata": {
        "id": "6rSOG7WpQ9SE"
      },
      "source": [
        "class LabelSmoothingCrossEntropy(nn.Module):\n",
        "    def __init__(self):\n",
        "        super(LabelSmoothingCrossEntropy, self).__init__()\n",
        "    def forward(self, x, target, smoothing=0.1):\n",
        "        confidence = 1. - smoothing\n",
        "        logprobs = F.log_softmax(x, dim=-1)\n",
        "        nll_loss = -logprobs.gather(dim=-1, index=target.unsqueeze(1))\n",
        "        nll_loss = nll_loss.squeeze(1)\n",
        "        smooth_loss = -logprobs.mean(dim=-1)\n",
        "        loss = confidence * nll_loss + smoothing * smooth_loss\n",
        "        return loss.mean()"
      ],
      "execution_count": 16,
      "outputs": []
    },
    {
      "cell_type": "code",
      "metadata": {
        "id": "aZUgWZziEyiE"
      },
      "source": [
        "# noise = GaussNoise(mean=mean, sdev=sdev)\n",
        "# noise_to_add = noise(size=mean.shape[0])\n",
        "# noise(size=1)[0], noise_to_add"
      ],
      "execution_count": 17,
      "outputs": []
    },
    {
      "cell_type": "code",
      "metadata": {
        "id": "5Lp6WM7M-ULg"
      },
      "source": [
        "def apply_ricap(*, batch, beta=0.3):\n",
        "\n",
        "    input, target = batch\n",
        "\n",
        "    I_x, I_y = input.size()[2:]\n",
        "\n",
        "    w = int(np.round(I_x * np.random.beta(beta, beta)))\n",
        "    h = int(np.round(I_y * np.random.beta(beta, beta)))\n",
        "    w_ = [w, I_x - w, w, I_x - w]\n",
        "    h_ = [h, h, I_y - h, I_y - h]\n",
        "\n",
        "    cropped_images = {}\n",
        "    c_ = {}\n",
        "    W_ = {}\n",
        "\n",
        "    for k in range(4):\n",
        "        idx = torch.randperm(input.size(0))\n",
        "        x_k = np.random.randint(0, I_x - w_[k] + 1)\n",
        "        y_k = np.random.randint(0, I_y - h_[k] + 1)\n",
        "        cropped_images[k] = input[idx][:, :, x_k:x_k + w_[k], y_k:y_k + h_[k]]\n",
        "        c_[k] = target[idx].cuda()\n",
        "        W_[k] = w_[k] * h_[k] / (I_x * I_y)\n",
        "\n",
        "    patched_images = torch.cat(\n",
        "        (torch.cat((cropped_images[0], cropped_images[1]), 2),\n",
        "         torch.cat((cropped_images[2], cropped_images[3]), 2)),\n",
        "        3)\n",
        "\n",
        "    patched_images = patched_images.cuda()\n",
        "    \n",
        "    return patched_images, W_, c_"
      ],
      "execution_count": 18,
      "outputs": []
    },
    {
      "cell_type": "code",
      "metadata": {
        "id": "e06s6GhFG7PD"
      },
      "source": [
        "lr_epochs = []\n",
        "\n",
        "def accuracy(output, target, topk=(1,)):\n",
        "    \"\"\"Computes the accuracy over the k top predictions for the specified values of k\"\"\"\n",
        "    with torch.no_grad():\n",
        "        maxk = max(topk)\n",
        "        batch_size = target.size(0)\n",
        "\n",
        "        _, pred = output.topk(maxk, 1, True, True)\n",
        "        pred = pred.t()\n",
        "        correct = pred.eq(target.view(1, -1).expand_as(pred))\n",
        "\n",
        "        res = []\n",
        "        for k in topk:\n",
        "            correct_k = correct[:k].view(-1).float().sum(0, keepdim=True)\n",
        "            res.append(correct_k.mul_(100.0 / batch_size))\n",
        "        return res\n",
        "\n",
        "\n",
        "\n",
        "def train(model, device, train_loader, optimizer, scheduler,\n",
        "          criterion, train_acc, train_loss, epoch, ricap_apply=False,\n",
        "          ricap_beta=0.1, ricap_stop_epoch=15, end_lr_factor=0.1,\n",
        "          end_cycle_lr_epoch=21):   \n",
        "    \n",
        "    def update_end_lr():\n",
        "        lr = optimizer.param_groups[0]['lr']\n",
        "        for grp in optimizer.param_groups:\n",
        "            grp['lr'] = lr * end_lr_factor\n",
        "        # l = optimizer.param_groups[0]['lr']\n",
        "        # return {20: l/75, 21:l/60, 22:l/30, 23:l/10, 25:l/2}.get(epoch, 0.0001) # to experiment with reduction factors, last 2 can be lowered further instead of 10\n",
        "\n",
        "    model.train()\n",
        "    pbar = tqdm(train_loader)\n",
        "    # scaler = torch.cuda.amp.GradScaler()  # create grad scaler\n",
        "    correct = 0\n",
        "    processed = 0\n",
        "    ricap = False\n",
        "    acc = 0.\n",
        "    lr_epochs.append((epoch, optimizer.param_groups[0]['lr']))\n",
        "    print(f\"\\nEpoch num: {epoch}  |  LR: {optimizer.param_groups[0]['lr']:.10f}\", end=\"\\n\")\n",
        "\n",
        "    for batch_idx, (data, target) in enumerate(pbar):\n",
        "        \n",
        "        data, target = data.to(device), target.to(device)\n",
        "        optimizer.zero_grad()\n",
        "        \n",
        "        if ricap_apply is True and epoch < ricap_stop_epoch:\n",
        "            data, W_, c_ = apply_ricap(batch=(data, target), beta=ricap_beta)\n",
        "            y_pred = model(data)\n",
        "            loss = sum([W_[k] * criterion(y_pred, c_[k]) for k in range(4)])\n",
        "            acc = sum([W_[k] * accuracy(y_pred, c_[k])[0] for k in range(4)]).item()\n",
        "        else:\n",
        "            y_pred = model(data)\n",
        "            loss = criterion(y_pred, target)  \n",
        "        \n",
        "        loss.backward()\n",
        "        optimizer.step()\n",
        "\n",
        "        if epoch < end_cycle_lr_epoch:\n",
        "            scheduler.step()\n",
        "        else:\n",
        "            update_end_lr()\n",
        "\n",
        "        pred = y_pred.argmax(dim=1, keepdim=True)  # get the index of the max log-probability\n",
        "        correct += pred.eq(target.view_as(pred)).sum().item()\n",
        "        processed += len(data)\n",
        "        \n",
        "        acc = 100 * correct / processed if not ricap_apply else acc\n",
        "        pbar.set_description(desc=f'Loss={loss.item()} Accuracy={acc:.2f}')\n",
        "    train_loss.append(loss.data.cpu().numpy().item())\n",
        "    train_acc.append(100 * correct / processed) "
      ],
      "execution_count": 19,
      "outputs": []
    },
    {
      "cell_type": "code",
      "metadata": {
        "id": "3YsCTwvZG69B"
      },
      "source": [
        "def test(model, device, test_loader, test_acc, test_losses):\n",
        "    model.eval()\n",
        "    test_loss = 0\n",
        "    correct = 0\n",
        "    with torch.no_grad():\n",
        "        for data, target in test_loader:\n",
        "            data, target = data.to(device), target.to(device)\n",
        "            output = model(data)\n",
        "            test_loss += F.cross_entropy(output, target).item()  # sum up batch loss\n",
        "            pred = output.argmax(dim=1, keepdim=True)  # get the index of the max log-probability\n",
        "            correct += pred.eq(target.view_as(pred)).sum().item()\n",
        "\n",
        "    test_loss /= len(test_loader.dataset)\n",
        "    test_losses.append(test_loss)\n",
        "\n",
        "    print('\\nTest set: Average loss: {:.5f}, Accuracy: {}/{} ({:.3f}%)\\n'.format(\n",
        "        test_loss, correct, len(test_loader.dataset),\n",
        "        100. * correct / len(test_loader.dataset)))\n",
        "    test_acc.append(100. * correct / len(test_loader.dataset))"
      ],
      "execution_count": 20,
      "outputs": []
    },
    {
      "cell_type": "code",
      "metadata": {
        "id": "kkuRfo1IpoC3"
      },
      "source": [
        "def train_eval_model(model, train_loader, optimizer, device, epochs=1,\n",
        "                     criterion=None,\n",
        "                     test=False, test_loader=None,\n",
        "                     scheduler=None,\n",
        "                     grad_clip=None,\n",
        "                     grad_clip_start_epoch=None,\n",
        "                     grad_clip_end_epoch=None,\n",
        "                     l1=False, lambda_1=0.001,\n",
        "                     noise_level=0.1,\n",
        "                     ricap_apply=False,\n",
        "                     ricap_beta=0.3,\n",
        "                     ricap_prob=0.1):\n",
        "    if not model:\n",
        "        raise NotImplementedError(\"\\nNo model provided\")\n",
        "    if not train_loader:\n",
        "        raise NotImplementedError(\"\\nTrain Loader not provided\")\n",
        "    if not optimizer:\n",
        "        raise NotImplementedError(\"\\nOptimizer not provided\")\n",
        "    if not device:\n",
        "        raise ValueError(\"\\nno device provided, kindly provide CPU or Cuda to use\")\n",
        "    if ricap_apply:\n",
        "        print(f\"\\n\\nRICAP has been set to True with probability: {ricap_prob} and Beta value: {ricap_beta}\")\n",
        "    \n",
        "    # if `criterion` is not given use CrossEntropy Loss as default\n",
        "    if not criterion:\n",
        "        criterion = nn.CrossEntropyLoss()\n",
        "\n",
        "    scaler = torch.cuda.amp.GradScaler()  # create grad scaler\n",
        "    \n",
        "    # iterate over for `epochs` epochs and keep storing valuable info\n",
        "    for epoch in range(epochs):\n",
        "        print(f\"\\n\\n\\nepoch num ===================================== {epoch + 1}\")\n",
        "        correct = processed = train_loss = regularization_loss = 0\n",
        "        model.train()  # set the train mode\n",
        "        pbar = tqdm(train_loader)\n",
        "        ricap_count = 0\n",
        "\n",
        "        if scheduler:\n",
        "            last_lr = scheduler.get_last_lr()\n",
        "            lr_epochs.append((epoch + 1, last_lr))\n",
        "            print(f\"LR at epoch {epoch + 1} start: -->\", last_lr, end=\"\\n\\n\")\n",
        "\n",
        "        if l1:\n",
        "            for param in model.parameters():\n",
        "                regularization_loss += torch.sum(abs(param))\n",
        "\n",
        "        for batch_idx, (data, target) in enumerate(pbar):\n",
        "            data, target = data.to(device), target.to(device)  # move data to `device`\n",
        "\n",
        "            optimizer.zero_grad()  # zero out the gradients to avoid accumulating them over loops\n",
        "\n",
        "            # apply RICAP is flag is True and `ricap_prob` greater than random number\n",
        "            if ricap_apply and (ricap_prob > np.random.random()):\n",
        "                # print(f\"Applying RICAP\")\n",
        "                ricap_count += 1\n",
        "                data = apply_ricap(batch=(data, target), beta=ricap_beta)\n",
        "\n",
        "            # with torch.cuda.amp.autocast():\n",
        "            output = model(data)  # get model's predictions\n",
        "              \n",
        "            loss = criterion(output, target) + lambda_1 * regularization_loss\n",
        "            #   loss += noise(tensor=loss)\n",
        "\n",
        "            train_loss += loss.item()\n",
        "\n",
        "            # scaler.scale(loss).backward()\n",
        "            loss.backward() # to perform backpropagation and calculate the gradients\n",
        "\n",
        "            # if gradient clipping is to be used\n",
        "            if grad_clip and grad_clip_start_epoch <= epoch <= grad_clip_end_epoch:\n",
        "                nn.utils.clip_grad_value_(model.parameters(), grad_clip)\n",
        "\n",
        "            optimizer.step() # take 1 step for the optimizer and update the weights\n",
        "\n",
        "            pred = output.argmax(dim=1, keepdim=True)  # get the index of the max log-probability\n",
        "\n",
        "            correct += pred.eq(target.view_as(\n",
        "                pred)).sum().item()  # compare and see how many predictions are coorect and then add up the count\n",
        "\n",
        "            processed += len(data)  # total processed data size\n",
        "\n",
        "            # scaler.step(optimizer)\n",
        "            # scaler.update()\n",
        "\n",
        "            if scheduler:\n",
        "                scheduler.step()\n",
        "\n",
        "        acc = 100 * correct / processed\n",
        "\n",
        "        train_losses.append(train_loss)\n",
        "\n",
        "        train_accuracy.append(acc)\n",
        "\n",
        "        pbar.set_description(desc=f'loss={loss.item()} batch_id={batch_idx}')\n",
        "\n",
        "        total_batch_iters = len(train_loader)\n",
        "        ricap_perc = ricap_count/total_batch_iters\n",
        "        print(f\"\\n\\nRicap applied: {ricap_perc * 100:.2f} percent of total batch iterations\")\n",
        "\n",
        "        train_loss /= len(train_loader.dataset)\n",
        "        print('\\n\\t\\t\\tTrain metrics: accuracy: {}/{} ({:.4f}%)'.format(correct, len(train_loader.dataset),\n",
        "                                                                        correct * 100 / len(train_loader.dataset)))\n",
        "\n",
        "        if test:  # moving to evaluation\n",
        "            model.eval()  # set the correct mode\n",
        "            correct = test_loss = 0\n",
        "\n",
        "            with torch.no_grad():  # to disable gradient calculation with no_grad context\n",
        "                for data, target in test_loader:\n",
        "                    data, target = data.to(device), target.to(device)\n",
        "\n",
        "                    output = model(data)\n",
        "\n",
        "                    test_loss += criterion(output, target).sum().item()  # sum up batch loss\n",
        "\n",
        "                    pred = output.argmax(dim=1, keepdim=True)  # get the index of the max log-probability\n",
        "\n",
        "                    correct += pred.eq(target.view_as(pred)).sum().item()\n",
        "\n",
        "            test_loss /= len(test_loader.dataset)\n",
        "            test_losses.append(test_loss)\n",
        "            test_accuracy.append(100. * correct / len(test_loader.dataset))\n",
        "\n",
        "            print('\\n\\tTest metrics: average loss: {:.4f}, accuracy: {}/{} ({:.5f}%)\\n'.format(\n",
        "                test_loss, correct, len(test_loader.dataset),\n",
        "                100. * correct / len(test_loader.dataset)))\n"
      ],
      "execution_count": 21,
      "outputs": []
    },
    {
      "cell_type": "code",
      "metadata": {
        "id": "GifNf68LwCav"
      },
      "source": [
        "def plot_graphs(*, train_losses, train_accuracy, test_losses, test_accuracy):\n",
        "    fig, axs = plt.subplots(2,2,figsize=(20,10))\n",
        "    axs[0, 0].plot(train_losses)\n",
        "    axs[0, 0].set_title(\"Training Loss\")\n",
        "    axs[1, 0].plot(train_accuracy)\n",
        "    axs[1, 0].set_title(\"Training Accuracy\")\n",
        "    axs[0, 1].plot(test_losses)\n",
        "    axs[0, 1].set_title(\"Test Loss\")\n",
        "    axs[1, 1].plot(test_accuracy)\n",
        "    axs[1, 1].set_title(\"Test Accuracy\")"
      ],
      "execution_count": 22,
      "outputs": []
    },
    {
      "cell_type": "code",
      "metadata": {
        "id": "w_hwQGwmzahO"
      },
      "source": [
        "class Cifar10SearchDataset(torchvision.datasets.CIFAR10):\n",
        "    def __init__(self, root=\"./data/cifar10\", train=True, download=True, transform=None):\n",
        "        super().__init__(root=root, train=train, download=download, transform=transform)\n",
        "\n",
        "    def __getitem__(self, index):\n",
        "        image, label = self.data[index], self.targets[index]\n",
        "\n",
        "        if self.transform is not None:\n",
        "            transformed = self.transform(image=image)\n",
        "            image = transformed[\"image\"]\n",
        "\n",
        "        return image, label"
      ],
      "execution_count": 23,
      "outputs": []
    },
    {
      "cell_type": "code",
      "metadata": {
        "id": "jQxABQTxkMh2"
      },
      "source": [
        "# mat, m, s = computeZCAMAtrix()"
      ],
      "execution_count": 24,
      "outputs": []
    },
    {
      "cell_type": "code",
      "metadata": {
        "id": "rxD4liDelXDy"
      },
      "source": [
        "# zca = ZCATransformation(transformation_matrix=mat, transformation_mean=m)"
      ],
      "execution_count": 25,
      "outputs": []
    },
    {
      "cell_type": "code",
      "metadata": {
        "id": "trNiivNwhn13"
      },
      "source": [
        "# transforms\n",
        "# cutout p: 0.5 -> 0.4 -> 0.2 -> \n",
        "# scshrt: 0.2-> \n",
        "# jitter: 0.1 -> 0.2\n",
        "train_transforms = A.Compose([     \n",
        "                    A.Sequential([\n",
        "                    A.CropAndPad(px=4, keep_size=False),\n",
        "                    A.RandomCrop(32,32)]),\n",
        "                    A.HorizontalFlip(p=0.5),\n",
        "                    A.ShiftScaleRotate(rotate_limit=30, p=0.1),\n",
        "                    A.ColorJitter(p=0.1),\n",
        "                    # A.FancyPCA(p=0.15),\n",
        "                    A.CoarseDropout(p=0.9, max_holes = 2, min_holes=1, max_height=8, max_width=8,\n",
        "                                    fill_value=(0.4914, 0.4822, 0.4465)),\n",
        "                    A.Normalize(mean=(0.4914, 0.4822, 0.4465), std=(0.247, 0.243, 0.261)),\n",
        "                    ToTensorV2(),\n",
        "                    ])\n",
        "\n",
        "test_transforms = A.Compose([\n",
        "                  A.HorizontalFlip(p=0.5),\n",
        "                #   A.ShiftScaleRotate(rotate_limit=30, p=0.1),\n",
        "                  A.Normalize(mean=(0.4914, 0.4822, 0.4465), std=(0.247, 0.243, 0.261)),\n",
        "                  ToTensorV2()\n",
        "                ])"
      ],
      "execution_count": 51,
      "outputs": []
    },
    {
      "cell_type": "code",
      "metadata": {
        "colab": {
          "base_uri": "https://localhost:8080/"
        },
        "id": "4HAK6Y1Uhn14",
        "outputId": "f8c2ec65-9fe6-4761-f5db-4e89ffd629b2"
      },
      "source": [
        "# data sets with transforms\n",
        "train_set = Cifar10SearchDataset(train=True, download=True, transform=train_transforms)\n",
        "\n",
        "test_set = Cifar10SearchDataset(train=False, download=True, transform=test_transforms)\n",
        "\n",
        "\n",
        "# data loaders on data sets\n",
        "train_loader = torch.utils.data.DataLoader(dataset=train_set, **dataloader_args)\n",
        "\n",
        "test_loader = torch.utils.data.DataLoader(test_set, **dataloader_args)"
      ],
      "execution_count": 52,
      "outputs": [
        {
          "output_type": "stream",
          "text": [
            "Files already downloaded and verified\n",
            "Files already downloaded and verified\n"
          ],
          "name": "stdout"
        }
      ]
    },
    {
      "cell_type": "code",
      "metadata": {
        "colab": {
          "base_uri": "https://localhost:8080/",
          "height": 1000
        },
        "id": "3DkWGTxGhn15",
        "outputId": "4bf886b6-c41b-472e-e1f1-ed70bb7cb19f"
      },
      "source": [
        "from __future__ import print_function\n",
        "# channel_means = (0.49196659, 0.48229005, 0.4461573)\n",
        "# channel_stdevs = (0.24703223, 0.24348513, 0.26158784)\n",
        "def unnormalize(img):\n",
        "  img = img.numpy().astype(dtype=np.float32)\n",
        "  \n",
        "  for i in range(img.shape[0]):\n",
        "    img[i] = (img[i]*sdev[i])+mean[i]\n",
        "  \n",
        "  return np.transpose(img, (1,2,0))\n",
        "\n",
        "%matplotlib inline\n",
        "import matplotlib.pyplot as plt\n",
        "dataiter = iter(train_loader)\n",
        "images, labels = dataiter.next()\n",
        "\n",
        "print(images.shape)\n",
        "print(labels.shape)\n",
        "\n",
        "num_classes = 10\n",
        "# display 10 images from each category. \n",
        "class_names = ['airplane','automobile','bird','cat','deer',\n",
        "               'dog','frog','horse','ship','truck']\n",
        "r, c = 10, 11\n",
        "n = 5\n",
        "fig = plt.figure(figsize=(15,15))\n",
        "fig.subplots_adjust(hspace=0.2, wspace=0.2)\n",
        "for i in range(num_classes):\n",
        "    idx = np.random.choice(np.where(labels[:]==i)[0], n)\n",
        "    ax = plt.subplot(r, c, i*c+1)\n",
        "    ax.text(-1.5, 0.5, class_names[i], fontsize=14)\n",
        "    plt.axis('off')\n",
        "    for j in range(1, n+1):\n",
        "      plt.subplot(r, c, i*c+j+1)\n",
        "      plt.imshow(unnormalize(images[idx[j-1]]), interpolation='none')\n",
        "      plt.axis('off')\n",
        "plt.show()"
      ],
      "execution_count": 53,
      "outputs": [
        {
          "output_type": "stream",
          "text": [
            "Clipping input data to the valid range for imshow with RGB data ([0..1] for floats or [0..255] for integers).\n",
            "Clipping input data to the valid range for imshow with RGB data ([0..1] for floats or [0..255] for integers).\n",
            "Clipping input data to the valid range for imshow with RGB data ([0..1] for floats or [0..255] for integers).\n",
            "Clipping input data to the valid range for imshow with RGB data ([0..1] for floats or [0..255] for integers).\n"
          ],
          "name": "stderr"
        },
        {
          "output_type": "stream",
          "text": [
            "torch.Size([512, 3, 32, 32])\n",
            "torch.Size([512])\n"
          ],
          "name": "stdout"
        },
        {
          "output_type": "stream",
          "text": [
            "Clipping input data to the valid range for imshow with RGB data ([0..1] for floats or [0..255] for integers).\n",
            "Clipping input data to the valid range for imshow with RGB data ([0..1] for floats or [0..255] for integers).\n",
            "Clipping input data to the valid range for imshow with RGB data ([0..1] for floats or [0..255] for integers).\n",
            "Clipping input data to the valid range for imshow with RGB data ([0..1] for floats or [0..255] for integers).\n",
            "Clipping input data to the valid range for imshow with RGB data ([0..1] for floats or [0..255] for integers).\n",
            "Clipping input data to the valid range for imshow with RGB data ([0..1] for floats or [0..255] for integers).\n",
            "Clipping input data to the valid range for imshow with RGB data ([0..1] for floats or [0..255] for integers).\n",
            "Clipping input data to the valid range for imshow with RGB data ([0..1] for floats or [0..255] for integers).\n",
            "Clipping input data to the valid range for imshow with RGB data ([0..1] for floats or [0..255] for integers).\n",
            "Clipping input data to the valid range for imshow with RGB data ([0..1] for floats or [0..255] for integers).\n",
            "Clipping input data to the valid range for imshow with RGB data ([0..1] for floats or [0..255] for integers).\n",
            "Clipping input data to the valid range for imshow with RGB data ([0..1] for floats or [0..255] for integers).\n",
            "Clipping input data to the valid range for imshow with RGB data ([0..1] for floats or [0..255] for integers).\n",
            "Clipping input data to the valid range for imshow with RGB data ([0..1] for floats or [0..255] for integers).\n",
            "Clipping input data to the valid range for imshow with RGB data ([0..1] for floats or [0..255] for integers).\n",
            "Clipping input data to the valid range for imshow with RGB data ([0..1] for floats or [0..255] for integers).\n",
            "Clipping input data to the valid range for imshow with RGB data ([0..1] for floats or [0..255] for integers).\n",
            "Clipping input data to the valid range for imshow with RGB data ([0..1] for floats or [0..255] for integers).\n",
            "Clipping input data to the valid range for imshow with RGB data ([0..1] for floats or [0..255] for integers).\n",
            "Clipping input data to the valid range for imshow with RGB data ([0..1] for floats or [0..255] for integers).\n",
            "Clipping input data to the valid range for imshow with RGB data ([0..1] for floats or [0..255] for integers).\n",
            "Clipping input data to the valid range for imshow with RGB data ([0..1] for floats or [0..255] for integers).\n",
            "Clipping input data to the valid range for imshow with RGB data ([0..1] for floats or [0..255] for integers).\n",
            "Clipping input data to the valid range for imshow with RGB data ([0..1] for floats or [0..255] for integers).\n",
            "Clipping input data to the valid range for imshow with RGB data ([0..1] for floats or [0..255] for integers).\n",
            "Clipping input data to the valid range for imshow with RGB data ([0..1] for floats or [0..255] for integers).\n",
            "Clipping input data to the valid range for imshow with RGB data ([0..1] for floats or [0..255] for integers).\n",
            "Clipping input data to the valid range for imshow with RGB data ([0..1] for floats or [0..255] for integers).\n",
            "Clipping input data to the valid range for imshow with RGB data ([0..1] for floats or [0..255] for integers).\n",
            "Clipping input data to the valid range for imshow with RGB data ([0..1] for floats or [0..255] for integers).\n",
            "Clipping input data to the valid range for imshow with RGB data ([0..1] for floats or [0..255] for integers).\n",
            "Clipping input data to the valid range for imshow with RGB data ([0..1] for floats or [0..255] for integers).\n",
            "Clipping input data to the valid range for imshow with RGB data ([0..1] for floats or [0..255] for integers).\n",
            "Clipping input data to the valid range for imshow with RGB data ([0..1] for floats or [0..255] for integers).\n",
            "Clipping input data to the valid range for imshow with RGB data ([0..1] for floats or [0..255] for integers).\n",
            "Clipping input data to the valid range for imshow with RGB data ([0..1] for floats or [0..255] for integers).\n",
            "Clipping input data to the valid range for imshow with RGB data ([0..1] for floats or [0..255] for integers).\n",
            "Clipping input data to the valid range for imshow with RGB data ([0..1] for floats or [0..255] for integers).\n",
            "Clipping input data to the valid range for imshow with RGB data ([0..1] for floats or [0..255] for integers).\n",
            "Clipping input data to the valid range for imshow with RGB data ([0..1] for floats or [0..255] for integers).\n",
            "Clipping input data to the valid range for imshow with RGB data ([0..1] for floats or [0..255] for integers).\n",
            "Clipping input data to the valid range for imshow with RGB data ([0..1] for floats or [0..255] for integers).\n",
            "Clipping input data to the valid range for imshow with RGB data ([0..1] for floats or [0..255] for integers).\n",
            "Clipping input data to the valid range for imshow with RGB data ([0..1] for floats or [0..255] for integers).\n",
            "Clipping input data to the valid range for imshow with RGB data ([0..1] for floats or [0..255] for integers).\n"
          ],
          "name": "stderr"
        },
        {
          "output_type": "display_data",
          "data": {
            "image/png": "[encoded data removed]",
            "text/plain": [
              "<Figure size 1080x1080 with 60 Axes>"
            ]
          },
          "metadata": {
            "tags": [],
            "needs_background": "light"
          }
        }
      ]
    },
    {
      "cell_type": "code",
      "metadata": {
        "id": "nO39LCr0Y98q"
      },
      "source": [
        "class GBN(torch.nn.Module):\n",
        "    \"\"\"\n",
        "    Ghost Batch Normalization\n",
        "    \"\"\"\n",
        "\n",
        "    def __init__(self, input_dim, virtual_batch_size=128, momentum=0.01):\n",
        "        super(GBN, self).__init__()\n",
        "\n",
        "        self.input_dim = input_dim\n",
        "        self.virtual_batch_size = virtual_batch_size\n",
        "        self.bn = nn.BatchNorm2d(self.input_dim, momentum=momentum)\n",
        "\n",
        "    def forward(self, x):\n",
        "        chunks = x.chunk(int(np.ceil(x.shape[0] / self.virtual_batch_size)), 0)\n",
        "        res = [self.bn(x_) for x_ in chunks]\n",
        "\n",
        "        return torch.cat(res, dim=0)"
      ],
      "execution_count": 55,
      "outputs": []
    },
    {
      "cell_type": "code",
      "metadata": {
        "id": "cyt1meAKyrgW"
      },
      "source": [
        "# def get_conv_block(in_channels=3, out_channels=64, max_pool=False):\n",
        "#     layers = [nn.Conv2d(in_channels, out_channels, kernel_size=3, padding=1, bias=False)]\n",
        "    \n",
        "#     if max_pool:\n",
        "#         layers.append(nn.MaxPool2d(2))\n",
        "\n",
        "#     layers.extend([nn.BatchNorm2d(out_channels, momentum=0.8),\n",
        "#                    nn.ReLU(inplace=True)])\n",
        "\n",
        "#     return nn.Sequential(*layers)\n",
        "\n",
        "# \"\"\"Pre-activated approach, try with this now\n",
        "#    Only notable difference is pre-act block is 1 second quicker on each epoch\n",
        "# \"\"\"\n",
        "\n",
        "# # def get_conv_block(in_channels=3, out_channels=64, max_pool=False, groups=1):\n",
        "# #     layers = [nn.BatchNorm2d(in_channels, momentum=0.7),\n",
        "# #                    nn.ReLU(inplace=True)]\n",
        "    \n",
        "# #     if max_pool:\n",
        "# #         layers.append(nn.MaxPool2d(2))\n",
        "\n",
        "# #     layers.append(nn.Conv2d(in_channels, out_channels, kernel_size=3, padding=1, groups=groups, bias=False))\n",
        "\n",
        "# #     return nn.Sequential(*layers)\n",
        "\n",
        "# class CustomResNet(nn.Module):\n",
        "#     def __init__(self):\n",
        "#         super().__init__()\n",
        "#         self.in_planes = 3\n",
        "#         self.num_classes = num_classes\n",
        "        \n",
        "#         # use this if pre-act block is used\n",
        "#         # self.conv1 = nn.Sequential(\n",
        "#         #     nn.Conv2d(in_planes, 64, 3, padding=1, bias=False),\n",
        "#         #     nn.BatchNorm2d(64, momentum=0.7),\n",
        "#         #     nn.ReLU(inplace=True)\n",
        "#         # )\n",
        "\n",
        "#         self.conv1 = get_conv_block(3, 64)\n",
        "\n",
        "#         self.conv2 = get_conv_block(in_channels = 64, out_channels = 128, max_pool=True)\n",
        "\n",
        "#         self.res1 = nn.Sequential(get_conv_block(in_channels=128, out_channels=128), get_conv_block(in_channels=128, out_channels=128))\n",
        "        \n",
        "#         self.conv3 = get_conv_block(128, 256, max_pool=True)\n",
        "\n",
        "#         self.conv4 = get_conv_block(256, 512, max_pool=True)\n",
        "        \n",
        "#         self.res2 = nn.Sequential(get_conv_block(512, 512), get_conv_block(512, 512))\n",
        "#         self.last_mx = out = nn.MaxPool2d(4)\n",
        "#         self.classifier = nn.Linear(512, num_classes, bias=False)\n",
        "#         # self.extra_1 = nn.Sequential(\n",
        "#         #     nn.Conv2d(64, 128, 1, stride=2),\n",
        "#         #     nn.BatchNorm2d(128),\n",
        "#         #     nn.ReLU(),\n",
        "#         #     nn.Conv2d(128, 256, 3, stride=1, padding=1),\n",
        "#         #     nn.BatchNorm2d(256),\n",
        "#         #     nn.ReLU(),\n",
        "#         #     nn.MaxPool2d(2)\n",
        "#         # )\n",
        "        \n",
        "#     def forward(self, x):\n",
        "#         x1 = out = self.conv1(x)\n",
        "#         out = self.conv2(out)\n",
        "#         out = out + self.res1(out)\n",
        "#         out = self.conv3(out) #+ self.extra_1(x1)\n",
        "#         out = self.conv4(out)\n",
        "#         out = out + self.res2(out)\n",
        "#         out = self.last_mx(out)\n",
        "#         out = out.view(out.size(0), -1)\n",
        "#         out = self.classifier(out)\n",
        "#         # out = out.view(-1, self.num_classes)\n",
        "#         out = F.softmax(out, dim=-1)\n",
        "#         return out"
      ],
      "execution_count": 30,
      "outputs": []
    },
    {
      "cell_type": "code",
      "metadata": {
        "id": "H-5HkineCS8R"
      },
      "source": [
        "# re-write\n",
        "\n",
        "conv3x3 = partial(nn.Conv2d, bias=False)\n",
        "bn = nn.BatchNorm2d\n",
        "bn_momentum = 0.3\n",
        "class CustomResNet(nn.Module): \n",
        "    def __init__(self):\n",
        "        super().__init__()\n",
        "        self.prep = nn.Sequential(\n",
        "            conv3x3(3, 64, 3, padding=1), \n",
        "            bn(64,momentum=bn_momentum,),\n",
        "            nn.ReLU())\n",
        "\n",
        "        self.layer1 = nn.Sequential(\n",
        "            conv3x3(64, 128, 3, padding=1), \n",
        "            nn.MaxPool2d(2, 2),\n",
        "            bn(128,momentum=bn_momentum),\n",
        "            nn.ReLU())\n",
        "\n",
        "        self.res1 = nn.Sequential(\n",
        "            conv3x3(128, 128, 3, padding=1), \n",
        "            bn(128,momentum=bn_momentum),\n",
        "            nn.ReLU(),\n",
        "            conv3x3(128, 128, 3, padding=1), \n",
        "            bn(128,momentum=bn_momentum),\n",
        "            nn.ReLU()\n",
        "        )\n",
        "\n",
        "        self.layer2 =  nn.Sequential(\n",
        "            conv3x3(128, 256,3, padding=1), \n",
        "            nn.MaxPool2d(2, 2),\n",
        "            bn(256,momentum=bn_momentum),\n",
        "            nn.ReLU()\n",
        "        )\n",
        "\n",
        "        self.layer3 = nn.Sequential(\n",
        "            conv3x3(256, 512, 3, padding=1), \n",
        "            nn.MaxPool2d(2, 2),\n",
        "            bn(512,momentum=bn_momentum),\n",
        "            nn.ReLU()\n",
        "        )\n",
        "\n",
        "        self.res3 = nn.Sequential(\n",
        "            conv3x3(512, 512, 3, padding=1), \n",
        "            bn(512,momentum=bn_momentum),\n",
        "            nn.ReLU(),\n",
        "            conv3x3(512, 512, 3, padding=1),\n",
        "            bn(512,momentum=bn_momentum),\n",
        "            nn.ReLU()\n",
        "        )\n",
        "\n",
        "        self.final_max = nn.MaxPool2d(4)\n",
        "        self.fc = nn.Linear(in_features = 512, out_features = 10, bias=False)\n",
        "\n",
        "    def forward(self, x):\n",
        "\n",
        "        prep = self.prep(x)\n",
        "\n",
        "        layer1 = self.layer1(prep)\n",
        "        res1 = self.res1(layer1)\n",
        "        layer1 = layer1 + res1\n",
        "\n",
        "        layer2 = self.layer2(layer1)\n",
        "        layer3 = self.layer3(layer2)\n",
        "        res3 = self.res3(layer3)\n",
        "        layer3 = layer3 + res3\n",
        "\n",
        "        max = self.final_max(layer3)\n",
        "        out = max.view(max.size(0),-1)\n",
        "\n",
        "        fc = self.fc(out)\n",
        "        \n",
        "        # out = F.log_softmax(fc.view(-1,10), dim=-1)\n",
        "        # out  = fc.view(-1,10)\n",
        "        return out"
      ],
      "execution_count": 56,
      "outputs": []
    },
    {
      "cell_type": "code",
      "metadata": {
        "colab": {
          "base_uri": "https://localhost:8080/"
        },
        "id": "VRq44qX00cG6",
        "outputId": "92ca5aef-2acf-4165-8006-e4e1259dd972"
      },
      "source": [
        "model = CustomResNet().to(device)\n",
        "\n",
        "# criterion = LabelSmoothingLoss(classes=10, smoothing=0.12)\n",
        "# criterion = nn.CrossEntropyLoss()\n",
        "criterion = LabelSmoothingCrossEntropy()\n",
        "\n",
        "summary(model, input_size=(3, 32, 32))"
      ],
      "execution_count": 57,
      "outputs": [
        {
          "output_type": "stream",
          "text": [
            "----------------------------------------------------------------\n",
            "        Layer (type)               Output Shape         Param #\n",
            "================================================================\n",
            "            Conv2d-1           [-1, 64, 32, 32]           1,728\n",
            "       BatchNorm2d-2           [-1, 64, 32, 32]             128\n",
            "              ReLU-3           [-1, 64, 32, 32]               0\n",
            "            Conv2d-4          [-1, 128, 32, 32]          73,728\n",
            "         MaxPool2d-5          [-1, 128, 16, 16]               0\n",
            "       BatchNorm2d-6          [-1, 128, 16, 16]             256\n",
            "              ReLU-7          [-1, 128, 16, 16]               0\n",
            "            Conv2d-8          [-1, 128, 16, 16]         147,456\n",
            "       BatchNorm2d-9          [-1, 128, 16, 16]             256\n",
            "             ReLU-10          [-1, 128, 16, 16]               0\n",
            "           Conv2d-11          [-1, 128, 16, 16]         147,456\n",
            "      BatchNorm2d-12          [-1, 128, 16, 16]             256\n",
            "             ReLU-13          [-1, 128, 16, 16]               0\n",
            "           Conv2d-14          [-1, 256, 16, 16]         294,912\n",
            "        MaxPool2d-15            [-1, 256, 8, 8]               0\n",
            "      BatchNorm2d-16            [-1, 256, 8, 8]             512\n",
            "             ReLU-17            [-1, 256, 8, 8]               0\n",
            "           Conv2d-18            [-1, 512, 8, 8]       1,179,648\n",
            "        MaxPool2d-19            [-1, 512, 4, 4]               0\n",
            "      BatchNorm2d-20            [-1, 512, 4, 4]           1,024\n",
            "             ReLU-21            [-1, 512, 4, 4]               0\n",
            "           Conv2d-22            [-1, 512, 4, 4]       2,359,296\n",
            "      BatchNorm2d-23            [-1, 512, 4, 4]           1,024\n",
            "             ReLU-24            [-1, 512, 4, 4]               0\n",
            "           Conv2d-25            [-1, 512, 4, 4]       2,359,296\n",
            "      BatchNorm2d-26            [-1, 512, 4, 4]           1,024\n",
            "             ReLU-27            [-1, 512, 4, 4]               0\n",
            "        MaxPool2d-28            [-1, 512, 1, 1]               0\n",
            "           Linear-29                   [-1, 10]           5,120\n",
            "================================================================\n",
            "Total params: 6,573,120\n",
            "Trainable params: 6,573,120\n",
            "Non-trainable params: 0\n",
            "----------------------------------------------------------------\n",
            "Input size (MB): 0.01\n",
            "Forward/backward pass size (MB): 6.44\n",
            "Params size (MB): 25.07\n",
            "Estimated Total Size (MB): 31.53\n",
            "----------------------------------------------------------------\n"
          ],
          "name": "stdout"
        }
      ]
    },
    {
      "cell_type": "code",
      "metadata": {
        "id": "EPgK6CzzIBVR"
      },
      "source": [
        "# def custom_lr_finder(*, model=None, max_lr=0.1, min_lr=0.0001, strategy=\"exp\", beta=0.9,\n",
        "#                      optimizer=None, criterion=None, momentum=0.9, weight_decay=0.00001,\n",
        "#                      train_loader=None, test_loader=None):\n",
        "    \n",
        "#     if not model:\n",
        "#         raise NotImplementedError(\"Pass the model at least!\")\n",
        "#     if not (train_loader and test_loader):\n",
        "#         raise NotImplementedError(\"This does not work without `train_loader` and `test_loader`, kindly pass these two.\")\n",
        "#     if not criterion:\n",
        "#         criterion = nn.CrossEntropyLoss()\n",
        "#     if not optimizer:\n",
        "#         optimizer = optim.SGD\n",
        "    \n",
        "#     import math\n",
        "\n",
        "#     steps = len(train_loader)\n",
        "#     print(f\"\\nTotal steps: {steps} | LR strategy: {strategy}\")\n",
        "\n",
        "#     def get_linear_lrs():\n",
        "#         return np.linspace(start=min_lr, stop=max_lr, num=steps).tolist()\n",
        "\n",
        "#     def get_exp_lrs():\n",
        "#         lr_multiplier = (max_lr / min_lr) ** (1.0 / steps)\n",
        "#         curr = min_lr\n",
        "#         lrs = [curr]\n",
        "#         for i in range(1, steps):\n",
        "#             curr = curr * lr_multiplier\n",
        "#             lrs.append(curr)\n",
        "#         return lrs\n",
        "\n",
        "#     if \"linear\" in strategy.lower():\n",
        "#         all_lrs = get_linear_lrs()\n",
        "#     elif \"exp\" in strategy.lower():\n",
        "#         all_lrs = get_exp_lrs()\n",
        "\n",
        "#     lr_vs_train_loss = []\n",
        "#     iteration_vs_lr = []\n",
        "    \n",
        "#     running_loss = 0.\n",
        "#     model.train() # train_mode\n",
        "#     optim_ = optimizer(model.parameters(), lr=min_lr, momentum=momentum, weight_decay=weight_decay)\n",
        "#     lr = min_lr\n",
        "#     for step, (data, target) in enumerate(train_loader):\n",
        "#         data, target = data.to(device), target.to(device)\n",
        "#         optim_.zero_grad()\n",
        "#         output = model(data)\n",
        "#         loss = criterion(output, target)\n",
        "#         running_loss = beta * running_loss + (1 - beta) * loss.item()\n",
        "#         smooth_loss = running_loss /(1 - beta ** step)\n",
        "#         print(f\"step: {step} | running_loss: {running_loss:.5f} | smooth_loss: {smooth_loss:.5f}\")\n",
        "#         loss.backward()\n",
        "#         optim_.step()\n",
        "        \n",
        "#         lr_vs_train_loss.append((lr, math.log(lr, 10), smooth_loss))\n",
        "#         iteration_vs_lr.append(lr)\n",
        "\n",
        "#         optim_.param_groups[0]['lr'] = lr = all_lrs[step]\n",
        "\n",
        "#     return {\"lrs\": iteration_vs_lr,  \"lr_vs_train_loss\": lr_vs_train_loss}"
      ],
      "execution_count": 33,
      "outputs": []
    },
    {
      "cell_type": "code",
      "metadata": {
        "id": "vTy8xrJXCjd-"
      },
      "source": [
        "def find_lr(init_value = 1e-6, final_value=10., beta = 0.98):\n",
        "    import math\n",
        "    num = len(train_loader)-1\n",
        "    mult = (final_value / init_value) ** (1/num)\n",
        "    lr = init_value\n",
        "    optimizer.param_groups[0]['lr'] = lr\n",
        "    avg_loss = 0.\n",
        "    best_loss = 0.\n",
        "    batch_num = 0\n",
        "    losses = []\n",
        "    log_lrs = []\n",
        "    for data in train_loader:\n",
        "        batch_num += 1\n",
        "        #As before, get the loss for this mini-batch of inputs/outputs\n",
        "        inputs,labels = data\n",
        "        inputs, labels = inputs.to(device), labels.to(device)\n",
        "        optimizer.zero_grad()\n",
        "        outputs = model(inputs)\n",
        "        loss = criterion(outputs, labels)\n",
        "        #Compute the smoothed loss\n",
        "        avg_loss = beta * avg_loss + (1-beta) *loss.item()\n",
        "        smoothed_loss = avg_loss / (1 - beta**batch_num)\n",
        "        #Stop if the loss is exploding\n",
        "        if batch_num > 1 and smoothed_loss > 4 * best_loss:\n",
        "            return log_lrs, losses\n",
        "        #Record the best loss\n",
        "        if smoothed_loss < best_loss or batch_num==1:\n",
        "            best_loss = smoothed_loss\n",
        "        #Store the values\n",
        "        losses.append(smoothed_loss)\n",
        "        log_lrs.append(math.log10(lr))\n",
        "        # log_lrs.append(lr)\n",
        "        #Do the SGD step\n",
        "        loss.backward()\n",
        "        optimizer.step()\n",
        "        #Update the lr for the next step\n",
        "        lr *= mult\n",
        "        optimizer.param_groups[0]['lr'] = lr\n",
        "    return log_lrs, losses"
      ],
      "execution_count": 34,
      "outputs": []
    },
    {
      "cell_type": "code",
      "metadata": {
        "id": "ciJkhc83U9Qz"
      },
      "source": [
        "# criterion = nn.CrossEntropyLoss()\n",
        "# # criterion = LabelSmoothingLoss(classes=10, smoothing=0.1)\n",
        "\n",
        "# optimizer = optim.SGD(model.parameters(), momentum=0.9, lr = 0.001, nesterov=True, weight_decay=0.00005)\n",
        "# model = CustomResNet().to(device)\n",
        "\n",
        "# # info = custom_lr_finder(model=model, \n",
        "# #                         max_lr=1, min_lr=1e-4, strategy=\"exp\",\n",
        "# #                         optimizer=optim.SGD, momentum=0.9, beta=0.97,\n",
        "# #                         weight_decay=0.0001, train_loader=train_loader,\n",
        "# #                         test_loader=test_loader)\n",
        "\n",
        "# lrs, losses = find_lr(init_value=0.001, final_value=0.07, beta=0.98)"
      ],
      "execution_count": 35,
      "outputs": []
    },
    {
      "cell_type": "code",
      "metadata": {
        "id": "bEBUhhbwDnuF"
      },
      "source": [
        "# plt.plot(lrs,losses) # without decay with CrossEntropy:    2e-4 with softmax, without softmax bad curve, in order of 10-6\n",
        "#                      # without decay with label smoothing: without softmax: bad in terms of 10-6,  with softmax: steepest in 10-6, another low loss near 1/2e-2\n",
        "\n",
        "# # previous exp graph"
      ],
      "execution_count": 36,
      "outputs": []
    },
    {
      "cell_type": "code",
      "metadata": {
        "id": "9xmi3157J_dS"
      },
      "source": [
        "# # criterion = nn.CrossEntropyLoss()\n",
        "# # criterion = LabelSmoothingLoss(classes=10, smoothing=0.2)\n",
        "\n",
        "# optimizer = optim.SGD(model.parameters(), momentum=0.9, lr = 0.001, nesterov=True, weight_decay=0.000125)\n",
        "# model = CustomResNet().to(device)\n",
        "\n",
        "# # info = custom_lr_finder(model=model, \n",
        "# #                         max_lr=1, min_lr=1e-4, strategy=\"exp\",\n",
        "# #                         optimizer=optim.SGD, momentum=0.9, beta=0.97,\n",
        "# #                         weight_decay=0.0001, train_loader=train_loader,\n",
        "# #                         test_loader=test_loader)\n",
        "\n",
        "# lrs, losses = find_lr(init_value=0.01, final_value=1, beta=0.98)"
      ],
      "execution_count": 37,
      "outputs": []
    },
    {
      "cell_type": "code",
      "metadata": {
        "id": "DVX1VjAUJ_dS"
      },
      "source": [
        "# plt.plot(lrs,losses) # without decay with CrossEntropy:    2e-4 with softmax, without softmax bad curve, in order of 10-6\n",
        "#                      # without decay with label smoothing: without softmax: bad in terms of 10-6,  with softmax: steepest in 10-6, another low loss near 1/2e-2\n",
        "\n"
      ],
      "execution_count": 38,
      "outputs": []
    },
    {
      "cell_type": "code",
      "metadata": {
        "id": "wOGTH8nToUDM",
        "colab": {
          "base_uri": "https://localhost:8080/"
        },
        "outputId": "e4ea4abb-112a-4a74-e5a6-11ef1565fffd"
      },
      "source": [
        "# criterion = nn.CrossEntropyLoss()\n",
        "# criterion = LabelSmoothingLoss(10, 0.1)\n",
        "\n",
        "model = CustomResNet().to(device)\n",
        "\n",
        "# pct: 0.18 -> 0.2 -> 0.24\n",
        "# lr -> 0.032 -> 0.038 -> 0.04\n",
        "\n",
        "optimizer = optim.SGD(model.parameters(), lr=0.001, momentum=0.9, weight_decay=0.00025)\n",
        "scheduler = optim.lr_scheduler.OneCycleLR(optimizer, max_lr = 0.51, total_steps=None,\n",
        "                                          pct_start=0.16, anneal_strategy='linear',\n",
        "                                          epochs=24, steps_per_epoch=len(train_loader),\n",
        "                                          div_factor=10.0,final_div_factor=1, cycle_momentum=True, max_momentum=0.9)\n",
        "\n",
        "LR = []\n",
        "lr_epochs = []\n",
        "train_losses = []\n",
        "test_losses = []\n",
        "train_accuracy = []\n",
        "test_accuracy = []\n",
        "\n",
        "# train method only applies RICAP if epoch < 15 and ricap_apply flag is set to True\n",
        "ricap_apply_prob = 0.3\n",
        "ricap=False\n",
        "\n",
        "for epoch in range(24):\n",
        "    LR.append(optimizer.param_groups[0]['lr'])\n",
        "    \n",
        "    if ricap_apply_prob > np.random.random() and epoch < 15:\n",
        "        ricap = True\n",
        "        print(f\"\\nApplying RICAP at epoch: {epoch+1}\")\n",
        "    else:\n",
        "        ricap = False\n",
        "    \n",
        "    train(model, device, train_loader, optimizer,scheduler,criterion, train_accuracy,\n",
        "          train_losses, epoch+1,\n",
        "          ricap_apply=ricap, ricap_beta=0.2,\n",
        "          end_cycle_lr_epoch=24) #,end_lr_factor=0.89)\n",
        "    \n",
        "    test(model, device, test_loader,test_accuracy, test_losses)"
      ],
      "execution_count": 58,
      "outputs": [
        {
          "output_type": "stream",
          "text": [
            "\r  0%|          | 0/98 [00:00<?, ?it/s]"
          ],
          "name": "stderr"
        },
        {
          "output_type": "stream",
          "text": [
            "\n",
            "Epoch num: 1  |  LR: 0.0510000000\n"
          ],
          "name": "stdout"
        },
        {
          "output_type": "stream",
          "text": [
            "Loss=2.5269157886505127 Accuracy=26.91: 100%|██████████| 98/98 [00:12<00:00,  7.72it/s]\n",
            "  0%|          | 0/98 [00:00<?, ?it/s]"
          ],
          "name": "stderr"
        },
        {
          "output_type": "stream",
          "text": [
            "\n",
            "Test set: Average loss: 0.00345, Accuracy: 4119/10000 (41.190%)\n",
            "\n",
            "\n",
            "Applying RICAP at epoch: 2\n",
            "\n",
            "Epoch num: 2  |  LR: 0.1708497282\n"
          ],
          "name": "stdout"
        },
        {
          "output_type": "stream",
          "text": [
            "Loss=2.359072685241699 Accuracy=46.96: 100%|██████████| 98/98 [00:14<00:00,  6.96it/s]\n",
            "  0%|          | 0/98 [00:00<?, ?it/s]"
          ],
          "name": "stderr"
        },
        {
          "output_type": "stream",
          "text": [
            "\n",
            "Test set: Average loss: 0.00312, Accuracy: 4843/10000 (48.430%)\n",
            "\n",
            "\n",
            "Epoch num: 3  |  LR: 0.2906994565\n"
          ],
          "name": "stdout"
        },
        {
          "output_type": "stream",
          "text": [
            "Loss=1.898074984550476 Accuracy=57.95: 100%|██████████| 98/98 [00:13<00:00,  7.38it/s]\n",
            "  0%|          | 0/98 [00:00<?, ?it/s]"
          ],
          "name": "stderr"
        },
        {
          "output_type": "stream",
          "text": [
            "\n",
            "Test set: Average loss: 0.00211, Accuracy: 6537/10000 (65.370%)\n",
            "\n",
            "\n",
            "Epoch num: 4  |  LR: 0.4105491847\n"
          ],
          "name": "stdout"
        },
        {
          "output_type": "stream",
          "text": [
            "Loss=1.6508746147155762 Accuracy=67.97: 100%|██████████| 98/98 [00:12<00:00,  7.60it/s]\n",
            "  0%|          | 0/98 [00:00<?, ?it/s]"
          ],
          "name": "stderr"
        },
        {
          "output_type": "stream",
          "text": [
            "\n",
            "Test set: Average loss: 0.00201, Accuracy: 7007/10000 (70.070%)\n",
            "\n",
            "\n",
            "Epoch num: 5  |  LR: 0.5061248178\n"
          ],
          "name": "stdout"
        },
        {
          "output_type": "stream",
          "text": [
            "Loss=1.6676125526428223 Accuracy=73.08: 100%|██████████| 98/98 [00:12<00:00,  7.72it/s]\n",
            "  0%|          | 0/98 [00:00<?, ?it/s]"
          ],
          "name": "stderr"
        },
        {
          "output_type": "stream",
          "text": [
            "\n",
            "Test set: Average loss: 0.00155, Accuracy: 7675/10000 (76.750%)\n",
            "\n",
            "\n",
            "Epoch num: 6  |  LR: 0.4833569606\n"
          ],
          "name": "stdout"
        },
        {
          "output_type": "stream",
          "text": [
            "Loss=1.5760231018066406 Accuracy=76.61: 100%|██████████| 98/98 [00:13<00:00,  7.42it/s]\n",
            "  0%|          | 0/98 [00:00<?, ?it/s]"
          ],
          "name": "stderr"
        },
        {
          "output_type": "stream",
          "text": [
            "\n",
            "Test set: Average loss: 0.00143, Accuracy: 7894/10000 (78.940%)\n",
            "\n",
            "\n",
            "Epoch num: 7  |  LR: 0.4605891035\n"
          ],
          "name": "stdout"
        },
        {
          "output_type": "stream",
          "text": [
            "Loss=1.535407304763794 Accuracy=78.98: 100%|██████████| 98/98 [00:13<00:00,  7.13it/s]\n",
            "  0%|          | 0/98 [00:00<?, ?it/s]"
          ],
          "name": "stderr"
        },
        {
          "output_type": "stream",
          "text": [
            "\n",
            "Test set: Average loss: 0.00143, Accuracy: 7989/10000 (79.890%)\n",
            "\n",
            "\n",
            "Epoch num: 8  |  LR: 0.4378212464\n"
          ],
          "name": "stdout"
        },
        {
          "output_type": "stream",
          "text": [
            "Loss=1.509397029876709 Accuracy=80.50: 100%|██████████| 98/98 [00:13<00:00,  7.36it/s]\n",
            "  0%|          | 0/98 [00:00<?, ?it/s]"
          ],
          "name": "stderr"
        },
        {
          "output_type": "stream",
          "text": [
            "\n",
            "Test set: Average loss: 0.00134, Accuracy: 8133/10000 (81.330%)\n",
            "\n",
            "\n",
            "Epoch num: 9  |  LR: 0.4150533892\n"
          ],
          "name": "stdout"
        },
        {
          "output_type": "stream",
          "text": [
            "Loss=1.458321213722229 Accuracy=81.98: 100%|██████████| 98/98 [00:13<00:00,  7.08it/s]\n",
            "  0%|          | 0/98 [00:00<?, ?it/s]"
          ],
          "name": "stderr"
        },
        {
          "output_type": "stream",
          "text": [
            "\n",
            "Test set: Average loss: 0.00122, Accuracy: 8335/10000 (83.350%)\n",
            "\n",
            "\n",
            "Epoch num: 10  |  LR: 0.3922855321\n"
          ],
          "name": "stdout"
        },
        {
          "output_type": "stream",
          "text": [
            "Loss=1.3539708852767944 Accuracy=83.22: 100%|██████████| 98/98 [00:13<00:00,  7.42it/s]\n",
            "  0%|          | 0/98 [00:00<?, ?it/s]"
          ],
          "name": "stderr"
        },
        {
          "output_type": "stream",
          "text": [
            "\n",
            "Test set: Average loss: 0.00116, Accuracy: 8385/10000 (83.850%)\n",
            "\n",
            "\n",
            "Epoch num: 11  |  LR: 0.3695176749\n"
          ],
          "name": "stdout"
        },
        {
          "output_type": "stream",
          "text": [
            "Loss=1.480244517326355 Accuracy=84.13: 100%|██████████| 98/98 [00:12<00:00,  7.72it/s]\n",
            "  0%|          | 0/98 [00:00<?, ?it/s]"
          ],
          "name": "stderr"
        },
        {
          "output_type": "stream",
          "text": [
            "\n",
            "Test set: Average loss: 0.00105, Accuracy: 8584/10000 (85.840%)\n",
            "\n",
            "\n",
            "Epoch num: 12  |  LR: 0.3467498178\n"
          ],
          "name": "stdout"
        },
        {
          "output_type": "stream",
          "text": [
            "Loss=1.2938101291656494 Accuracy=85.17: 100%|██████████| 98/98 [00:12<00:00,  7.69it/s]\n",
            "  0%|          | 0/98 [00:00<?, ?it/s]"
          ],
          "name": "stderr"
        },
        {
          "output_type": "stream",
          "text": [
            "\n",
            "Test set: Average loss: 0.00109, Accuracy: 8505/10000 (85.050%)\n",
            "\n",
            "\n",
            "Epoch num: 13  |  LR: 0.3239819606\n"
          ],
          "name": "stdout"
        },
        {
          "output_type": "stream",
          "text": [
            "Loss=1.3703404664993286 Accuracy=86.16: 100%|██████████| 98/98 [00:13<00:00,  7.34it/s]\n",
            "  0%|          | 0/98 [00:00<?, ?it/s]"
          ],
          "name": "stderr"
        },
        {
          "output_type": "stream",
          "text": [
            "\n",
            "Test set: Average loss: 0.00099, Accuracy: 8700/10000 (87.000%)\n",
            "\n",
            "\n",
            "Applying RICAP at epoch: 14\n",
            "\n",
            "Epoch num: 14  |  LR: 0.3012141035\n"
          ],
          "name": "stdout"
        },
        {
          "output_type": "stream",
          "text": [
            "Loss=2.442718505859375 Accuracy=45.38: 100%|██████████| 98/98 [00:13<00:00,  7.06it/s]\n",
            "  0%|          | 0/98 [00:00<?, ?it/s]"
          ],
          "name": "stderr"
        },
        {
          "output_type": "stream",
          "text": [
            "\n",
            "Test set: Average loss: 0.00105, Accuracy: 8822/10000 (88.220%)\n",
            "\n",
            "\n",
            "Applying RICAP at epoch: 15\n",
            "\n",
            "Epoch num: 15  |  LR: 0.2784462464\n"
          ],
          "name": "stdout"
        },
        {
          "output_type": "stream",
          "text": [
            "Loss=1.3037738800048828 Accuracy=0.00: 100%|██████████| 98/98 [00:13<00:00,  7.51it/s]\n",
            "  0%|          | 0/98 [00:00<?, ?it/s]"
          ],
          "name": "stderr"
        },
        {
          "output_type": "stream",
          "text": [
            "\n",
            "Test set: Average loss: 0.00104, Accuracy: 8656/10000 (86.560%)\n",
            "\n",
            "\n",
            "Epoch num: 16  |  LR: 0.2556783892\n"
          ],
          "name": "stdout"
        },
        {
          "output_type": "stream",
          "text": [
            "Loss=1.2998526096343994 Accuracy=88.22: 100%|██████████| 98/98 [00:12<00:00,  7.61it/s]\n",
            "  0%|          | 0/98 [00:00<?, ?it/s]"
          ],
          "name": "stderr"
        },
        {
          "output_type": "stream",
          "text": [
            "\n",
            "Test set: Average loss: 0.00098, Accuracy: 8789/10000 (87.890%)\n",
            "\n",
            "\n",
            "Epoch num: 17  |  LR: 0.2329105321\n"
          ],
          "name": "stdout"
        },
        {
          "output_type": "stream",
          "text": [
            "Loss=1.2227290868759155 Accuracy=88.69: 100%|██████████| 98/98 [00:12<00:00,  7.66it/s]\n",
            "  0%|          | 0/98 [00:00<?, ?it/s]"
          ],
          "name": "stderr"
        },
        {
          "output_type": "stream",
          "text": [
            "\n",
            "Test set: Average loss: 0.00087, Accuracy: 8960/10000 (89.600%)\n",
            "\n",
            "\n",
            "Epoch num: 18  |  LR: 0.2101426749\n"
          ],
          "name": "stdout"
        },
        {
          "output_type": "stream",
          "text": [
            "Loss=1.3078269958496094 Accuracy=89.32: 100%|██████████| 98/98 [00:13<00:00,  7.12it/s]\n",
            "  0%|          | 0/98 [00:00<?, ?it/s]"
          ],
          "name": "stderr"
        },
        {
          "output_type": "stream",
          "text": [
            "\n",
            "Test set: Average loss: 0.00081, Accuracy: 8992/10000 (89.920%)\n",
            "\n",
            "\n",
            "Epoch num: 19  |  LR: 0.1873748178\n"
          ],
          "name": "stdout"
        },
        {
          "output_type": "stream",
          "text": [
            "Loss=1.2211017608642578 Accuracy=90.27: 100%|██████████| 98/98 [00:13<00:00,  7.32it/s]\n",
            "  0%|          | 0/98 [00:00<?, ?it/s]"
          ],
          "name": "stderr"
        },
        {
          "output_type": "stream",
          "text": [
            "\n",
            "Test set: Average loss: 0.00085, Accuracy: 8954/10000 (89.540%)\n",
            "\n",
            "\n",
            "Epoch num: 20  |  LR: 0.1646069606\n"
          ],
          "name": "stdout"
        },
        {
          "output_type": "stream",
          "text": [
            "Loss=1.1742647886276245 Accuracy=90.91: 100%|██████████| 98/98 [00:12<00:00,  7.58it/s]\n",
            "  0%|          | 0/98 [00:00<?, ?it/s]"
          ],
          "name": "stderr"
        },
        {
          "output_type": "stream",
          "text": [
            "\n",
            "Test set: Average loss: 0.00075, Accuracy: 9076/10000 (90.760%)\n",
            "\n",
            "\n",
            "Epoch num: 21  |  LR: 0.1418391035\n"
          ],
          "name": "stdout"
        },
        {
          "output_type": "stream",
          "text": [
            "Loss=1.2010477781295776 Accuracy=91.64: 100%|██████████| 98/98 [00:12<00:00,  7.75it/s]\n",
            "  0%|          | 0/98 [00:00<?, ?it/s]"
          ],
          "name": "stderr"
        },
        {
          "output_type": "stream",
          "text": [
            "\n",
            "Test set: Average loss: 0.00079, Accuracy: 9013/10000 (90.130%)\n",
            "\n",
            "\n",
            "Epoch num: 22  |  LR: 0.1190712464\n"
          ],
          "name": "stdout"
        },
        {
          "output_type": "stream",
          "text": [
            "Loss=1.173435091972351 Accuracy=92.38: 100%|██████████| 98/98 [00:13<00:00,  7.41it/s]\n",
            "  0%|          | 0/98 [00:00<?, ?it/s]"
          ],
          "name": "stderr"
        },
        {
          "output_type": "stream",
          "text": [
            "\n",
            "Test set: Average loss: 0.00074, Accuracy: 9131/10000 (91.310%)\n",
            "\n",
            "\n",
            "Epoch num: 23  |  LR: 0.0963033892\n"
          ],
          "name": "stdout"
        },
        {
          "output_type": "stream",
          "text": [
            "Loss=1.1515659093856812 Accuracy=93.27: 100%|██████████| 98/98 [00:13<00:00,  7.25it/s]\n",
            "  0%|          | 0/98 [00:00<?, ?it/s]"
          ],
          "name": "stderr"
        },
        {
          "output_type": "stream",
          "text": [
            "\n",
            "Test set: Average loss: 0.00071, Accuracy: 9192/10000 (91.920%)\n",
            "\n",
            "\n",
            "Epoch num: 24  |  LR: 0.0735355321\n"
          ],
          "name": "stdout"
        },
        {
          "output_type": "stream",
          "text": [
            "Loss=1.1553244590759277 Accuracy=94.05: 100%|██████████| 98/98 [00:13<00:00,  7.49it/s]\n"
          ],
          "name": "stderr"
        },
        {
          "output_type": "stream",
          "text": [
            "\n",
            "Test set: Average loss: 0.00069, Accuracy: 9242/10000 (92.420%)\n",
            "\n"
          ],
          "name": "stdout"
        }
      ]
    },
    {
      "cell_type": "code",
      "metadata": {
        "colab": {
          "base_uri": "https://localhost:8080/",
          "height": 607
        },
        "id": "EfOfjnwQ6d3m",
        "outputId": "d3011cad-a443-4c8f-b9bd-6c820dae2e47"
      },
      "source": [
        "plot_graphs(train_losses=train_losses, train_accuracy=train_accuracy,\n",
        "            test_losses=test_losses,test_accuracy=test_accuracy)    "
      ],
      "execution_count": 49,
      "outputs": [
        {
          "output_type": "display_data",
          "data": {
            "image/png": "[encoded data removed]",
            "text/plain": [
              "<Figure size 1440x720 with 4 Axes>"
            ]
          },
          "metadata": {
            "tags": [],
            "needs_background": "light"
          }
        }
      ]
    },
    {
      "cell_type": "code",
      "metadata": {
        "colab": {
          "base_uri": "https://localhost:8080/",
          "height": 282
        },
        "id": "7P9ivkWMq-21",
        "outputId": "7a952499-a894-4efd-de87-a4f594a5e0d3"
      },
      "source": [
        "plt.plot(*zip(*lr_epochs))"
      ],
      "execution_count": 50,
      "outputs": [
        {
          "output_type": "execute_result",
          "data": {
            "text/plain": [
              "[<matplotlib.lines.Line2D at 0x7f4d757ae1d0>]"
            ]
          },
          "metadata": {
            "tags": []
          },
          "execution_count": 50
        },
        {
          "output_type": "display_data",
          "data": {
            "image/png": "[encoded data removed]",
            "text/plain": [
              "<Figure size 432x288 with 1 Axes>"
            ]
          },
          "metadata": {
            "tags": [],
            "needs_background": "light"
          }
        }
      ]
    },
    {
      "cell_type": "code",
      "metadata": {
        "id": "O3RHo0XF0Unk",
        "colab": {
          "base_uri": "https://localhost:8080/",
          "height": 37
        },
        "outputId": "28587730-6c26-4707-a3ad-03d4f4f20b50"
      },
      "source": [
        "\"\"\"to try:\n",
        "1. Ricap\n",
        "2. ZCA whitening -> Need to understand this in detail \n",
        "\"\"\""
      ],
      "execution_count": 42,
      "outputs": [
        {
          "output_type": "execute_result",
          "data": {
            "application/vnd.google.colaboratory.intrinsic+json": {
              "type": "string"
            },
            "text/plain": [
              "'to try:\\n1. Ricap\\n2. ZCA whitening -> Need to understand this in detail \\n'"
            ]
          },
          "metadata": {
            "tags": []
          },
          "execution_count": 42
        }
      ]
    },
    {
      "cell_type": "code",
      "metadata": {
        "id": "h1Frv9EAXlpM"
      },
      "source": [
        "# from torch_lr_finder import LRFinder\n",
        "\n",
        "# {'lr': 9.654713583179363e-05, 'momentum': 0.4250250057893233}\n",
        "#{'lr': 1e-06, 'momentum': 0.36481247037960834, 'weight_decay': 1e-05}\n",
        "# {'lr': 1e-06, 'momentum': 0.1236217963034376, 'weight_decay': 1e-05}\n",
        "# # optimizer = optim.Adam(model.paraxwmeters(), lr=1e-7, weight_decay=1e-2)\n",
        "# optimizer = optim.SGD(model.parameters(), lr = 1e-3, momentum=0.9, nesterov=True)\n",
        "# lr_finder = LRFinder(model, optimizer, criterion, device=\"cuda\")\n",
        "# lr_finder.range_test(train_loader, end_lr=10, num_iter=200)\n",
        "# lr_finder.plot() # to inspect the loss-learning rate graph\n",
        "# lr_finder.reset() # to reset the model and optimizer to their initial state"
      ],
      "execution_count": 43,
      "outputs": []
    },
    {
      "cell_type": "code",
      "metadata": {
        "id": "EdIa7mUkwdmg"
      },
      "source": [
        "# model = CustomResNet().to(device)\n",
        "# # 0.02 with decay 1e-5 -> seems promising & 0.05 with 2e-5\n",
        "\n",
        "# max_lr = 1e-3\n",
        "# # 0.05, -> \n",
        "# # 1) 2.49e-1, -> can take more 2) 2.91e-1 3) 3.1e-1,-> 84% & 82% can take more 4) 4.3e-1 -> can take more perhaps, try\n",
        "# # 5) 4.9e-1,  6) 5.9e-1 with opt lr 2.49e-2, 7) 5.1e-1 with 1.49e-2\n",
        "\n",
        "# optimizer = optim.SGD(model.parameters(), momentum=0.9, lr = max_lr/20, nesterov=True) #weight_decay=0.00125) # [\"0.000125\", \"0.00025\", \"0.0005\"]\n",
        "# # 2.49e-2, -> 3.4e-2, \n",
        "\n",
        "# # optimizer = optim.Adam(model.parameters(), lr=max_lr, weight_decay=1e-4)\n",
        "\n",
        "# scheduler = torch.optim.lr_scheduler.OneCycleLR(optimizer=optimizer,\n",
        "#                                                 max_lr=max_lr,\n",
        "#                                                 pct_start=0.3,\n",
        "#                                                 anneal_strategy='linear',\n",
        "#                                                 verbose=False,\n",
        "#                                                 epochs=24,\n",
        "#                                                 cycle_momentum=False,\n",
        "#                                                 steps_per_epoch=len(train_loader))\n",
        "\n",
        "\n",
        "\n",
        "# train_losses = []\n",
        "# train_accuracy = []\n",
        "# test_losses = []\n",
        "# test_accuracy = []\n",
        "# lr_epochs = []\n",
        "\n",
        "# start = time.perf_counter()\n",
        "\n",
        "# train_eval_model(model=model,\n",
        "#                  train_loader=train_loader,\n",
        "#                  optimizer = optimizer,\n",
        "#                  criterion=criterion,\n",
        "#                  device=device,\n",
        "#                  epochs=24,\n",
        "#                  test=True,\n",
        "#                  test_loader=test_loader,\n",
        "#                  scheduler=scheduler,\n",
        "#                  grad_clip=None,\n",
        "#                 #  grad_clip_start_epoch=6,\n",
        "#                 #  grad_clip_end_epoch=6,\n",
        "#                  noise_level=0,\n",
        "#                  ricap_apply=True,\n",
        "#                  ricap_prob=0.04,\n",
        "#                  ricap_beta=0.3)\n",
        "\n",
        "# end = time.perf_counter()\n",
        "\n",
        "# print(f\"\\n\\nTime taken: {(end - start)//60} minutes and {int((end - start)%60)} seconds\")"
      ],
      "execution_count": 44,
      "outputs": []
    },
    {
      "cell_type": "code",
      "metadata": {
        "id": "p8WIwzZDzILX"
      },
      "source": [
        ""
      ],
      "execution_count": 44,
      "outputs": []
    }
  ]
}