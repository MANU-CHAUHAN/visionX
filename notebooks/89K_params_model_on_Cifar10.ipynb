{
  "nbformat": 4,
  "nbformat_minor": 0,
  "metadata": {
    "accelerator": "GPU",
    "colab": {
      "name": "89K params model on Cifar10.ipynb",
      "provenance": [],
      "collapsed_sections": []
    },
    "kernelspec": {
      "display_name": "Python 3",
      "name": "python3"
    },
    "language_info": {
      "codemirror_mode": {
        "name": "ipython",
        "version": 3
      },
      "file_extension": ".py",
      "mimetype": "text/x-python",
      "name": "python",
      "nbconvert_exporter": "python",
      "pygments_lexer": "ipython3",
      "version": "3.6.6"
    }
  },
  "cells": [
    {
      "cell_type": "code",
      "metadata": {
        "colab": {
          "base_uri": "https://localhost:8080/"
        },
        "id": "xiePagZA-ZCe",
        "outputId": "7f8b0dc0-351c-4299-e05f-302cdce69cb2"
      },
      "source": [
        "!nvidia-smi"
      ],
      "execution_count": null,
      "outputs": [
        {
          "output_type": "stream",
          "text": [
            "Thu Jul  8 01:41:56 2021       \n",
            "+-----------------------------------------------------------------------------+\n",
            "| NVIDIA-SMI 470.42.01    Driver Version: 460.32.03    CUDA Version: 11.2     |\n",
            "|-------------------------------+----------------------+----------------------+\n",
            "| GPU  Name        Persistence-M| Bus-Id        Disp.A | Volatile Uncorr. ECC |\n",
            "| Fan  Temp  Perf  Pwr:Usage/Cap|         Memory-Usage | GPU-Util  Compute M. |\n",
            "|                               |                      |               MIG M. |\n",
            "|===============================+======================+======================|\n",
            "|   0  Tesla P100-PCIE...  Off  | 00000000:00:04.0 Off |                    0 |\n",
            "| N/A   33C    P0    26W / 250W |      0MiB / 16280MiB |      0%      Default |\n",
            "|                               |                      |                  N/A |\n",
            "+-------------------------------+----------------------+----------------------+\n",
            "                                                                               \n",
            "+-----------------------------------------------------------------------------+\n",
            "| Processes:                                                                  |\n",
            "|  GPU   GI   CI        PID   Type   Process name                  GPU Memory |\n",
            "|        ID   ID                                                   Usage      |\n",
            "|=============================================================================|\n",
            "|  No running processes found                                                 |\n",
            "+-----------------------------------------------------------------------------+\n"
          ],
          "name": "stdout"
        }
      ]
    },
    {
      "cell_type": "code",
      "metadata": {
        "colab": {
          "base_uri": "https://localhost:8080/"
        },
        "id": "yrACTK9GvN8I",
        "outputId": "fd7d3ff5-4f02-41c9-b73e-a7c586dcaf20"
      },
      "source": [
        "!pip install albumentations==0.4.6"
      ],
      "execution_count": null,
      "outputs": [
        {
          "output_type": "stream",
          "text": [
            "Requirement already satisfied: albumentations==0.4.6 in /usr/local/lib/python3.7/dist-packages (0.4.6)\n",
            "Requirement already satisfied: imgaug>=0.4.0 in /usr/local/lib/python3.7/dist-packages (from albumentations==0.4.6) (0.4.0)\n",
            "Requirement already satisfied: scipy in /usr/local/lib/python3.7/dist-packages (from albumentations==0.4.6) (1.4.1)\n",
            "Requirement already satisfied: PyYAML in /usr/local/lib/python3.7/dist-packages (from albumentations==0.4.6) (3.13)\n",
            "Requirement already satisfied: opencv-python>=4.1.1 in /usr/local/lib/python3.7/dist-packages (from albumentations==0.4.6) (4.1.2.30)\n",
            "Requirement already satisfied: numpy>=1.11.1 in /usr/local/lib/python3.7/dist-packages (from albumentations==0.4.6) (1.19.5)\n",
            "Requirement already satisfied: scikit-image>=0.14.2 in /usr/local/lib/python3.7/dist-packages (from imgaug>=0.4.0->albumentations==0.4.6) (0.16.2)\n",
            "Requirement already satisfied: imageio in /usr/local/lib/python3.7/dist-packages (from imgaug>=0.4.0->albumentations==0.4.6) (2.4.1)\n",
            "Requirement already satisfied: Pillow in /usr/local/lib/python3.7/dist-packages (from imgaug>=0.4.0->albumentations==0.4.6) (7.1.2)\n",
            "Requirement already satisfied: six in /usr/local/lib/python3.7/dist-packages (from imgaug>=0.4.0->albumentations==0.4.6) (1.15.0)\n",
            "Requirement already satisfied: matplotlib in /usr/local/lib/python3.7/dist-packages (from imgaug>=0.4.0->albumentations==0.4.6) (3.2.2)\n",
            "Requirement already satisfied: Shapely in /usr/local/lib/python3.7/dist-packages (from imgaug>=0.4.0->albumentations==0.4.6) (1.7.1)\n",
            "Requirement already satisfied: PyWavelets>=0.4.0 in /usr/local/lib/python3.7/dist-packages (from scikit-image>=0.14.2->imgaug>=0.4.0->albumentations==0.4.6) (1.1.1)\n",
            "Requirement already satisfied: networkx>=2.0 in /usr/local/lib/python3.7/dist-packages (from scikit-image>=0.14.2->imgaug>=0.4.0->albumentations==0.4.6) (2.5.1)\n",
            "Requirement already satisfied: cycler>=0.10 in /usr/local/lib/python3.7/dist-packages (from matplotlib->imgaug>=0.4.0->albumentations==0.4.6) (0.10.0)\n",
            "Requirement already satisfied: kiwisolver>=1.0.1 in /usr/local/lib/python3.7/dist-packages (from matplotlib->imgaug>=0.4.0->albumentations==0.4.6) (1.3.1)\n",
            "Requirement already satisfied: python-dateutil>=2.1 in /usr/local/lib/python3.7/dist-packages (from matplotlib->imgaug>=0.4.0->albumentations==0.4.6) (2.8.1)\n",
            "Requirement already satisfied: pyparsing!=2.0.4,!=2.1.2,!=2.1.6,>=2.0.1 in /usr/local/lib/python3.7/dist-packages (from matplotlib->imgaug>=0.4.0->albumentations==0.4.6) (2.4.7)\n",
            "Requirement already satisfied: decorator<5,>=4.3 in /usr/local/lib/python3.7/dist-packages (from networkx>=2.0->scikit-image>=0.14.2->imgaug>=0.4.0->albumentations==0.4.6) (4.4.2)\n"
          ],
          "name": "stdout"
        }
      ]
    },
    {
      "cell_type": "code",
      "metadata": {
        "id": "-yVpodAMpoCi"
      },
      "source": [
        "import torch\n",
        "import torchvision\n",
        "import numpy as np\n",
        "import torchvision.transforms as transforms\n",
        "import torch.nn as nn\n",
        "import torch.nn.functional as F\n",
        "from torchsummary import summary\n",
        "import torch.optim as optim\n",
        "from tqdm import tqdm\n",
        "from torch.optim.lr_scheduler import StepLR\n",
        "from functools import partial\n",
        "%matplotlib inline\n",
        "\n",
        "cv = partial(nn.Conv2d, bias=False)\n",
        "bn = nn.BatchNorm2d\n",
        "relu = nn.ReLU\n",
        "\n",
        "classes = ('plane', 'car', 'bird', 'cat', 'deer', 'dog', 'frog', 'horse', 'ship', 'truck')"
      ],
      "execution_count": null,
      "outputs": []
    },
    {
      "cell_type": "code",
      "metadata": {
        "id": "oH4IWUA1SNGa"
      },
      "source": [
        "import albumentations as A\n",
        "from albumentations.pytorch.transforms import ToTensor"
      ],
      "execution_count": null,
      "outputs": []
    },
    {
      "cell_type": "code",
      "metadata": {
        "colab": {
          "base_uri": "https://localhost:8080/"
        },
        "id": "D8Tjigo2poCl",
        "outputId": "ca0414a2-7a5d-40dd-991b-fad66ac334e2"
      },
      "source": [
        "transform = transforms.Compose([transforms.ToTensor()]) # simple ToTensor for now\n",
        "\n",
        "train_set = torchvision.datasets.CIFAR10(root='./cifar10', download=True, train=True, transform=transform)\n"
      ],
      "execution_count": null,
      "outputs": [
        {
          "output_type": "stream",
          "text": [
            "Files already downloaded and verified\n"
          ],
          "name": "stdout"
        }
      ]
    },
    {
      "cell_type": "code",
      "metadata": {
        "colab": {
          "base_uri": "https://localhost:8080/"
        },
        "id": "Pcq0CLIKTX-o",
        "outputId": "53e08f10-c487-4258-c2ee-b9d5bbe9d26a"
      },
      "source": [
        "train_set.data.shape # train data shape"
      ],
      "execution_count": null,
      "outputs": [
        {
          "output_type": "execute_result",
          "data": {
            "text/plain": [
              "(50000, 32, 32, 3)"
            ]
          },
          "metadata": {
            "tags": []
          },
          "execution_count": 6
        }
      ]
    },
    {
      "cell_type": "code",
      "metadata": {
        "colab": {
          "base_uri": "https://localhost:8080/"
        },
        "id": "ldxJ0FQ-Wuum",
        "outputId": "2310f47c-87dc-49e4-ef3f-6950682f94a4"
      },
      "source": [
        "# calculate mean and standard deviation\n",
        "\n",
        "m = np.mean(train_set.data, axis=(0,1,2))\n",
        "print(m/255)\n",
        "\n",
        "s = np.std(train_set.data, axis=(0, 1, 2))\n",
        "print(s/255)"
      ],
      "execution_count": null,
      "outputs": [
        {
          "output_type": "stream",
          "text": [
            "[0.49139968 0.48215841 0.44653091]\n",
            "[0.24703223 0.24348513 0.26158784]\n"
          ],
          "name": "stdout"
        }
      ]
    },
    {
      "cell_type": "code",
      "metadata": {
        "id": "c05SafsfuY58"
      },
      "source": [
        "mean = m/255\n",
        "sdev = s/255"
      ],
      "execution_count": null,
      "outputs": []
    },
    {
      "cell_type": "code",
      "metadata": {
        "colab": {
          "base_uri": "https://localhost:8080/"
        },
        "id": "1NrvhVCrvIBS",
        "outputId": "7fd73214-74c6-4e7e-a1bc-0f372adb3d98"
      },
      "source": [
        "SEED = 101\n",
        "BATCH = 256\n",
        "\n",
        "cuda = torch.cuda.is_available()\n",
        "print(\"CUDA Available?\", cuda)\n",
        "\n",
        "if cuda:\n",
        "    torch.cuda.manual_seed(SEED)\n",
        "\n",
        "device = torch.device(\"cuda\" if cuda else \"cpu\")\n",
        "\n",
        "# dataloader arguments\n",
        "dataloader_args = dict(shuffle=True, batch_size=BATCH, num_workers=2, pin_memory=True)\\\n",
        "    if cuda else dict(shuffle=True, batch_size=32)\n"
      ],
      "execution_count": null,
      "outputs": [
        {
          "output_type": "stream",
          "text": [
            "CUDA Available? True\n"
          ],
          "name": "stdout"
        }
      ]
    },
    {
      "cell_type": "code",
      "metadata": {
        "id": "WR8UppPwXsop"
      },
      "source": [
        "# # transforms\n",
        "# train_transforms = transforms.Compose([transforms.ToTensor(),\n",
        "#                                        transforms.Normalize(mean=mean, std=sdev)\n",
        "#                                        ])\n",
        "\n",
        "# test_transforms = transforms.Compose([transforms.ToTensor(),\n",
        "#                                       transforms.Normalize(mean=mean, std=sdev)])\n",
        "\n",
        "# # data sets with transforms\n",
        "# train_set = torchvision.datasets.CIFAR10(root='./cifar-10', download=True, train=True, transform=train_transforms)\n",
        "\n",
        "# test_set = torchvision.datasets.CIFAR10('./cifar-10', train=False, download=True, transform=test_transforms)\n",
        "\n",
        "\n",
        "# # data loaders on data sets\n",
        "# train_loader = torch.utils.data.DataLoader(dataset=train_set, **dataloader_args)\n",
        "\n",
        "# test_loader = torch.utils.data.DataLoader(test_set, **dataloader_args)\n",
        "\n",
        "# from __future__ import print_function\n",
        "# channel_means = (0.49139968, 0.48215841, 0.44653091)\n",
        "# channel_stdevs = (0.24703223, 0.24348513, 0.26158784)\n",
        "# def unnormalize(img):\n",
        "#   img = img.numpy().astype(dtype=np.float32)\n",
        "  \n",
        "#   for i in range(img.shape[0]):\n",
        "#     img[i] = (img[i]*channel_stdevs[i])+channel_means[i]\n",
        "  \n",
        "#   return np.transpose(img, (1,2,0))\n",
        "#   #return np.transpose(img, (1, 2, 0))\n",
        "\n",
        "# %matplotlib inline\n",
        "# import matplotlib.pyplot as plt\n",
        "# dataiter = iter(train_loader)\n",
        "# images, labels = dataiter.next()\n",
        "\n",
        "# print(images.shape)\n",
        "# print(labels.shape)\n",
        "\n",
        "# num_classes = 10\n",
        "# # display 10 images from each category. \n",
        "# class_names = ['airplane','automobile','bird','cat','deer',\n",
        "#                'dog','frog','horse','ship','truck']\n",
        "# r, c = 10, 11\n",
        "# n = 5\n",
        "# fig = plt.figure(figsize=(10,10))\n",
        "# fig.subplots_adjust(hspace=0.04, wspace=0.04)\n",
        "# for i in range(num_classes):\n",
        "#     idx = np.random.choice(np.where(labels[:]==i)[0], n)\n",
        "#     ax = plt.subplot(r, c, i*c+1)\n",
        "#     ax.text(-1.5, 0.5, class_names[i], fontsize=14)\n",
        "#     plt.axis('off')\n",
        "#     for j in range(1, n+1):\n",
        "#       plt.subplot(r, c, i*c+j+1)\n",
        "#       plt.imshow(unnormalize(images[idx[j-1]]), interpolation='none')\n",
        "#       plt.axis('off')\n",
        "# plt.show()"
      ],
      "execution_count": null,
      "outputs": []
    },
    {
      "cell_type": "code",
      "metadata": {
        "id": "kkuRfo1IpoC3"
      },
      "source": [
        "criterion = nn.CrossEntropyLoss()\n",
        "def train_eval_model(model, train_loader, optimizer, device, epochs=1, test=False, test_loader=None, scheduler=None):\n",
        "          \n",
        "    model.train() # set the train mode\n",
        "    \n",
        "    # iterate over for `epochs` epochs and keep storing valuable info\n",
        "\n",
        "    for epoch in range(epochs):\n",
        "      correct = processed = train_loss = 0\n",
        "    #   if scheduler:\n",
        "    #     scheduler.step()\n",
        "\n",
        "      print(f\"\\n epoch num ================================= {epoch+1}\")\n",
        "      \n",
        "      pbar = tqdm(train_loader)\n",
        "      \n",
        "      for batch_idx, (data, target) in enumerate(pbar):\n",
        "          data, target = data.to(device), target.to(device) # move data to `device`\n",
        "\n",
        "          optimizer.zero_grad() # zero out the gradients to avoid accumulating them over loops\n",
        "\n",
        "          output = model(data) # get the model's predictions\n",
        "\n",
        "          loss = criterion(output, target) # calculate Negative Log Likelihood loss using ground truth labels and the model's predictions\n",
        "\n",
        "          train_loss += loss.item() # add up the train loss\n",
        "\n",
        "          loss.backward() # boom ! The magic function to perform backpropagation and calculate the gradients\n",
        "\n",
        "          optimizer.step() # take 1 step for the optimizer and update the weights\n",
        "\n",
        "          pred = output.argmax(dim=1, keepdim=True)  # get the index of the max log-probability\n",
        "\n",
        "          correct += pred.eq(target.view_as(pred)).sum().item() #  compare and see how many predictions are coorect and then add up the count\n",
        "\n",
        "          processed += len(data) # total processed data size\n",
        "\n",
        "      acc = 100 * correct/processed\n",
        "\n",
        "      train_losses.append(train_loss)\n",
        "\n",
        "      train_accuracy.append(acc)\n",
        "\n",
        "      if scheduler:\n",
        "        print(\"\\n\\n\\t\\t\\tLast LR -->\", scheduler.get_last_lr())\n",
        "        scheduler.step()\n",
        "\n",
        "      pbar.set_description(desc= f'loss={loss.item()} batch_id={batch_idx}')\n",
        "      \n",
        "      \n",
        "      train_loss /= len(train_loader.dataset)\n",
        "      print('\\n\\t\\t\\tTrain metrics: accuracy: {}/{} ({:.4f}%)'.format(correct,\n",
        "                                                              len(train_loader.dataset),\n",
        "                                                              correct * 100 / len(train_loader.dataset)))\n",
        "\n",
        "      if test: # moving to evaluation\n",
        "          model.eval() # set the correct mode\n",
        "          \n",
        "          correct = test_loss = 0\n",
        "\n",
        "          with torch.no_grad(): # to disable gradient calculation with no_grad context\n",
        "              \n",
        "              for data, target in test_loader:\n",
        "\n",
        "                  data, target = data.to(device), target.to(device)\n",
        "                  \n",
        "                  output = model(data)\n",
        "                  \n",
        "                  test_loss += criterion(output, target).sum().item()  # sum up batch loss\n",
        "                  \n",
        "                  pred = output.argmax(dim=1, keepdim=True)  # get the index of the max log-probability\n",
        "                  \n",
        "                  correct += pred.eq(target.view_as(pred)).sum().item()\n",
        "\n",
        "          test_loss /= len(test_loader.dataset)\n",
        "          test_losses.append(test_loss)\n",
        "          test_accuracy.append(100. * correct / len(test_loader.dataset))\n",
        "\n",
        "          print('\\n\\tTest metrics: average loss: {:.4f}, accuracy: {}/{} ({:.5f}%)\\n'.format(\n",
        "              test_loss, correct, len(test_loader.dataset),\n",
        "              100. * correct / len(test_loader.dataset)))"
      ],
      "execution_count": null,
      "outputs": []
    },
    {
      "cell_type": "code",
      "metadata": {
        "id": "GifNf68LwCav"
      },
      "source": [
        "def plot_graphs(*, train_losses, train_accuracy, test_losses, test_accuracy):\n",
        "    fig, axs = plt.subplots(2,2,figsize=(20,10))\n",
        "    axs[0, 0].plot(train_losses)\n",
        "    axs[0, 0].set_title(\"Training Loss\")\n",
        "    axs[1, 0].plot(train_accuracy)\n",
        "    axs[1, 0].set_title(\"Training Accuracy\")\n",
        "    axs[0, 1].plot(test_losses)\n",
        "    axs[0, 1].set_title(\"Test Loss\")\n",
        "    axs[1, 1].plot(test_accuracy)\n",
        "    axs[1, 1].set_title(\"Test Accuracy\")"
      ],
      "execution_count": null,
      "outputs": []
    },
    {
      "cell_type": "code",
      "metadata": {
        "id": "w_hwQGwmzahO"
      },
      "source": [
        "class Cifar10SearchDataset(torchvision.datasets.CIFAR10):\n",
        "    def __init__(self, root=\"./data/cifar10\", train=True, download=True, transform=None):\n",
        "        super().__init__(root=root, train=train, download=download, transform=transform)\n",
        "\n",
        "    def __getitem__(self, index):\n",
        "        image, label = self.data[index], self.targets[index]\n",
        "\n",
        "        if self.transform is not None:\n",
        "            transformed = self.transform(image=image)\n",
        "            image = transformed[\"image\"]\n",
        "\n",
        "        return image, label"
      ],
      "execution_count": null,
      "outputs": []
    },
    {
      "cell_type": "code",
      "metadata": {
        "id": "trNiivNwhn13"
      },
      "source": [
        "# transforms\n",
        "\n",
        "# here changed CoarseDropout's p to 0.25 from default 0.5, along with minor change in MedianBlur value and HSV' value\n",
        "train_transforms = A.Compose([\n",
        "                                A.HorizontalFlip(p=0.2),\n",
        "                                A.ShiftScaleRotate(shift_limit=0.14,scale_limit=0.15,rotate_limit=30,p=0.24),\n",
        "                                A.CoarseDropout(max_holes=1, p=0.3, max_height=16,\n",
        "                                                max_width=16, min_holes=1, min_height=16,\n",
        "                                                min_width=16, fill_value=mean),\n",
        "                                # A.MedianBlur(blur_limit=3, p=0.1),\n",
        "                                A.HueSaturationValue(p=0.1),\n",
        "                            #   A.GaussianBlur(blur_limit=3, p=0.12),\n",
        "                                # A.RandomBrightnessContrast(brightness_limit=0.09,contrast_limit=0.1, p=0.15),   \n",
        "                                A.Normalize(mean=mean, std=sdev),\n",
        "                                ToTensor()\n",
        "                                       ])\n",
        "\n",
        "test_transforms = A.Compose([\n",
        "                            A.Normalize(mean=mean, std=sdev),\n",
        "                            ToTensor()\n",
        "                                    ])\n"
      ],
      "execution_count": null,
      "outputs": []
    },
    {
      "cell_type": "code",
      "metadata": {
        "colab": {
          "base_uri": "https://localhost:8080/"
        },
        "id": "4HAK6Y1Uhn14",
        "outputId": "d84234e4-1726-4626-fb4f-eecd30b5b607"
      },
      "source": [
        "\n",
        "# data sets with transforms\n",
        "train_set = Cifar10SearchDataset(train=True, download=True, transform=train_transforms)\n",
        "\n",
        "test_set = Cifar10SearchDataset(train=False, download=True, transform=test_transforms)\n",
        "\n",
        "\n",
        "# data loaders on data sets\n",
        "train_loader = torch.utils.data.DataLoader(dataset=train_set, **dataloader_args)\n",
        "\n",
        "test_loader = torch.utils.data.DataLoader(test_set, **dataloader_args)"
      ],
      "execution_count": null,
      "outputs": [
        {
          "output_type": "stream",
          "text": [
            "Files already downloaded and verified\n",
            "Files already downloaded and verified\n"
          ],
          "name": "stdout"
        }
      ]
    },
    {
      "cell_type": "code",
      "metadata": {
        "colab": {
          "base_uri": "https://localhost:8080/",
          "height": 1000
        },
        "id": "3DkWGTxGhn15",
        "outputId": "0bea09de-5768-4060-a362-98a3f73772dd"
      },
      "source": [
        "from __future__ import print_function\n",
        "# channel_means = (0.49196659, 0.48229005, 0.4461573)\n",
        "# channel_stdevs = (0.24703223, 0.24348513, 0.26158784)\n",
        "def unnormalize(img):\n",
        "  img = img.numpy().astype(dtype=np.float32)\n",
        "  \n",
        "  for i in range(img.shape[0]):\n",
        "    img[i] = (img[i]*sdev[i])+mean[i]\n",
        "  \n",
        "  return np.transpose(img, (1,2,0))\n",
        "\n",
        "%matplotlib inline\n",
        "import matplotlib.pyplot as plt\n",
        "dataiter = iter(train_loader)\n",
        "images, labels = dataiter.next()\n",
        "\n",
        "print(images.shape)\n",
        "print(labels.shape)\n",
        "\n",
        "num_classes = 10\n",
        "# display 10 images from each category. \n",
        "class_names = ['airplane','automobile','bird','cat','deer',\n",
        "               'dog','frog','horse','ship','truck']\n",
        "r, c = 10, 11\n",
        "n = 5\n",
        "fig = plt.figure(figsize=(15,15))\n",
        "fig.subplots_adjust(hspace=0.2, wspace=0.2)\n",
        "for i in range(num_classes):\n",
        "    idx = np.random.choice(np.where(labels[:]==i)[0], n)\n",
        "    ax = plt.subplot(r, c, i*c+1)\n",
        "    ax.text(-1.5, 0.5, class_names[i], fontsize=14)\n",
        "    plt.axis('off')\n",
        "    for j in range(1, n+1):\n",
        "      plt.subplot(r, c, i*c+j+1)\n",
        "      plt.imshow(unnormalize(images[idx[j-1]]), interpolation='none')\n",
        "      plt.axis('off')\n",
        "plt.show()"
      ],
      "execution_count": null,
      "outputs": [
        {
          "output_type": "stream",
          "text": [
            "Clipping input data to the valid range for imshow with RGB data ([0..1] for floats or [0..255] for integers).\n"
          ],
          "name": "stderr"
        },
        {
          "output_type": "stream",
          "text": [
            "torch.Size([256, 3, 32, 32])\n",
            "torch.Size([256])\n"
          ],
          "name": "stdout"
        },
        {
          "output_type": "stream",
          "text": [
            "Clipping input data to the valid range for imshow with RGB data ([0..1] for floats or [0..255] for integers).\n",
            "Clipping input data to the valid range for imshow with RGB data ([0..1] for floats or [0..255] for integers).\n",
            "Clipping input data to the valid range for imshow with RGB data ([0..1] for floats or [0..255] for integers).\n",
            "Clipping input data to the valid range for imshow with RGB data ([0..1] for floats or [0..255] for integers).\n",
            "Clipping input data to the valid range for imshow with RGB data ([0..1] for floats or [0..255] for integers).\n",
            "Clipping input data to the valid range for imshow with RGB data ([0..1] for floats or [0..255] for integers).\n",
            "Clipping input data to the valid range for imshow with RGB data ([0..1] for floats or [0..255] for integers).\n",
            "Clipping input data to the valid range for imshow with RGB data ([0..1] for floats or [0..255] for integers).\n",
            "Clipping input data to the valid range for imshow with RGB data ([0..1] for floats or [0..255] for integers).\n",
            "Clipping input data to the valid range for imshow with RGB data ([0..1] for floats or [0..255] for integers).\n",
            "Clipping input data to the valid range for imshow with RGB data ([0..1] for floats or [0..255] for integers).\n",
            "Clipping input data to the valid range for imshow with RGB data ([0..1] for floats or [0..255] for integers).\n",
            "Clipping input data to the valid range for imshow with RGB data ([0..1] for floats or [0..255] for integers).\n",
            "Clipping input data to the valid range for imshow with RGB data ([0..1] for floats or [0..255] for integers).\n",
            "Clipping input data to the valid range for imshow with RGB data ([0..1] for floats or [0..255] for integers).\n",
            "Clipping input data to the valid range for imshow with RGB data ([0..1] for floats or [0..255] for integers).\n",
            "Clipping input data to the valid range for imshow with RGB data ([0..1] for floats or [0..255] for integers).\n",
            "Clipping input data to the valid range for imshow with RGB data ([0..1] for floats or [0..255] for integers).\n",
            "Clipping input data to the valid range for imshow with RGB data ([0..1] for floats or [0..255] for integers).\n",
            "Clipping input data to the valid range for imshow with RGB data ([0..1] for floats or [0..255] for integers).\n",
            "Clipping input data to the valid range for imshow with RGB data ([0..1] for floats or [0..255] for integers).\n",
            "Clipping input data to the valid range for imshow with RGB data ([0..1] for floats or [0..255] for integers).\n",
            "Clipping input data to the valid range for imshow with RGB data ([0..1] for floats or [0..255] for integers).\n"
          ],
          "name": "stderr"
        },
        {
          "output_type": "display_data",
          "data": {
            "image/png": "[encoded data removed]",
            "text/plain": [
              "<Figure size 1080x1080 with 60 Axes>"
            ]
          },
          "metadata": {
            "tags": [],
            "needs_background": "light"
          }
        }
      ]
    },
    {
      "cell_type": "markdown",
      "metadata": {
        "id": "Z73f8IF2TRNd"
      },
      "source": [
        "# Code 10"
      ]
    },
    {
      "cell_type": "code",
      "metadata": {
        "colab": {
          "base_uri": "https://localhost:8080/"
        },
        "id": "bMlz5p6GnqXY",
        "outputId": "27d8baf4-16a3-48fd-8501-568187322cc3"
      },
      "source": [
        "class Net10(nn.Module):\n",
        "    def __init__(self):\n",
        "        super().__init__()\n",
        "\n",
        "        self.block1 = nn.Sequential(\n",
        "            cv(3, 16, 3, padding=1),\n",
        "            relu(),\n",
        "            bn(16),\n",
        "            cv(16, 16, 3, padding=1, groups=1),\n",
        "            relu(),\n",
        "            bn(16),\n",
        "            cv(16, 32, 3, padding=1, groups=8),\n",
        "            relu(),\n",
        "            bn(32),\n",
        "            cv(32, 32, 1, padding=0, stride=1),\n",
        "            relu(),\n",
        "            bn(32)\n",
        "        )\n",
        "\n",
        "        self.block2 = nn.Sequential(\n",
        "            cv(32, 64, 3, padding=1, dilation=1, groups=8),\n",
        "            relu(),\n",
        "            bn(64),\n",
        "            cv(64, 24, 1),\n",
        "            relu(),\n",
        "            bn(24),\n",
        "            cv(24, 64, 3, dilation=1, padding=0, groups=8),\n",
        "            relu(),\n",
        "            bn(64),\n",
        "            cv(64, 32, 1),\n",
        "            relu(),\n",
        "            bn(32),\n",
        "            cv(32, 64, 3, padding=1, dilation=2, groups=16),\n",
        "            relu(),\n",
        "            bn(64),\n",
        "            cv(64, 32, 1),\n",
        "            relu(),\n",
        "            bn(32)\n",
        "        )\n",
        "\n",
        "        self.block3 = nn.Sequential(\n",
        "            cv(32, 64, 3, dilation=1, padding=1, groups=32, stride=1),\n",
        "            relu(),\n",
        "            bn(64),\n",
        "            cv(64, 128, 3, groups=32, dilation=1, padding=1),\n",
        "            relu(),\n",
        "            bn(128),\n",
        "            cv(128, 64, 1),\n",
        "            relu(),\n",
        "            bn(64),\n",
        "            cv(64, 96, 3, padding=1, groups=32),\n",
        "            relu(),\n",
        "            bn(96),\n",
        "            cv(96, 64, 1),\n",
        "            relu(),\n",
        "            bn(64),\n",
        "            cv(64, 64, 3, padding=2, dilation=2, stride=2),\n",
        "            relu(),\n",
        "            bn(64),\n",
        "            cv(64, 64, 1),\n",
        "            relu(),\n",
        "            bn(64)\n",
        "            )\n",
        "\n",
        "        self.block4 = nn.Sequential(\n",
        "            cv(64, 96, 3, padding=1, groups=16, stride=1, dilation=2),\n",
        "            bn(96),\n",
        "            relu(),\n",
        "            cv(96, 64, 1),\n",
        "            bn(64),\n",
        "            relu(),\n",
        "            cv(64, 64, 3, groups=64, padding=1, dilation=2), # depthwise (a)\n",
        "            cv(64, 24, 1), # pointwise for preceding depthwise (b)\n",
        "            bn(24),\n",
        "            relu(),\n",
        "            cv(24, 24, 3, dilation=2, groups=24, padding=0),\n",
        "            relu(),\n",
        "            bn(24),\n",
        "            cv(24, 10, 1, stride=1),\n",
        "            relu(),\n",
        "            bn(10),\n",
        "            nn.AdaptiveAvgPool2d(1)\n",
        "        )\n",
        "    \n",
        "        \n",
        "    def forward(self, x):\n",
        "        x = self.block1(x)\n",
        "        x = self.block2(x)\n",
        "        x = self.block3(x)\n",
        "        x = self.block4(x)\n",
        "        \n",
        "        x = x.view(-1, 10)\n",
        "        return F.log_softmax(x, dim=-1)\n",
        "\n",
        "\n",
        "model = Net10().to(device)\n",
        "summary(model, (3, 32, 32))"
      ],
      "execution_count": null,
      "outputs": [
        {
          "output_type": "stream",
          "text": [
            "----------------------------------------------------------------\n",
            "        Layer (type)               Output Shape         Param #\n",
            "================================================================\n",
            "            Conv2d-1           [-1, 16, 32, 32]             432\n",
            "              ReLU-2           [-1, 16, 32, 32]               0\n",
            "       BatchNorm2d-3           [-1, 16, 32, 32]              32\n",
            "            Conv2d-4           [-1, 16, 32, 32]           2,304\n",
            "              ReLU-5           [-1, 16, 32, 32]               0\n",
            "       BatchNorm2d-6           [-1, 16, 32, 32]              32\n",
            "            Conv2d-7           [-1, 32, 32, 32]             576\n",
            "              ReLU-8           [-1, 32, 32, 32]               0\n",
            "       BatchNorm2d-9           [-1, 32, 32, 32]              64\n",
            "           Conv2d-10           [-1, 32, 32, 32]           1,024\n",
            "             ReLU-11           [-1, 32, 32, 32]               0\n",
            "      BatchNorm2d-12           [-1, 32, 32, 32]              64\n",
            "           Conv2d-13           [-1, 64, 32, 32]           2,304\n",
            "             ReLU-14           [-1, 64, 32, 32]               0\n",
            "      BatchNorm2d-15           [-1, 64, 32, 32]             128\n",
            "           Conv2d-16           [-1, 24, 32, 32]           1,536\n",
            "             ReLU-17           [-1, 24, 32, 32]               0\n",
            "      BatchNorm2d-18           [-1, 24, 32, 32]              48\n",
            "           Conv2d-19           [-1, 64, 30, 30]           1,728\n",
            "             ReLU-20           [-1, 64, 30, 30]               0\n",
            "      BatchNorm2d-21           [-1, 64, 30, 30]             128\n",
            "           Conv2d-22           [-1, 32, 30, 30]           2,048\n",
            "             ReLU-23           [-1, 32, 30, 30]               0\n",
            "      BatchNorm2d-24           [-1, 32, 30, 30]              64\n",
            "           Conv2d-25           [-1, 64, 28, 28]           1,152\n",
            "             ReLU-26           [-1, 64, 28, 28]               0\n",
            "      BatchNorm2d-27           [-1, 64, 28, 28]             128\n",
            "           Conv2d-28           [-1, 32, 28, 28]           2,048\n",
            "             ReLU-29           [-1, 32, 28, 28]               0\n",
            "      BatchNorm2d-30           [-1, 32, 28, 28]              64\n",
            "           Conv2d-31           [-1, 64, 28, 28]             576\n",
            "             ReLU-32           [-1, 64, 28, 28]               0\n",
            "      BatchNorm2d-33           [-1, 64, 28, 28]             128\n",
            "           Conv2d-34          [-1, 128, 28, 28]           2,304\n",
            "             ReLU-35          [-1, 128, 28, 28]               0\n",
            "      BatchNorm2d-36          [-1, 128, 28, 28]             256\n",
            "           Conv2d-37           [-1, 64, 28, 28]           8,192\n",
            "             ReLU-38           [-1, 64, 28, 28]               0\n",
            "      BatchNorm2d-39           [-1, 64, 28, 28]             128\n",
            "           Conv2d-40           [-1, 96, 28, 28]           1,728\n",
            "             ReLU-41           [-1, 96, 28, 28]               0\n",
            "      BatchNorm2d-42           [-1, 96, 28, 28]             192\n",
            "           Conv2d-43           [-1, 64, 28, 28]           6,144\n",
            "             ReLU-44           [-1, 64, 28, 28]               0\n",
            "      BatchNorm2d-45           [-1, 64, 28, 28]             128\n",
            "           Conv2d-46           [-1, 64, 14, 14]          36,864\n",
            "             ReLU-47           [-1, 64, 14, 14]               0\n",
            "      BatchNorm2d-48           [-1, 64, 14, 14]             128\n",
            "           Conv2d-49           [-1, 64, 14, 14]           4,096\n",
            "             ReLU-50           [-1, 64, 14, 14]               0\n",
            "      BatchNorm2d-51           [-1, 64, 14, 14]             128\n",
            "           Conv2d-52           [-1, 96, 12, 12]           3,456\n",
            "      BatchNorm2d-53           [-1, 96, 12, 12]             192\n",
            "             ReLU-54           [-1, 96, 12, 12]               0\n",
            "           Conv2d-55           [-1, 64, 12, 12]           6,144\n",
            "      BatchNorm2d-56           [-1, 64, 12, 12]             128\n",
            "             ReLU-57           [-1, 64, 12, 12]               0\n",
            "           Conv2d-58           [-1, 64, 10, 10]             576\n",
            "           Conv2d-59           [-1, 24, 10, 10]           1,536\n",
            "      BatchNorm2d-60           [-1, 24, 10, 10]              48\n",
            "             ReLU-61           [-1, 24, 10, 10]               0\n",
            "           Conv2d-62             [-1, 24, 6, 6]             216\n",
            "             ReLU-63             [-1, 24, 6, 6]               0\n",
            "      BatchNorm2d-64             [-1, 24, 6, 6]              48\n",
            "           Conv2d-65             [-1, 10, 6, 6]             240\n",
            "             ReLU-66             [-1, 10, 6, 6]               0\n",
            "      BatchNorm2d-67             [-1, 10, 6, 6]              20\n",
            "AdaptiveAvgPool2d-68             [-1, 10, 1, 1]               0\n",
            "================================================================\n",
            "Total params: 89,500\n",
            "Trainable params: 89,500\n",
            "Non-trainable params: 0\n",
            "----------------------------------------------------------------\n",
            "Input size (MB): 0.01\n",
            "Forward/backward pass size (MB): 16.71\n",
            "Params size (MB): 0.34\n",
            "Estimated Total Size (MB): 17.06\n",
            "----------------------------------------------------------------\n"
          ],
          "name": "stdout"
        }
      ]
    },
    {
      "cell_type": "code",
      "metadata": {
        "id": "T8TbhdUsnp-p",
        "colab": {
          "base_uri": "https://localhost:8080/"
        },
        "outputId": "a4bcdead-394b-429e-ab11-d7695e887441"
      },
      "source": [
        "optimizer = optim.SGD(model.parameters(), lr=0.0003, momentum=0.95, nesterov=False)\n",
        "\n",
        "train_losses = []\n",
        "train_accuracy = []\n",
        "test_losses = []\n",
        "test_accuracy = []\n",
        "\n",
        "train_eval_model(model, train_loader, optimizer, device, epochs=50, test=True, test_loader=test_loader,scheduler=None)"
      ],
      "execution_count": null,
      "outputs": [
        {
          "output_type": "stream",
          "text": [
            "\r  0%|          | 0/196 [00:00<?, ?it/s]"
          ],
          "name": "stderr"
        },
        {
          "output_type": "stream",
          "text": [
            "\n",
            " epoch num ================================= 1\n"
          ],
          "name": "stdout"
        },
        {
          "output_type": "stream",
          "text": [
            "100%|██████████| 196/196 [00:51<00:00,  3.82it/s]"
          ],
          "name": "stderr"
        },
        {
          "output_type": "stream",
          "text": [
            "\n",
            "\t\t\tTrain metrics: accuracy: 7053/50000 (14.1060%)\n"
          ],
          "name": "stdout"
        },
        {
          "output_type": "stream",
          "text": [
            "\n",
            "  0%|          | 0/196 [00:00<?, ?it/s]"
          ],
          "name": "stderr"
        },
        {
          "output_type": "stream",
          "text": [
            "\n",
            "\tTest metrics: average loss: 0.0085, accuracy: 2082/10000 (20.82000%)\n",
            "\n",
            "\n",
            " epoch num ================================= 2\n"
          ],
          "name": "stdout"
        },
        {
          "output_type": "stream",
          "text": [
            "100%|██████████| 196/196 [00:51<00:00,  3.83it/s]"
          ],
          "name": "stderr"
        },
        {
          "output_type": "stream",
          "text": [
            "\n",
            "\t\t\tTrain metrics: accuracy: 11227/50000 (22.4540%)\n"
          ],
          "name": "stdout"
        },
        {
          "output_type": "stream",
          "text": [
            "\n",
            "  0%|          | 0/196 [00:00<?, ?it/s]"
          ],
          "name": "stderr"
        },
        {
          "output_type": "stream",
          "text": [
            "\n",
            "\tTest metrics: average loss: 0.0075, accuracy: 2890/10000 (28.90000%)\n",
            "\n",
            "\n",
            " epoch num ================================= 3\n"
          ],
          "name": "stdout"
        },
        {
          "output_type": "stream",
          "text": [
            "100%|██████████| 196/196 [00:51<00:00,  3.82it/s]"
          ],
          "name": "stderr"
        },
        {
          "output_type": "stream",
          "text": [
            "\n",
            "\t\t\tTrain metrics: accuracy: 14042/50000 (28.0840%)\n"
          ],
          "name": "stdout"
        },
        {
          "output_type": "stream",
          "text": [
            "\n",
            "  0%|          | 0/196 [00:00<?, ?it/s]"
          ],
          "name": "stderr"
        },
        {
          "output_type": "stream",
          "text": [
            "\n",
            "\tTest metrics: average loss: 0.0071, accuracy: 3433/10000 (34.33000%)\n",
            "\n",
            "\n",
            " epoch num ================================= 4\n"
          ],
          "name": "stdout"
        },
        {
          "output_type": "stream",
          "text": [
            "100%|██████████| 196/196 [00:51<00:00,  3.82it/s]"
          ],
          "name": "stderr"
        },
        {
          "output_type": "stream",
          "text": [
            "\n",
            "\t\t\tTrain metrics: accuracy: 16160/50000 (32.3200%)\n"
          ],
          "name": "stdout"
        },
        {
          "output_type": "stream",
          "text": [
            "\n",
            "  0%|          | 0/196 [00:00<?, ?it/s]"
          ],
          "name": "stderr"
        },
        {
          "output_type": "stream",
          "text": [
            "\n",
            "\tTest metrics: average loss: 0.0067, accuracy: 3848/10000 (38.48000%)\n",
            "\n",
            "\n",
            " epoch num ================================= 5\n"
          ],
          "name": "stdout"
        },
        {
          "output_type": "stream",
          "text": [
            "100%|██████████| 196/196 [00:51<00:00,  3.81it/s]"
          ],
          "name": "stderr"
        },
        {
          "output_type": "stream",
          "text": [
            "\n",
            "\t\t\tTrain metrics: accuracy: 17614/50000 (35.2280%)\n"
          ],
          "name": "stdout"
        },
        {
          "output_type": "stream",
          "text": [
            "\n",
            "  0%|          | 0/196 [00:00<?, ?it/s]"
          ],
          "name": "stderr"
        },
        {
          "output_type": "stream",
          "text": [
            "\n",
            "\tTest metrics: average loss: 0.0065, accuracy: 3988/10000 (39.88000%)\n",
            "\n",
            "\n",
            " epoch num ================================= 6\n"
          ],
          "name": "stdout"
        },
        {
          "output_type": "stream",
          "text": [
            "100%|██████████| 196/196 [00:51<00:00,  3.83it/s]"
          ],
          "name": "stderr"
        },
        {
          "output_type": "stream",
          "text": [
            "\n",
            "\t\t\tTrain metrics: accuracy: 18820/50000 (37.6400%)\n"
          ],
          "name": "stdout"
        },
        {
          "output_type": "stream",
          "text": [
            "\n",
            "  0%|          | 0/196 [00:00<?, ?it/s]"
          ],
          "name": "stderr"
        },
        {
          "output_type": "stream",
          "text": [
            "\n",
            "\tTest metrics: average loss: 0.0063, accuracy: 4129/10000 (41.29000%)\n",
            "\n",
            "\n",
            " epoch num ================================= 7\n"
          ],
          "name": "stdout"
        },
        {
          "output_type": "stream",
          "text": [
            "100%|██████████| 196/196 [00:51<00:00,  3.82it/s]"
          ],
          "name": "stderr"
        },
        {
          "output_type": "stream",
          "text": [
            "\n",
            "\t\t\tTrain metrics: accuracy: 19736/50000 (39.4720%)\n"
          ],
          "name": "stdout"
        },
        {
          "output_type": "stream",
          "text": [
            "\n",
            "  0%|          | 0/196 [00:00<?, ?it/s]"
          ],
          "name": "stderr"
        },
        {
          "output_type": "stream",
          "text": [
            "\n",
            "\tTest metrics: average loss: 0.0061, accuracy: 4304/10000 (43.04000%)\n",
            "\n",
            "\n",
            " epoch num ================================= 8\n"
          ],
          "name": "stdout"
        },
        {
          "output_type": "stream",
          "text": [
            "100%|██████████| 196/196 [00:51<00:00,  3.82it/s]"
          ],
          "name": "stderr"
        },
        {
          "output_type": "stream",
          "text": [
            "\n",
            "\t\t\tTrain metrics: accuracy: 20196/50000 (40.3920%)\n"
          ],
          "name": "stdout"
        },
        {
          "output_type": "stream",
          "text": [
            "\n",
            "  0%|          | 0/196 [00:00<?, ?it/s]"
          ],
          "name": "stderr"
        },
        {
          "output_type": "stream",
          "text": [
            "\n",
            "\tTest metrics: average loss: 0.0060, accuracy: 4552/10000 (45.52000%)\n",
            "\n",
            "\n",
            " epoch num ================================= 9\n"
          ],
          "name": "stdout"
        },
        {
          "output_type": "stream",
          "text": [
            "100%|██████████| 196/196 [00:51<00:00,  3.82it/s]"
          ],
          "name": "stderr"
        },
        {
          "output_type": "stream",
          "text": [
            "\n",
            "\t\t\tTrain metrics: accuracy: 20673/50000 (41.3460%)\n"
          ],
          "name": "stdout"
        },
        {
          "output_type": "stream",
          "text": [
            "\n",
            "  0%|          | 0/196 [00:00<?, ?it/s]"
          ],
          "name": "stderr"
        },
        {
          "output_type": "stream",
          "text": [
            "\n",
            "\tTest metrics: average loss: 0.0060, accuracy: 4552/10000 (45.52000%)\n",
            "\n",
            "\n",
            " epoch num ================================= 10\n"
          ],
          "name": "stdout"
        },
        {
          "output_type": "stream",
          "text": [
            "100%|██████████| 196/196 [00:51<00:00,  3.82it/s]"
          ],
          "name": "stderr"
        },
        {
          "output_type": "stream",
          "text": [
            "\n",
            "\t\t\tTrain metrics: accuracy: 21173/50000 (42.3460%)\n"
          ],
          "name": "stdout"
        },
        {
          "output_type": "stream",
          "text": [
            "\n",
            "  0%|          | 0/196 [00:00<?, ?it/s]"
          ],
          "name": "stderr"
        },
        {
          "output_type": "stream",
          "text": [
            "\n",
            "\tTest metrics: average loss: 0.0057, accuracy: 4801/10000 (48.01000%)\n",
            "\n",
            "\n",
            " epoch num ================================= 11\n"
          ],
          "name": "stdout"
        },
        {
          "output_type": "stream",
          "text": [
            "100%|██████████| 196/196 [00:51<00:00,  3.82it/s]"
          ],
          "name": "stderr"
        },
        {
          "output_type": "stream",
          "text": [
            "\n",
            "\t\t\tTrain metrics: accuracy: 21995/50000 (43.9900%)\n"
          ],
          "name": "stdout"
        },
        {
          "output_type": "stream",
          "text": [
            "\n",
            "  0%|          | 0/196 [00:00<?, ?it/s]"
          ],
          "name": "stderr"
        },
        {
          "output_type": "stream",
          "text": [
            "\n",
            "\tTest metrics: average loss: 0.0056, accuracy: 4907/10000 (49.07000%)\n",
            "\n",
            "\n",
            " epoch num ================================= 12\n"
          ],
          "name": "stdout"
        },
        {
          "output_type": "stream",
          "text": [
            "100%|██████████| 196/196 [00:51<00:00,  3.83it/s]"
          ],
          "name": "stderr"
        },
        {
          "output_type": "stream",
          "text": [
            "\n",
            "\t\t\tTrain metrics: accuracy: 22473/50000 (44.9460%)\n"
          ],
          "name": "stdout"
        },
        {
          "output_type": "stream",
          "text": [
            "\n",
            "  0%|          | 0/196 [00:00<?, ?it/s]"
          ],
          "name": "stderr"
        },
        {
          "output_type": "stream",
          "text": [
            "\n",
            "\tTest metrics: average loss: 0.0055, accuracy: 5059/10000 (50.59000%)\n",
            "\n",
            "\n",
            " epoch num ================================= 13\n"
          ],
          "name": "stdout"
        },
        {
          "output_type": "stream",
          "text": [
            "100%|██████████| 196/196 [00:51<00:00,  3.82it/s]"
          ],
          "name": "stderr"
        },
        {
          "output_type": "stream",
          "text": [
            "\n",
            "\t\t\tTrain metrics: accuracy: 22897/50000 (45.7940%)\n"
          ],
          "name": "stdout"
        },
        {
          "output_type": "stream",
          "text": [
            "\n",
            "  0%|          | 0/196 [00:00<?, ?it/s]"
          ],
          "name": "stderr"
        },
        {
          "output_type": "stream",
          "text": [
            "\n",
            "\tTest metrics: average loss: 0.0054, accuracy: 5200/10000 (52.00000%)\n",
            "\n",
            "\n",
            " epoch num ================================= 14\n"
          ],
          "name": "stdout"
        },
        {
          "output_type": "stream",
          "text": [
            "100%|██████████| 196/196 [00:51<00:00,  3.83it/s]"
          ],
          "name": "stderr"
        },
        {
          "output_type": "stream",
          "text": [
            "\n",
            "\t\t\tTrain metrics: accuracy: 23311/50000 (46.6220%)\n"
          ],
          "name": "stdout"
        },
        {
          "output_type": "stream",
          "text": [
            "\n",
            "  0%|          | 0/196 [00:00<?, ?it/s]"
          ],
          "name": "stderr"
        },
        {
          "output_type": "stream",
          "text": [
            "\n",
            "\tTest metrics: average loss: 0.0054, accuracy: 5183/10000 (51.83000%)\n",
            "\n",
            "\n",
            " epoch num ================================= 15\n"
          ],
          "name": "stdout"
        },
        {
          "output_type": "stream",
          "text": [
            "100%|██████████| 196/196 [00:51<00:00,  3.82it/s]"
          ],
          "name": "stderr"
        },
        {
          "output_type": "stream",
          "text": [
            "\n",
            "\t\t\tTrain metrics: accuracy: 23987/50000 (47.9740%)\n"
          ],
          "name": "stdout"
        },
        {
          "output_type": "stream",
          "text": [
            "\n",
            "  0%|          | 0/196 [00:00<?, ?it/s]"
          ],
          "name": "stderr"
        },
        {
          "output_type": "stream",
          "text": [
            "\n",
            "\tTest metrics: average loss: 0.0052, accuracy: 5384/10000 (53.84000%)\n",
            "\n",
            "\n",
            " epoch num ================================= 16\n"
          ],
          "name": "stdout"
        },
        {
          "output_type": "stream",
          "text": [
            "100%|██████████| 196/196 [00:51<00:00,  3.82it/s]"
          ],
          "name": "stderr"
        },
        {
          "output_type": "stream",
          "text": [
            "\n",
            "\t\t\tTrain metrics: accuracy: 24254/50000 (48.5080%)\n"
          ],
          "name": "stdout"
        },
        {
          "output_type": "stream",
          "text": [
            "\n",
            "  0%|          | 0/196 [00:00<?, ?it/s]"
          ],
          "name": "stderr"
        },
        {
          "output_type": "stream",
          "text": [
            "\n",
            "\tTest metrics: average loss: 0.0051, accuracy: 5415/10000 (54.15000%)\n",
            "\n",
            "\n",
            " epoch num ================================= 17\n"
          ],
          "name": "stdout"
        },
        {
          "output_type": "stream",
          "text": [
            "100%|██████████| 196/196 [00:51<00:00,  3.83it/s]"
          ],
          "name": "stderr"
        },
        {
          "output_type": "stream",
          "text": [
            "\n",
            "\t\t\tTrain metrics: accuracy: 24645/50000 (49.2900%)\n"
          ],
          "name": "stdout"
        },
        {
          "output_type": "stream",
          "text": [
            "\n",
            "  0%|          | 0/196 [00:00<?, ?it/s]"
          ],
          "name": "stderr"
        },
        {
          "output_type": "stream",
          "text": [
            "\n",
            "\tTest metrics: average loss: 0.0050, accuracy: 5456/10000 (54.56000%)\n",
            "\n",
            "\n",
            " epoch num ================================= 18\n"
          ],
          "name": "stdout"
        },
        {
          "output_type": "stream",
          "text": [
            "100%|██████████| 196/196 [00:51<00:00,  3.82it/s]"
          ],
          "name": "stderr"
        },
        {
          "output_type": "stream",
          "text": [
            "\n",
            "\t\t\tTrain metrics: accuracy: 25113/50000 (50.2260%)\n"
          ],
          "name": "stdout"
        },
        {
          "output_type": "stream",
          "text": [
            "\n",
            "  0%|          | 0/196 [00:00<?, ?it/s]"
          ],
          "name": "stderr"
        },
        {
          "output_type": "stream",
          "text": [
            "\n",
            "\tTest metrics: average loss: 0.0049, accuracy: 5516/10000 (55.16000%)\n",
            "\n",
            "\n",
            " epoch num ================================= 19\n"
          ],
          "name": "stdout"
        },
        {
          "output_type": "stream",
          "text": [
            "100%|██████████| 196/196 [00:51<00:00,  3.81it/s]"
          ],
          "name": "stderr"
        },
        {
          "output_type": "stream",
          "text": [
            "\n",
            "\t\t\tTrain metrics: accuracy: 25272/50000 (50.5440%)\n"
          ],
          "name": "stdout"
        },
        {
          "output_type": "stream",
          "text": [
            "\n",
            "  0%|          | 0/196 [00:00<?, ?it/s]"
          ],
          "name": "stderr"
        },
        {
          "output_type": "stream",
          "text": [
            "\n",
            "\tTest metrics: average loss: 0.0047, accuracy: 5689/10000 (56.89000%)\n",
            "\n",
            "\n",
            " epoch num ================================= 20\n"
          ],
          "name": "stdout"
        },
        {
          "output_type": "stream",
          "text": [
            "100%|██████████| 196/196 [00:51<00:00,  3.82it/s]"
          ],
          "name": "stderr"
        },
        {
          "output_type": "stream",
          "text": [
            "\n",
            "\t\t\tTrain metrics: accuracy: 25734/50000 (51.4680%)\n"
          ],
          "name": "stdout"
        },
        {
          "output_type": "stream",
          "text": [
            "\n",
            "  0%|          | 0/196 [00:00<?, ?it/s]"
          ],
          "name": "stderr"
        },
        {
          "output_type": "stream",
          "text": [
            "\n",
            "\tTest metrics: average loss: 0.0047, accuracy: 5782/10000 (57.82000%)\n",
            "\n",
            "\n",
            " epoch num ================================= 21\n"
          ],
          "name": "stdout"
        },
        {
          "output_type": "stream",
          "text": [
            "100%|██████████| 196/196 [00:51<00:00,  3.81it/s]"
          ],
          "name": "stderr"
        },
        {
          "output_type": "stream",
          "text": [
            "\n",
            "\t\t\tTrain metrics: accuracy: 26079/50000 (52.1580%)\n"
          ],
          "name": "stdout"
        },
        {
          "output_type": "stream",
          "text": [
            "\n",
            "  0%|          | 0/196 [00:00<?, ?it/s]"
          ],
          "name": "stderr"
        },
        {
          "output_type": "stream",
          "text": [
            "\n",
            "\tTest metrics: average loss: 0.0046, accuracy: 5839/10000 (58.39000%)\n",
            "\n",
            "\n",
            " epoch num ================================= 22\n"
          ],
          "name": "stdout"
        },
        {
          "output_type": "stream",
          "text": [
            "100%|██████████| 196/196 [00:51<00:00,  3.82it/s]"
          ],
          "name": "stderr"
        },
        {
          "output_type": "stream",
          "text": [
            "\n",
            "\t\t\tTrain metrics: accuracy: 26249/50000 (52.4980%)\n"
          ],
          "name": "stdout"
        },
        {
          "output_type": "stream",
          "text": [
            "\n",
            "  0%|          | 0/196 [00:00<?, ?it/s]"
          ],
          "name": "stderr"
        },
        {
          "output_type": "stream",
          "text": [
            "\n",
            "\tTest metrics: average loss: 0.0046, accuracy: 5913/10000 (59.13000%)\n",
            "\n",
            "\n",
            " epoch num ================================= 23\n"
          ],
          "name": "stdout"
        },
        {
          "output_type": "stream",
          "text": [
            "100%|██████████| 196/196 [00:51<00:00,  3.83it/s]"
          ],
          "name": "stderr"
        },
        {
          "output_type": "stream",
          "text": [
            "\n",
            "\t\t\tTrain metrics: accuracy: 26459/50000 (52.9180%)\n"
          ],
          "name": "stdout"
        },
        {
          "output_type": "stream",
          "text": [
            "\n",
            "  0%|          | 0/196 [00:00<?, ?it/s]"
          ],
          "name": "stderr"
        },
        {
          "output_type": "stream",
          "text": [
            "\n",
            "\tTest metrics: average loss: 0.0047, accuracy: 5844/10000 (58.44000%)\n",
            "\n",
            "\n",
            " epoch num ================================= 24\n"
          ],
          "name": "stdout"
        },
        {
          "output_type": "stream",
          "text": [
            "100%|██████████| 196/196 [00:51<00:00,  3.83it/s]"
          ],
          "name": "stderr"
        },
        {
          "output_type": "stream",
          "text": [
            "\n",
            "\t\t\tTrain metrics: accuracy: 26645/50000 (53.2900%)\n"
          ],
          "name": "stdout"
        },
        {
          "output_type": "stream",
          "text": [
            "\n",
            "  0%|          | 0/196 [00:00<?, ?it/s]"
          ],
          "name": "stderr"
        },
        {
          "output_type": "stream",
          "text": [
            "\n",
            "\tTest metrics: average loss: 0.0045, accuracy: 5931/10000 (59.31000%)\n",
            "\n",
            "\n",
            " epoch num ================================= 25\n"
          ],
          "name": "stdout"
        },
        {
          "output_type": "stream",
          "text": [
            "100%|██████████| 196/196 [00:51<00:00,  3.82it/s]"
          ],
          "name": "stderr"
        },
        {
          "output_type": "stream",
          "text": [
            "\n",
            "\t\t\tTrain metrics: accuracy: 27085/50000 (54.1700%)\n"
          ],
          "name": "stdout"
        },
        {
          "output_type": "stream",
          "text": [
            "\n",
            "  0%|          | 0/196 [00:00<?, ?it/s]"
          ],
          "name": "stderr"
        },
        {
          "output_type": "stream",
          "text": [
            "\n",
            "\tTest metrics: average loss: 0.0045, accuracy: 6017/10000 (60.17000%)\n",
            "\n",
            "\n",
            " epoch num ================================= 26\n"
          ],
          "name": "stdout"
        },
        {
          "output_type": "stream",
          "text": [
            "100%|██████████| 196/196 [00:51<00:00,  3.82it/s]"
          ],
          "name": "stderr"
        },
        {
          "output_type": "stream",
          "text": [
            "\n",
            "\t\t\tTrain metrics: accuracy: 27375/50000 (54.7500%)\n"
          ],
          "name": "stdout"
        },
        {
          "output_type": "stream",
          "text": [
            "\n",
            "  0%|          | 0/196 [00:00<?, ?it/s]"
          ],
          "name": "stderr"
        },
        {
          "output_type": "stream",
          "text": [
            "\n",
            "\tTest metrics: average loss: 0.0044, accuracy: 6034/10000 (60.34000%)\n",
            "\n",
            "\n",
            " epoch num ================================= 27\n"
          ],
          "name": "stdout"
        },
        {
          "output_type": "stream",
          "text": [
            "100%|██████████| 196/196 [00:51<00:00,  3.83it/s]"
          ],
          "name": "stderr"
        },
        {
          "output_type": "stream",
          "text": [
            "\n",
            "\t\t\tTrain metrics: accuracy: 27714/50000 (55.4280%)\n"
          ],
          "name": "stdout"
        },
        {
          "output_type": "stream",
          "text": [
            "\n",
            "  0%|          | 0/196 [00:00<?, ?it/s]"
          ],
          "name": "stderr"
        },
        {
          "output_type": "stream",
          "text": [
            "\n",
            "\tTest metrics: average loss: 0.0043, accuracy: 6133/10000 (61.33000%)\n",
            "\n",
            "\n",
            " epoch num ================================= 28\n"
          ],
          "name": "stdout"
        },
        {
          "output_type": "stream",
          "text": [
            "100%|██████████| 196/196 [00:51<00:00,  3.83it/s]"
          ],
          "name": "stderr"
        },
        {
          "output_type": "stream",
          "text": [
            "\n",
            "\t\t\tTrain metrics: accuracy: 27860/50000 (55.7200%)\n"
          ],
          "name": "stdout"
        },
        {
          "output_type": "stream",
          "text": [
            "\n",
            "  0%|          | 0/196 [00:00<?, ?it/s]"
          ],
          "name": "stderr"
        },
        {
          "output_type": "stream",
          "text": [
            "\n",
            "\tTest metrics: average loss: 0.0043, accuracy: 6078/10000 (60.78000%)\n",
            "\n",
            "\n",
            " epoch num ================================= 29\n"
          ],
          "name": "stdout"
        },
        {
          "output_type": "stream",
          "text": [
            "100%|██████████| 196/196 [00:51<00:00,  3.82it/s]"
          ],
          "name": "stderr"
        },
        {
          "output_type": "stream",
          "text": [
            "\n",
            "\t\t\tTrain metrics: accuracy: 28152/50000 (56.3040%)\n"
          ],
          "name": "stdout"
        },
        {
          "output_type": "stream",
          "text": [
            "\n",
            "  0%|          | 0/196 [00:00<?, ?it/s]"
          ],
          "name": "stderr"
        },
        {
          "output_type": "stream",
          "text": [
            "\n",
            "\tTest metrics: average loss: 0.0042, accuracy: 6187/10000 (61.87000%)\n",
            "\n",
            "\n",
            " epoch num ================================= 30\n"
          ],
          "name": "stdout"
        },
        {
          "output_type": "stream",
          "text": [
            "100%|██████████| 196/196 [00:51<00:00,  3.82it/s]"
          ],
          "name": "stderr"
        },
        {
          "output_type": "stream",
          "text": [
            "\n",
            "\t\t\tTrain metrics: accuracy: 28438/50000 (56.8760%)\n"
          ],
          "name": "stdout"
        },
        {
          "output_type": "stream",
          "text": [
            "\n",
            "  0%|          | 0/196 [00:00<?, ?it/s]"
          ],
          "name": "stderr"
        },
        {
          "output_type": "stream",
          "text": [
            "\n",
            "\tTest metrics: average loss: 0.0042, accuracy: 6208/10000 (62.08000%)\n",
            "\n",
            "\n",
            " epoch num ================================= 31\n"
          ],
          "name": "stdout"
        },
        {
          "output_type": "stream",
          "text": [
            "100%|██████████| 196/196 [00:51<00:00,  3.83it/s]"
          ],
          "name": "stderr"
        },
        {
          "output_type": "stream",
          "text": [
            "\n",
            "\t\t\tTrain metrics: accuracy: 28604/50000 (57.2080%)\n"
          ],
          "name": "stdout"
        },
        {
          "output_type": "stream",
          "text": [
            "\n",
            "  0%|          | 0/196 [00:00<?, ?it/s]"
          ],
          "name": "stderr"
        },
        {
          "output_type": "stream",
          "text": [
            "\n",
            "\tTest metrics: average loss: 0.0041, accuracy: 6236/10000 (62.36000%)\n",
            "\n",
            "\n",
            " epoch num ================================= 32\n"
          ],
          "name": "stdout"
        },
        {
          "output_type": "stream",
          "text": [
            "100%|██████████| 196/196 [00:51<00:00,  3.83it/s]"
          ],
          "name": "stderr"
        },
        {
          "output_type": "stream",
          "text": [
            "\n",
            "\t\t\tTrain metrics: accuracy: 28869/50000 (57.7380%)\n"
          ],
          "name": "stdout"
        },
        {
          "output_type": "stream",
          "text": [
            "\n",
            "  0%|          | 0/196 [00:00<?, ?it/s]"
          ],
          "name": "stderr"
        },
        {
          "output_type": "stream",
          "text": [
            "\n",
            "\tTest metrics: average loss: 0.0042, accuracy: 6262/10000 (62.62000%)\n",
            "\n",
            "\n",
            " epoch num ================================= 33\n"
          ],
          "name": "stdout"
        },
        {
          "output_type": "stream",
          "text": [
            "100%|██████████| 196/196 [00:51<00:00,  3.82it/s]"
          ],
          "name": "stderr"
        },
        {
          "output_type": "stream",
          "text": [
            "\n",
            "\t\t\tTrain metrics: accuracy: 29293/50000 (58.5860%)\n"
          ],
          "name": "stdout"
        },
        {
          "output_type": "stream",
          "text": [
            "\n",
            "  0%|          | 0/196 [00:00<?, ?it/s]"
          ],
          "name": "stderr"
        },
        {
          "output_type": "stream",
          "text": [
            "\n",
            "\tTest metrics: average loss: 0.0041, accuracy: 6296/10000 (62.96000%)\n",
            "\n",
            "\n",
            " epoch num ================================= 34\n"
          ],
          "name": "stdout"
        },
        {
          "output_type": "stream",
          "text": [
            "100%|██████████| 196/196 [00:51<00:00,  3.83it/s]"
          ],
          "name": "stderr"
        },
        {
          "output_type": "stream",
          "text": [
            "\n",
            "\t\t\tTrain metrics: accuracy: 29181/50000 (58.3620%)\n"
          ],
          "name": "stdout"
        },
        {
          "output_type": "stream",
          "text": [
            "\n",
            "  0%|          | 0/196 [00:00<?, ?it/s]"
          ],
          "name": "stderr"
        },
        {
          "output_type": "stream",
          "text": [
            "\n",
            "\tTest metrics: average loss: 0.0041, accuracy: 6390/10000 (63.90000%)\n",
            "\n",
            "\n",
            " epoch num ================================= 35\n"
          ],
          "name": "stdout"
        },
        {
          "output_type": "stream",
          "text": [
            "100%|██████████| 196/196 [00:51<00:00,  3.83it/s]"
          ],
          "name": "stderr"
        },
        {
          "output_type": "stream",
          "text": [
            "\n",
            "\t\t\tTrain metrics: accuracy: 29545/50000 (59.0900%)\n"
          ],
          "name": "stdout"
        },
        {
          "output_type": "stream",
          "text": [
            "\n",
            "  0%|          | 0/196 [00:00<?, ?it/s]"
          ],
          "name": "stderr"
        },
        {
          "output_type": "stream",
          "text": [
            "\n",
            "\tTest metrics: average loss: 0.0040, accuracy: 6453/10000 (64.53000%)\n",
            "\n",
            "\n",
            " epoch num ================================= 36\n"
          ],
          "name": "stdout"
        },
        {
          "output_type": "stream",
          "text": [
            "100%|██████████| 196/196 [00:51<00:00,  3.82it/s]"
          ],
          "name": "stderr"
        },
        {
          "output_type": "stream",
          "text": [
            "\n",
            "\t\t\tTrain metrics: accuracy: 29630/50000 (59.2600%)\n"
          ],
          "name": "stdout"
        },
        {
          "output_type": "stream",
          "text": [
            "\n",
            "  0%|          | 0/196 [00:00<?, ?it/s]"
          ],
          "name": "stderr"
        },
        {
          "output_type": "stream",
          "text": [
            "\n",
            "\tTest metrics: average loss: 0.0040, accuracy: 6442/10000 (64.42000%)\n",
            "\n",
            "\n",
            " epoch num ================================= 37\n"
          ],
          "name": "stdout"
        },
        {
          "output_type": "stream",
          "text": [
            "100%|██████████| 196/196 [00:51<00:00,  3.83it/s]"
          ],
          "name": "stderr"
        },
        {
          "output_type": "stream",
          "text": [
            "\n",
            "\t\t\tTrain metrics: accuracy: 29918/50000 (59.8360%)\n"
          ],
          "name": "stdout"
        },
        {
          "output_type": "stream",
          "text": [
            "\n",
            "  0%|          | 0/196 [00:00<?, ?it/s]"
          ],
          "name": "stderr"
        },
        {
          "output_type": "stream",
          "text": [
            "\n",
            "\tTest metrics: average loss: 0.0039, accuracy: 6528/10000 (65.28000%)\n",
            "\n",
            "\n",
            " epoch num ================================= 38\n"
          ],
          "name": "stdout"
        },
        {
          "output_type": "stream",
          "text": [
            "100%|██████████| 196/196 [00:51<00:00,  3.83it/s]"
          ],
          "name": "stderr"
        },
        {
          "output_type": "stream",
          "text": [
            "\n",
            "\t\t\tTrain metrics: accuracy: 30222/50000 (60.4440%)\n"
          ],
          "name": "stdout"
        },
        {
          "output_type": "stream",
          "text": [
            "\n",
            "  0%|          | 0/196 [00:00<?, ?it/s]"
          ],
          "name": "stderr"
        },
        {
          "output_type": "stream",
          "text": [
            "\n",
            "\tTest metrics: average loss: 0.0039, accuracy: 6498/10000 (64.98000%)\n",
            "\n",
            "\n",
            " epoch num ================================= 39\n"
          ],
          "name": "stdout"
        },
        {
          "output_type": "stream",
          "text": [
            "100%|██████████| 196/196 [00:51<00:00,  3.83it/s]"
          ],
          "name": "stderr"
        },
        {
          "output_type": "stream",
          "text": [
            "\n",
            "\t\t\tTrain metrics: accuracy: 30374/50000 (60.7480%)\n"
          ],
          "name": "stdout"
        },
        {
          "output_type": "stream",
          "text": [
            "\n",
            "  0%|          | 0/196 [00:00<?, ?it/s]"
          ],
          "name": "stderr"
        },
        {
          "output_type": "stream",
          "text": [
            "\n",
            "\tTest metrics: average loss: 0.0038, accuracy: 6592/10000 (65.92000%)\n",
            "\n",
            "\n",
            " epoch num ================================= 40\n"
          ],
          "name": "stdout"
        },
        {
          "output_type": "stream",
          "text": [
            "100%|██████████| 196/196 [00:51<00:00,  3.82it/s]"
          ],
          "name": "stderr"
        },
        {
          "output_type": "stream",
          "text": [
            "\n",
            "\t\t\tTrain metrics: accuracy: 30597/50000 (61.1940%)\n"
          ],
          "name": "stdout"
        },
        {
          "output_type": "stream",
          "text": [
            "\n",
            "  0%|          | 0/196 [00:00<?, ?it/s]"
          ],
          "name": "stderr"
        },
        {
          "output_type": "stream",
          "text": [
            "\n",
            "\tTest metrics: average loss: 0.0038, accuracy: 6679/10000 (66.79000%)\n",
            "\n",
            "\n",
            " epoch num ================================= 41\n"
          ],
          "name": "stdout"
        },
        {
          "output_type": "stream",
          "text": [
            "100%|██████████| 196/196 [00:51<00:00,  3.82it/s]"
          ],
          "name": "stderr"
        },
        {
          "output_type": "stream",
          "text": [
            "\n",
            "\t\t\tTrain metrics: accuracy: 30850/50000 (61.7000%)\n"
          ],
          "name": "stdout"
        },
        {
          "output_type": "stream",
          "text": [
            "\n",
            "  0%|          | 0/196 [00:00<?, ?it/s]"
          ],
          "name": "stderr"
        },
        {
          "output_type": "stream",
          "text": [
            "\n",
            "\tTest metrics: average loss: 0.0038, accuracy: 6690/10000 (66.90000%)\n",
            "\n",
            "\n",
            " epoch num ================================= 42\n"
          ],
          "name": "stdout"
        },
        {
          "output_type": "stream",
          "text": [
            "100%|██████████| 196/196 [00:51<00:00,  3.82it/s]"
          ],
          "name": "stderr"
        },
        {
          "output_type": "stream",
          "text": [
            "\n",
            "\t\t\tTrain metrics: accuracy: 31016/50000 (62.0320%)\n"
          ],
          "name": "stdout"
        },
        {
          "output_type": "stream",
          "text": [
            "\n",
            "  0%|          | 0/196 [00:00<?, ?it/s]"
          ],
          "name": "stderr"
        },
        {
          "output_type": "stream",
          "text": [
            "\n",
            "\tTest metrics: average loss: 0.0038, accuracy: 6592/10000 (65.92000%)\n",
            "\n",
            "\n",
            " epoch num ================================= 43\n"
          ],
          "name": "stdout"
        },
        {
          "output_type": "stream",
          "text": [
            "100%|██████████| 196/196 [00:51<00:00,  3.82it/s]"
          ],
          "name": "stderr"
        },
        {
          "output_type": "stream",
          "text": [
            "\n",
            "\t\t\tTrain metrics: accuracy: 31158/50000 (62.3160%)\n"
          ],
          "name": "stdout"
        },
        {
          "output_type": "stream",
          "text": [
            "\n",
            "  0%|          | 0/196 [00:00<?, ?it/s]"
          ],
          "name": "stderr"
        },
        {
          "output_type": "stream",
          "text": [
            "\n",
            "\tTest metrics: average loss: 0.0036, accuracy: 6768/10000 (67.68000%)\n",
            "\n",
            "\n",
            " epoch num ================================= 44\n"
          ],
          "name": "stdout"
        },
        {
          "output_type": "stream",
          "text": [
            "100%|██████████| 196/196 [00:51<00:00,  3.83it/s]"
          ],
          "name": "stderr"
        },
        {
          "output_type": "stream",
          "text": [
            "\n",
            "\t\t\tTrain metrics: accuracy: 31217/50000 (62.4340%)\n"
          ],
          "name": "stdout"
        },
        {
          "output_type": "stream",
          "text": [
            "\n",
            "  0%|          | 0/196 [00:00<?, ?it/s]"
          ],
          "name": "stderr"
        },
        {
          "output_type": "stream",
          "text": [
            "\n",
            "\tTest metrics: average loss: 0.0037, accuracy: 6726/10000 (67.26000%)\n",
            "\n",
            "\n",
            " epoch num ================================= 45\n"
          ],
          "name": "stdout"
        },
        {
          "output_type": "stream",
          "text": [
            "100%|██████████| 196/196 [00:51<00:00,  3.83it/s]"
          ],
          "name": "stderr"
        },
        {
          "output_type": "stream",
          "text": [
            "\n",
            "\t\t\tTrain metrics: accuracy: 31272/50000 (62.5440%)\n"
          ],
          "name": "stdout"
        },
        {
          "output_type": "stream",
          "text": [
            "\n",
            "  0%|          | 0/196 [00:00<?, ?it/s]"
          ],
          "name": "stderr"
        },
        {
          "output_type": "stream",
          "text": [
            "\n",
            "\tTest metrics: average loss: 0.0037, accuracy: 6683/10000 (66.83000%)\n",
            "\n",
            "\n",
            " epoch num ================================= 46\n"
          ],
          "name": "stdout"
        },
        {
          "output_type": "stream",
          "text": [
            "100%|██████████| 196/196 [00:51<00:00,  3.82it/s]"
          ],
          "name": "stderr"
        },
        {
          "output_type": "stream",
          "text": [
            "\n",
            "\t\t\tTrain metrics: accuracy: 31578/50000 (63.1560%)\n"
          ],
          "name": "stdout"
        },
        {
          "output_type": "stream",
          "text": [
            "\n",
            "  0%|          | 0/196 [00:00<?, ?it/s]"
          ],
          "name": "stderr"
        },
        {
          "output_type": "stream",
          "text": [
            "\n",
            "\tTest metrics: average loss: 0.0035, accuracy: 6804/10000 (68.04000%)\n",
            "\n",
            "\n",
            " epoch num ================================= 47\n"
          ],
          "name": "stdout"
        },
        {
          "output_type": "stream",
          "text": [
            "100%|██████████| 196/196 [00:51<00:00,  3.82it/s]"
          ],
          "name": "stderr"
        },
        {
          "output_type": "stream",
          "text": [
            "\n",
            "\t\t\tTrain metrics: accuracy: 31740/50000 (63.4800%)\n"
          ],
          "name": "stdout"
        },
        {
          "output_type": "stream",
          "text": [
            "\n",
            "  0%|          | 0/196 [00:00<?, ?it/s]"
          ],
          "name": "stderr"
        },
        {
          "output_type": "stream",
          "text": [
            "\n",
            "\tTest metrics: average loss: 0.0036, accuracy: 6844/10000 (68.44000%)\n",
            "\n",
            "\n",
            " epoch num ================================= 48\n"
          ],
          "name": "stdout"
        },
        {
          "output_type": "stream",
          "text": [
            "100%|██████████| 196/196 [00:51<00:00,  3.83it/s]"
          ],
          "name": "stderr"
        },
        {
          "output_type": "stream",
          "text": [
            "\n",
            "\t\t\tTrain metrics: accuracy: 31544/50000 (63.0880%)\n"
          ],
          "name": "stdout"
        },
        {
          "output_type": "stream",
          "text": [
            "\n",
            "  0%|          | 0/196 [00:00<?, ?it/s]"
          ],
          "name": "stderr"
        },
        {
          "output_type": "stream",
          "text": [
            "\n",
            "\tTest metrics: average loss: 0.0035, accuracy: 6909/10000 (69.09000%)\n",
            "\n",
            "\n",
            " epoch num ================================= 49\n"
          ],
          "name": "stdout"
        },
        {
          "output_type": "stream",
          "text": [
            "100%|██████████| 196/196 [00:51<00:00,  3.83it/s]"
          ],
          "name": "stderr"
        },
        {
          "output_type": "stream",
          "text": [
            "\n",
            "\t\t\tTrain metrics: accuracy: 32173/50000 (64.3460%)\n"
          ],
          "name": "stdout"
        },
        {
          "output_type": "stream",
          "text": [
            "\n",
            "  0%|          | 0/196 [00:00<?, ?it/s]"
          ],
          "name": "stderr"
        },
        {
          "output_type": "stream",
          "text": [
            "\n",
            "\tTest metrics: average loss: 0.0036, accuracy: 6795/10000 (67.95000%)\n",
            "\n",
            "\n",
            " epoch num ================================= 50\n"
          ],
          "name": "stdout"
        },
        {
          "output_type": "stream",
          "text": [
            "100%|██████████| 196/196 [00:51<00:00,  3.83it/s]"
          ],
          "name": "stderr"
        },
        {
          "output_type": "stream",
          "text": [
            "\n",
            "\t\t\tTrain metrics: accuracy: 32189/50000 (64.3780%)\n"
          ],
          "name": "stdout"
        },
        {
          "output_type": "stream",
          "text": [
            "\n"
          ],
          "name": "stderr"
        },
        {
          "output_type": "stream",
          "text": [
            "\n",
            "\tTest metrics: average loss: 0.0036, accuracy: 6833/10000 (68.33000%)\n",
            "\n"
          ],
          "name": "stdout"
        }
      ]
    },
    {
      "cell_type": "code",
      "metadata": {
        "id": "3k6Ej8plfYV7",
        "colab": {
          "base_uri": "https://localhost:8080/"
        },
        "outputId": "bddce199-6ea2-437a-db6d-079474fcfb5f"
      },
      "source": [
        "optimizer = optim.SGD(model.parameters(), lr=0.001, momentum=0.9, nesterov=True)\n",
        "\n",
        "train_eval_model(model, train_loader, optimizer, device, epochs=30, test=True, test_loader=test_loader,scheduler=None)"
      ],
      "execution_count": null,
      "outputs": [
        {
          "output_type": "stream",
          "text": [
            "\r  0%|          | 0/196 [00:00<?, ?it/s]"
          ],
          "name": "stderr"
        },
        {
          "output_type": "stream",
          "text": [
            "\n",
            " epoch num ================================= 1\n"
          ],
          "name": "stdout"
        },
        {
          "output_type": "stream",
          "text": [
            "100%|██████████| 196/196 [00:51<00:00,  3.82it/s]"
          ],
          "name": "stderr"
        },
        {
          "output_type": "stream",
          "text": [
            "\n",
            "\t\t\tTrain metrics: accuracy: 23843/50000 (47.6860%)\n"
          ],
          "name": "stdout"
        },
        {
          "output_type": "stream",
          "text": [
            "\n",
            "  0%|          | 0/196 [00:00<?, ?it/s]"
          ],
          "name": "stderr"
        },
        {
          "output_type": "stream",
          "text": [
            "\n",
            "\tTest metrics: average loss: 0.0054, accuracy: 5792/10000 (57.92000%)\n",
            "\n",
            "\n",
            " epoch num ================================= 2\n"
          ],
          "name": "stdout"
        },
        {
          "output_type": "stream",
          "text": [
            "100%|██████████| 196/196 [00:51<00:00,  3.81it/s]"
          ],
          "name": "stderr"
        },
        {
          "output_type": "stream",
          "text": [
            "\n",
            "\t\t\tTrain metrics: accuracy: 29799/50000 (59.5980%)\n"
          ],
          "name": "stdout"
        },
        {
          "output_type": "stream",
          "text": [
            "\n",
            "  0%|          | 0/196 [00:00<?, ?it/s]"
          ],
          "name": "stderr"
        },
        {
          "output_type": "stream",
          "text": [
            "\n",
            "\tTest metrics: average loss: 0.0036, accuracy: 6779/10000 (67.79000%)\n",
            "\n",
            "\n",
            " epoch num ================================= 3\n"
          ],
          "name": "stdout"
        },
        {
          "output_type": "stream",
          "text": [
            "100%|██████████| 196/196 [00:51<00:00,  3.83it/s]"
          ],
          "name": "stderr"
        },
        {
          "output_type": "stream",
          "text": [
            "\n",
            "\t\t\tTrain metrics: accuracy: 31651/50000 (63.3020%)\n"
          ],
          "name": "stdout"
        },
        {
          "output_type": "stream",
          "text": [
            "\n",
            "  0%|          | 0/196 [00:00<?, ?it/s]"
          ],
          "name": "stderr"
        },
        {
          "output_type": "stream",
          "text": [
            "\n",
            "\tTest metrics: average loss: 0.0035, accuracy: 6914/10000 (69.14000%)\n",
            "\n",
            "\n",
            " epoch num ================================= 4\n"
          ],
          "name": "stdout"
        },
        {
          "output_type": "stream",
          "text": [
            "100%|██████████| 196/196 [00:51<00:00,  3.83it/s]"
          ],
          "name": "stderr"
        },
        {
          "output_type": "stream",
          "text": [
            "\n",
            "\t\t\tTrain metrics: accuracy: 32261/50000 (64.5220%)\n"
          ],
          "name": "stdout"
        },
        {
          "output_type": "stream",
          "text": [
            "\n",
            "  0%|          | 0/196 [00:00<?, ?it/s]"
          ],
          "name": "stderr"
        },
        {
          "output_type": "stream",
          "text": [
            "\n",
            "\tTest metrics: average loss: 0.0035, accuracy: 6868/10000 (68.68000%)\n",
            "\n",
            "\n",
            " epoch num ================================= 5\n"
          ],
          "name": "stdout"
        },
        {
          "output_type": "stream",
          "text": [
            "100%|██████████| 196/196 [00:51<00:00,  3.82it/s]"
          ],
          "name": "stderr"
        },
        {
          "output_type": "stream",
          "text": [
            "\n",
            "\t\t\tTrain metrics: accuracy: 32624/50000 (65.2480%)\n"
          ],
          "name": "stdout"
        },
        {
          "output_type": "stream",
          "text": [
            "\n",
            "  0%|          | 0/196 [00:00<?, ?it/s]"
          ],
          "name": "stderr"
        },
        {
          "output_type": "stream",
          "text": [
            "\n",
            "\tTest metrics: average loss: 0.0035, accuracy: 6910/10000 (69.10000%)\n",
            "\n",
            "\n",
            " epoch num ================================= 6\n"
          ],
          "name": "stdout"
        },
        {
          "output_type": "stream",
          "text": [
            "100%|██████████| 196/196 [00:51<00:00,  3.82it/s]"
          ],
          "name": "stderr"
        },
        {
          "output_type": "stream",
          "text": [
            "\n",
            "\t\t\tTrain metrics: accuracy: 32794/50000 (65.5880%)\n"
          ],
          "name": "stdout"
        },
        {
          "output_type": "stream",
          "text": [
            "\n",
            "  0%|          | 0/196 [00:00<?, ?it/s]"
          ],
          "name": "stderr"
        },
        {
          "output_type": "stream",
          "text": [
            "\n",
            "\tTest metrics: average loss: 0.0033, accuracy: 7061/10000 (70.61000%)\n",
            "\n",
            "\n",
            " epoch num ================================= 7\n"
          ],
          "name": "stdout"
        },
        {
          "output_type": "stream",
          "text": [
            "100%|██████████| 196/196 [00:51<00:00,  3.82it/s]"
          ],
          "name": "stderr"
        },
        {
          "output_type": "stream",
          "text": [
            "\n",
            "\t\t\tTrain metrics: accuracy: 33052/50000 (66.1040%)\n"
          ],
          "name": "stdout"
        },
        {
          "output_type": "stream",
          "text": [
            "\n",
            "  0%|          | 0/196 [00:00<?, ?it/s]"
          ],
          "name": "stderr"
        },
        {
          "output_type": "stream",
          "text": [
            "\n",
            "\tTest metrics: average loss: 0.0033, accuracy: 7014/10000 (70.14000%)\n",
            "\n",
            "\n",
            " epoch num ================================= 8\n"
          ],
          "name": "stdout"
        },
        {
          "output_type": "stream",
          "text": [
            "100%|██████████| 196/196 [00:51<00:00,  3.82it/s]"
          ],
          "name": "stderr"
        },
        {
          "output_type": "stream",
          "text": [
            "\n",
            "\t\t\tTrain metrics: accuracy: 33315/50000 (66.6300%)\n"
          ],
          "name": "stdout"
        },
        {
          "output_type": "stream",
          "text": [
            "\n",
            "  0%|          | 0/196 [00:00<?, ?it/s]"
          ],
          "name": "stderr"
        },
        {
          "output_type": "stream",
          "text": [
            "\n",
            "\tTest metrics: average loss: 0.0032, accuracy: 7141/10000 (71.41000%)\n",
            "\n",
            "\n",
            " epoch num ================================= 9\n"
          ],
          "name": "stdout"
        },
        {
          "output_type": "stream",
          "text": [
            "100%|██████████| 196/196 [00:51<00:00,  3.82it/s]"
          ],
          "name": "stderr"
        },
        {
          "output_type": "stream",
          "text": [
            "\n",
            "\t\t\tTrain metrics: accuracy: 33464/50000 (66.9280%)\n"
          ],
          "name": "stdout"
        },
        {
          "output_type": "stream",
          "text": [
            "\n",
            "  0%|          | 0/196 [00:00<?, ?it/s]"
          ],
          "name": "stderr"
        },
        {
          "output_type": "stream",
          "text": [
            "\n",
            "\tTest metrics: average loss: 0.0034, accuracy: 6980/10000 (69.80000%)\n",
            "\n",
            "\n",
            " epoch num ================================= 10\n"
          ],
          "name": "stdout"
        },
        {
          "output_type": "stream",
          "text": [
            "100%|██████████| 196/196 [00:51<00:00,  3.83it/s]"
          ],
          "name": "stderr"
        },
        {
          "output_type": "stream",
          "text": [
            "\n",
            "\t\t\tTrain metrics: accuracy: 33687/50000 (67.3740%)\n"
          ],
          "name": "stdout"
        },
        {
          "output_type": "stream",
          "text": [
            "\n",
            "  0%|          | 0/196 [00:00<?, ?it/s]"
          ],
          "name": "stderr"
        },
        {
          "output_type": "stream",
          "text": [
            "\n",
            "\tTest metrics: average loss: 0.0032, accuracy: 7194/10000 (71.94000%)\n",
            "\n",
            "\n",
            " epoch num ================================= 11\n"
          ],
          "name": "stdout"
        },
        {
          "output_type": "stream",
          "text": [
            "100%|██████████| 196/196 [00:51<00:00,  3.84it/s]"
          ],
          "name": "stderr"
        },
        {
          "output_type": "stream",
          "text": [
            "\n",
            "\t\t\tTrain metrics: accuracy: 33857/50000 (67.7140%)\n"
          ],
          "name": "stdout"
        },
        {
          "output_type": "stream",
          "text": [
            "\n",
            "  0%|          | 0/196 [00:00<?, ?it/s]"
          ],
          "name": "stderr"
        },
        {
          "output_type": "stream",
          "text": [
            "\n",
            "\tTest metrics: average loss: 0.0031, accuracy: 7238/10000 (72.38000%)\n",
            "\n",
            "\n",
            " epoch num ================================= 12\n"
          ],
          "name": "stdout"
        },
        {
          "output_type": "stream",
          "text": [
            "100%|██████████| 196/196 [00:51<00:00,  3.84it/s]"
          ],
          "name": "stderr"
        },
        {
          "output_type": "stream",
          "text": [
            "\n",
            "\t\t\tTrain metrics: accuracy: 33893/50000 (67.7860%)\n"
          ],
          "name": "stdout"
        },
        {
          "output_type": "stream",
          "text": [
            "\n",
            "  0%|          | 0/196 [00:00<?, ?it/s]"
          ],
          "name": "stderr"
        },
        {
          "output_type": "stream",
          "text": [
            "\n",
            "\tTest metrics: average loss: 0.0031, accuracy: 7276/10000 (72.76000%)\n",
            "\n",
            "\n",
            " epoch num ================================= 13\n"
          ],
          "name": "stdout"
        },
        {
          "output_type": "stream",
          "text": [
            "100%|██████████| 196/196 [00:51<00:00,  3.83it/s]"
          ],
          "name": "stderr"
        },
        {
          "output_type": "stream",
          "text": [
            "\n",
            "\t\t\tTrain metrics: accuracy: 34141/50000 (68.2820%)\n"
          ],
          "name": "stdout"
        },
        {
          "output_type": "stream",
          "text": [
            "\n",
            "  0%|          | 0/196 [00:00<?, ?it/s]"
          ],
          "name": "stderr"
        },
        {
          "output_type": "stream",
          "text": [
            "\n",
            "\tTest metrics: average loss: 0.0031, accuracy: 7212/10000 (72.12000%)\n",
            "\n",
            "\n",
            " epoch num ================================= 14\n"
          ],
          "name": "stdout"
        },
        {
          "output_type": "stream",
          "text": [
            "100%|██████████| 196/196 [00:51<00:00,  3.84it/s]"
          ],
          "name": "stderr"
        },
        {
          "output_type": "stream",
          "text": [
            "\n",
            "\t\t\tTrain metrics: accuracy: 34308/50000 (68.6160%)\n"
          ],
          "name": "stdout"
        },
        {
          "output_type": "stream",
          "text": [
            "\n",
            "  0%|          | 0/196 [00:00<?, ?it/s]"
          ],
          "name": "stderr"
        },
        {
          "output_type": "stream",
          "text": [
            "\n",
            "\tTest metrics: average loss: 0.0033, accuracy: 7153/10000 (71.53000%)\n",
            "\n",
            "\n",
            " epoch num ================================= 15\n"
          ],
          "name": "stdout"
        },
        {
          "output_type": "stream",
          "text": [
            "100%|██████████| 196/196 [00:51<00:00,  3.83it/s]"
          ],
          "name": "stderr"
        },
        {
          "output_type": "stream",
          "text": [
            "\n",
            "\t\t\tTrain metrics: accuracy: 34304/50000 (68.6080%)\n"
          ],
          "name": "stdout"
        },
        {
          "output_type": "stream",
          "text": [
            "\n",
            "  0%|          | 0/196 [00:00<?, ?it/s]"
          ],
          "name": "stderr"
        },
        {
          "output_type": "stream",
          "text": [
            "\n",
            "\tTest metrics: average loss: 0.0033, accuracy: 7236/10000 (72.36000%)\n",
            "\n",
            "\n",
            " epoch num ================================= 16\n"
          ],
          "name": "stdout"
        },
        {
          "output_type": "stream",
          "text": [
            "100%|██████████| 196/196 [00:51<00:00,  3.83it/s]"
          ],
          "name": "stderr"
        },
        {
          "output_type": "stream",
          "text": [
            "\n",
            "\t\t\tTrain metrics: accuracy: 34504/50000 (69.0080%)\n"
          ],
          "name": "stdout"
        },
        {
          "output_type": "stream",
          "text": [
            "\n",
            "  0%|          | 0/196 [00:00<?, ?it/s]"
          ],
          "name": "stderr"
        },
        {
          "output_type": "stream",
          "text": [
            "\n",
            "\tTest metrics: average loss: 0.0030, accuracy: 7391/10000 (73.91000%)\n",
            "\n",
            "\n",
            " epoch num ================================= 17\n"
          ],
          "name": "stdout"
        },
        {
          "output_type": "stream",
          "text": [
            "100%|██████████| 196/196 [00:51<00:00,  3.84it/s]"
          ],
          "name": "stderr"
        },
        {
          "output_type": "stream",
          "text": [
            "\n",
            "\t\t\tTrain metrics: accuracy: 34724/50000 (69.4480%)\n"
          ],
          "name": "stdout"
        },
        {
          "output_type": "stream",
          "text": [
            "\n",
            "  0%|          | 0/196 [00:00<?, ?it/s]"
          ],
          "name": "stderr"
        },
        {
          "output_type": "stream",
          "text": [
            "\n",
            "\tTest metrics: average loss: 0.0030, accuracy: 7354/10000 (73.54000%)\n",
            "\n",
            "\n",
            " epoch num ================================= 18\n"
          ],
          "name": "stdout"
        },
        {
          "output_type": "stream",
          "text": [
            "100%|██████████| 196/196 [00:51<00:00,  3.84it/s]"
          ],
          "name": "stderr"
        },
        {
          "output_type": "stream",
          "text": [
            "\n",
            "\t\t\tTrain metrics: accuracy: 34721/50000 (69.4420%)\n"
          ],
          "name": "stdout"
        },
        {
          "output_type": "stream",
          "text": [
            "\n",
            "  0%|          | 0/196 [00:00<?, ?it/s]"
          ],
          "name": "stderr"
        },
        {
          "output_type": "stream",
          "text": [
            "\n",
            "\tTest metrics: average loss: 0.0031, accuracy: 7352/10000 (73.52000%)\n",
            "\n",
            "\n",
            " epoch num ================================= 19\n"
          ],
          "name": "stdout"
        },
        {
          "output_type": "stream",
          "text": [
            "100%|██████████| 196/196 [00:50<00:00,  3.85it/s]"
          ],
          "name": "stderr"
        },
        {
          "output_type": "stream",
          "text": [
            "\n",
            "\t\t\tTrain metrics: accuracy: 35016/50000 (70.0320%)\n"
          ],
          "name": "stdout"
        },
        {
          "output_type": "stream",
          "text": [
            "\n",
            "  0%|          | 0/196 [00:00<?, ?it/s]"
          ],
          "name": "stderr"
        },
        {
          "output_type": "stream",
          "text": [
            "\n",
            "\tTest metrics: average loss: 0.0030, accuracy: 7349/10000 (73.49000%)\n",
            "\n",
            "\n",
            " epoch num ================================= 20\n"
          ],
          "name": "stdout"
        },
        {
          "output_type": "stream",
          "text": [
            "100%|██████████| 196/196 [00:51<00:00,  3.84it/s]"
          ],
          "name": "stderr"
        },
        {
          "output_type": "stream",
          "text": [
            "\n",
            "\t\t\tTrain metrics: accuracy: 34984/50000 (69.9680%)\n"
          ],
          "name": "stdout"
        },
        {
          "output_type": "stream",
          "text": [
            "\n",
            "  0%|          | 0/196 [00:00<?, ?it/s]"
          ],
          "name": "stderr"
        },
        {
          "output_type": "stream",
          "text": [
            "\n",
            "\tTest metrics: average loss: 0.0030, accuracy: 7401/10000 (74.01000%)\n",
            "\n",
            "\n",
            " epoch num ================================= 21\n"
          ],
          "name": "stdout"
        },
        {
          "output_type": "stream",
          "text": [
            "100%|██████████| 196/196 [00:51<00:00,  3.83it/s]"
          ],
          "name": "stderr"
        },
        {
          "output_type": "stream",
          "text": [
            "\n",
            "\t\t\tTrain metrics: accuracy: 35062/50000 (70.1240%)\n"
          ],
          "name": "stdout"
        },
        {
          "output_type": "stream",
          "text": [
            "\n",
            "  0%|          | 0/196 [00:00<?, ?it/s]"
          ],
          "name": "stderr"
        },
        {
          "output_type": "stream",
          "text": [
            "\n",
            "\tTest metrics: average loss: 0.0029, accuracy: 7423/10000 (74.23000%)\n",
            "\n",
            "\n",
            " epoch num ================================= 22\n"
          ],
          "name": "stdout"
        },
        {
          "output_type": "stream",
          "text": [
            "100%|██████████| 196/196 [00:50<00:00,  3.84it/s]"
          ],
          "name": "stderr"
        },
        {
          "output_type": "stream",
          "text": [
            "\n",
            "\t\t\tTrain metrics: accuracy: 35198/50000 (70.3960%)\n"
          ],
          "name": "stdout"
        },
        {
          "output_type": "stream",
          "text": [
            "\n",
            "  0%|          | 0/196 [00:00<?, ?it/s]"
          ],
          "name": "stderr"
        },
        {
          "output_type": "stream",
          "text": [
            "\n",
            "\tTest metrics: average loss: 0.0029, accuracy: 7372/10000 (73.72000%)\n",
            "\n",
            "\n",
            " epoch num ================================= 23\n"
          ],
          "name": "stdout"
        },
        {
          "output_type": "stream",
          "text": [
            "100%|██████████| 196/196 [00:51<00:00,  3.83it/s]"
          ],
          "name": "stderr"
        },
        {
          "output_type": "stream",
          "text": [
            "\n",
            "\t\t\tTrain metrics: accuracy: 35458/50000 (70.9160%)\n"
          ],
          "name": "stdout"
        },
        {
          "output_type": "stream",
          "text": [
            "\n",
            "  0%|          | 0/196 [00:00<?, ?it/s]"
          ],
          "name": "stderr"
        },
        {
          "output_type": "stream",
          "text": [
            "\n",
            "\tTest metrics: average loss: 0.0030, accuracy: 7398/10000 (73.98000%)\n",
            "\n",
            "\n",
            " epoch num ================================= 24\n"
          ],
          "name": "stdout"
        },
        {
          "output_type": "stream",
          "text": [
            "100%|██████████| 196/196 [00:51<00:00,  3.84it/s]"
          ],
          "name": "stderr"
        },
        {
          "output_type": "stream",
          "text": [
            "\n",
            "\t\t\tTrain metrics: accuracy: 35431/50000 (70.8620%)\n"
          ],
          "name": "stdout"
        },
        {
          "output_type": "stream",
          "text": [
            "\n",
            "  0%|          | 0/196 [00:00<?, ?it/s]"
          ],
          "name": "stderr"
        },
        {
          "output_type": "stream",
          "text": [
            "\n",
            "\tTest metrics: average loss: 0.0028, accuracy: 7518/10000 (75.18000%)\n",
            "\n",
            "\n",
            " epoch num ================================= 25\n"
          ],
          "name": "stdout"
        },
        {
          "output_type": "stream",
          "text": [
            "100%|██████████| 196/196 [00:51<00:00,  3.84it/s]"
          ],
          "name": "stderr"
        },
        {
          "output_type": "stream",
          "text": [
            "\n",
            "\t\t\tTrain metrics: accuracy: 35550/50000 (71.1000%)\n"
          ],
          "name": "stdout"
        },
        {
          "output_type": "stream",
          "text": [
            "\n",
            "  0%|          | 0/196 [00:00<?, ?it/s]"
          ],
          "name": "stderr"
        },
        {
          "output_type": "stream",
          "text": [
            "\n",
            "\tTest metrics: average loss: 0.0029, accuracy: 7465/10000 (74.65000%)\n",
            "\n",
            "\n",
            " epoch num ================================= 26\n"
          ],
          "name": "stdout"
        },
        {
          "output_type": "stream",
          "text": [
            "100%|██████████| 196/196 [00:51<00:00,  3.84it/s]"
          ],
          "name": "stderr"
        },
        {
          "output_type": "stream",
          "text": [
            "\n",
            "\t\t\tTrain metrics: accuracy: 35638/50000 (71.2760%)\n"
          ],
          "name": "stdout"
        },
        {
          "output_type": "stream",
          "text": [
            "\n",
            "  0%|          | 0/196 [00:00<?, ?it/s]"
          ],
          "name": "stderr"
        },
        {
          "output_type": "stream",
          "text": [
            "\n",
            "\tTest metrics: average loss: 0.0029, accuracy: 7498/10000 (74.98000%)\n",
            "\n",
            "\n",
            " epoch num ================================= 27\n"
          ],
          "name": "stdout"
        },
        {
          "output_type": "stream",
          "text": [
            "100%|██████████| 196/196 [00:51<00:00,  3.84it/s]"
          ],
          "name": "stderr"
        },
        {
          "output_type": "stream",
          "text": [
            "\n",
            "\t\t\tTrain metrics: accuracy: 35773/50000 (71.5460%)\n"
          ],
          "name": "stdout"
        },
        {
          "output_type": "stream",
          "text": [
            "\n",
            "  0%|          | 0/196 [00:00<?, ?it/s]"
          ],
          "name": "stderr"
        },
        {
          "output_type": "stream",
          "text": [
            "\n",
            "\tTest metrics: average loss: 0.0028, accuracy: 7563/10000 (75.63000%)\n",
            "\n",
            "\n",
            " epoch num ================================= 28\n"
          ],
          "name": "stdout"
        },
        {
          "output_type": "stream",
          "text": [
            "100%|██████████| 196/196 [00:51<00:00,  3.84it/s]"
          ],
          "name": "stderr"
        },
        {
          "output_type": "stream",
          "text": [
            "\n",
            "\t\t\tTrain metrics: accuracy: 35807/50000 (71.6140%)\n"
          ],
          "name": "stdout"
        },
        {
          "output_type": "stream",
          "text": [
            "\n",
            "  0%|          | 0/196 [00:00<?, ?it/s]"
          ],
          "name": "stderr"
        },
        {
          "output_type": "stream",
          "text": [
            "\n",
            "\tTest metrics: average loss: 0.0029, accuracy: 7531/10000 (75.31000%)\n",
            "\n",
            "\n",
            " epoch num ================================= 29\n"
          ],
          "name": "stdout"
        },
        {
          "output_type": "stream",
          "text": [
            "100%|██████████| 196/196 [00:50<00:00,  3.85it/s]"
          ],
          "name": "stderr"
        },
        {
          "output_type": "stream",
          "text": [
            "\n",
            "\t\t\tTrain metrics: accuracy: 35853/50000 (71.7060%)\n"
          ],
          "name": "stdout"
        },
        {
          "output_type": "stream",
          "text": [
            "\n",
            "  0%|          | 0/196 [00:00<?, ?it/s]"
          ],
          "name": "stderr"
        },
        {
          "output_type": "stream",
          "text": [
            "\n",
            "\tTest metrics: average loss: 0.0028, accuracy: 7535/10000 (75.35000%)\n",
            "\n",
            "\n",
            " epoch num ================================= 30\n"
          ],
          "name": "stdout"
        },
        {
          "output_type": "stream",
          "text": [
            "100%|██████████| 196/196 [00:50<00:00,  3.85it/s]"
          ],
          "name": "stderr"
        },
        {
          "output_type": "stream",
          "text": [
            "\n",
            "\t\t\tTrain metrics: accuracy: 35997/50000 (71.9940%)\n"
          ],
          "name": "stdout"
        },
        {
          "output_type": "stream",
          "text": [
            "\n"
          ],
          "name": "stderr"
        },
        {
          "output_type": "stream",
          "text": [
            "\n",
            "\tTest metrics: average loss: 0.0029, accuracy: 7488/10000 (74.88000%)\n",
            "\n"
          ],
          "name": "stdout"
        }
      ]
    },
    {
      "cell_type": "code",
      "metadata": {
        "id": "CJXI8qySGHlL",
        "colab": {
          "base_uri": "https://localhost:8080/"
        },
        "outputId": "5743d52e-c56e-48f4-cc25-672750313e3d"
      },
      "source": [
        "optimizer = optim.SGD(model.parameters(), lr=0.009, momentum=0.9, nesterov=True)\n",
        "step_lr = StepLR(optimizer, step_size=10, gamma=0.71)\n",
        "train_eval_model(model, train_loader, optimizer, device, epochs=150, test=True, test_loader=test_loader,scheduler=step_lr)"
      ],
      "execution_count": null,
      "outputs": [
        {
          "output_type": "stream",
          "text": [
            "\r  0%|          | 0/196 [00:00<?, ?it/s]"
          ],
          "name": "stderr"
        },
        {
          "output_type": "stream",
          "text": [
            "\n",
            " epoch num ================================= 1\n"
          ],
          "name": "stdout"
        },
        {
          "output_type": "stream",
          "text": [
            "100%|██████████| 196/196 [00:51<00:00,  3.83it/s]"
          ],
          "name": "stderr"
        },
        {
          "output_type": "stream",
          "text": [
            "\n",
            "\n",
            "\t\t\tLast LR --> [0.009]\n",
            "\n",
            "\t\t\tTrain metrics: accuracy: 30646/50000 (61.2920%)\n"
          ],
          "name": "stdout"
        },
        {
          "output_type": "stream",
          "text": [
            "\n",
            "  0%|          | 0/196 [00:00<?, ?it/s]"
          ],
          "name": "stderr"
        },
        {
          "output_type": "stream",
          "text": [
            "\n",
            "\tTest metrics: average loss: 0.0036, accuracy: 7036/10000 (70.36000%)\n",
            "\n",
            "\n",
            " epoch num ================================= 2\n"
          ],
          "name": "stdout"
        },
        {
          "output_type": "stream",
          "text": [
            "100%|██████████| 196/196 [00:50<00:00,  3.84it/s]"
          ],
          "name": "stderr"
        },
        {
          "output_type": "stream",
          "text": [
            "\n",
            "\n",
            "\t\t\tLast LR --> [0.009]\n",
            "\n",
            "\t\t\tTrain metrics: accuracy: 31845/50000 (63.6900%)\n"
          ],
          "name": "stdout"
        },
        {
          "output_type": "stream",
          "text": [
            "\n",
            "  0%|          | 0/196 [00:00<?, ?it/s]"
          ],
          "name": "stderr"
        },
        {
          "output_type": "stream",
          "text": [
            "\n",
            "\tTest metrics: average loss: 0.0034, accuracy: 7018/10000 (70.18000%)\n",
            "\n",
            "\n",
            " epoch num ================================= 3\n"
          ],
          "name": "stdout"
        },
        {
          "output_type": "stream",
          "text": [
            "100%|██████████| 196/196 [00:51<00:00,  3.84it/s]"
          ],
          "name": "stderr"
        },
        {
          "output_type": "stream",
          "text": [
            "\n",
            "\n",
            "\t\t\tLast LR --> [0.009]\n",
            "\n",
            "\t\t\tTrain metrics: accuracy: 33271/50000 (66.5420%)\n"
          ],
          "name": "stdout"
        },
        {
          "output_type": "stream",
          "text": [
            "\n",
            "  0%|          | 0/196 [00:00<?, ?it/s]"
          ],
          "name": "stderr"
        },
        {
          "output_type": "stream",
          "text": [
            "\n",
            "\tTest metrics: average loss: 0.0033, accuracy: 7117/10000 (71.17000%)\n",
            "\n",
            "\n",
            " epoch num ================================= 4\n"
          ],
          "name": "stdout"
        },
        {
          "output_type": "stream",
          "text": [
            "100%|██████████| 196/196 [00:51<00:00,  3.84it/s]"
          ],
          "name": "stderr"
        },
        {
          "output_type": "stream",
          "text": [
            "\n",
            "\n",
            "\t\t\tLast LR --> [0.009]\n",
            "\n",
            "\t\t\tTrain metrics: accuracy: 33846/50000 (67.6920%)\n"
          ],
          "name": "stdout"
        },
        {
          "output_type": "stream",
          "text": [
            "\n",
            "  0%|          | 0/196 [00:00<?, ?it/s]"
          ],
          "name": "stderr"
        },
        {
          "output_type": "stream",
          "text": [
            "\n",
            "\tTest metrics: average loss: 0.0036, accuracy: 7006/10000 (70.06000%)\n",
            "\n",
            "\n",
            " epoch num ================================= 5\n"
          ],
          "name": "stdout"
        },
        {
          "output_type": "stream",
          "text": [
            "100%|██████████| 196/196 [00:51<00:00,  3.84it/s]"
          ],
          "name": "stderr"
        },
        {
          "output_type": "stream",
          "text": [
            "\n",
            "\n",
            "\t\t\tLast LR --> [0.009]\n",
            "\n",
            "\t\t\tTrain metrics: accuracy: 34230/50000 (68.4600%)\n"
          ],
          "name": "stdout"
        },
        {
          "output_type": "stream",
          "text": [
            "\n",
            "  0%|          | 0/196 [00:00<?, ?it/s]"
          ],
          "name": "stderr"
        },
        {
          "output_type": "stream",
          "text": [
            "\n",
            "\tTest metrics: average loss: 0.0031, accuracy: 7326/10000 (73.26000%)\n",
            "\n",
            "\n",
            " epoch num ================================= 6\n"
          ],
          "name": "stdout"
        },
        {
          "output_type": "stream",
          "text": [
            "100%|██████████| 196/196 [00:51<00:00,  3.84it/s]"
          ],
          "name": "stderr"
        },
        {
          "output_type": "stream",
          "text": [
            "\n",
            "\n",
            "\t\t\tLast LR --> [0.009]\n",
            "\n",
            "\t\t\tTrain metrics: accuracy: 34764/50000 (69.5280%)\n"
          ],
          "name": "stdout"
        },
        {
          "output_type": "stream",
          "text": [
            "\n",
            "  0%|          | 0/196 [00:00<?, ?it/s]"
          ],
          "name": "stderr"
        },
        {
          "output_type": "stream",
          "text": [
            "\n",
            "\tTest metrics: average loss: 0.0029, accuracy: 7488/10000 (74.88000%)\n",
            "\n",
            "\n",
            " epoch num ================================= 7\n"
          ],
          "name": "stdout"
        },
        {
          "output_type": "stream",
          "text": [
            "100%|██████████| 196/196 [00:51<00:00,  3.84it/s]"
          ],
          "name": "stderr"
        },
        {
          "output_type": "stream",
          "text": [
            "\n",
            "\n",
            "\t\t\tLast LR --> [0.009]\n",
            "\n",
            "\t\t\tTrain metrics: accuracy: 35221/50000 (70.4420%)\n"
          ],
          "name": "stdout"
        },
        {
          "output_type": "stream",
          "text": [
            "\n",
            "  0%|          | 0/196 [00:00<?, ?it/s]"
          ],
          "name": "stderr"
        },
        {
          "output_type": "stream",
          "text": [
            "\n",
            "\tTest metrics: average loss: 0.0032, accuracy: 7278/10000 (72.78000%)\n",
            "\n",
            "\n",
            " epoch num ================================= 8\n"
          ],
          "name": "stdout"
        },
        {
          "output_type": "stream",
          "text": [
            "100%|██████████| 196/196 [00:51<00:00,  3.84it/s]"
          ],
          "name": "stderr"
        },
        {
          "output_type": "stream",
          "text": [
            "\n",
            "\n",
            "\t\t\tLast LR --> [0.009]\n",
            "\n",
            "\t\t\tTrain metrics: accuracy: 35466/50000 (70.9320%)\n"
          ],
          "name": "stdout"
        },
        {
          "output_type": "stream",
          "text": [
            "\n",
            "  0%|          | 0/196 [00:00<?, ?it/s]"
          ],
          "name": "stderr"
        },
        {
          "output_type": "stream",
          "text": [
            "\n",
            "\tTest metrics: average loss: 0.0031, accuracy: 7310/10000 (73.10000%)\n",
            "\n",
            "\n",
            " epoch num ================================= 9\n"
          ],
          "name": "stdout"
        },
        {
          "output_type": "stream",
          "text": [
            "100%|██████████| 196/196 [00:51<00:00,  3.83it/s]"
          ],
          "name": "stderr"
        },
        {
          "output_type": "stream",
          "text": [
            "\n",
            "\n",
            "\t\t\tLast LR --> [0.009]\n",
            "\n",
            "\t\t\tTrain metrics: accuracy: 35888/50000 (71.7760%)\n"
          ],
          "name": "stdout"
        },
        {
          "output_type": "stream",
          "text": [
            "\n",
            "  0%|          | 0/196 [00:00<?, ?it/s]"
          ],
          "name": "stderr"
        },
        {
          "output_type": "stream",
          "text": [
            "\n",
            "\tTest metrics: average loss: 0.0027, accuracy: 7656/10000 (76.56000%)\n",
            "\n",
            "\n",
            " epoch num ================================= 10\n"
          ],
          "name": "stdout"
        },
        {
          "output_type": "stream",
          "text": [
            "100%|██████████| 196/196 [00:51<00:00,  3.83it/s]"
          ],
          "name": "stderr"
        },
        {
          "output_type": "stream",
          "text": [
            "\n",
            "\n",
            "\t\t\tLast LR --> [0.009]\n",
            "\n",
            "\t\t\tTrain metrics: accuracy: 36100/50000 (72.2000%)\n"
          ],
          "name": "stdout"
        },
        {
          "output_type": "stream",
          "text": [
            "\n",
            "  0%|          | 0/196 [00:00<?, ?it/s]"
          ],
          "name": "stderr"
        },
        {
          "output_type": "stream",
          "text": [
            "\n",
            "\tTest metrics: average loss: 0.0028, accuracy: 7555/10000 (75.55000%)\n",
            "\n",
            "\n",
            " epoch num ================================= 11\n"
          ],
          "name": "stdout"
        },
        {
          "output_type": "stream",
          "text": [
            "100%|██████████| 196/196 [00:51<00:00,  3.83it/s]"
          ],
          "name": "stderr"
        },
        {
          "output_type": "stream",
          "text": [
            "\n",
            "\n",
            "\t\t\tLast LR --> [0.006389999999999999]\n",
            "\n",
            "\t\t\tTrain metrics: accuracy: 36977/50000 (73.9540%)\n"
          ],
          "name": "stdout"
        },
        {
          "output_type": "stream",
          "text": [
            "\n",
            "  0%|          | 0/196 [00:00<?, ?it/s]"
          ],
          "name": "stderr"
        },
        {
          "output_type": "stream",
          "text": [
            "\n",
            "\tTest metrics: average loss: 0.0026, accuracy: 7674/10000 (76.74000%)\n",
            "\n",
            "\n",
            " epoch num ================================= 12\n"
          ],
          "name": "stdout"
        },
        {
          "output_type": "stream",
          "text": [
            "100%|██████████| 196/196 [00:51<00:00,  3.83it/s]"
          ],
          "name": "stderr"
        },
        {
          "output_type": "stream",
          "text": [
            "\n",
            "\n",
            "\t\t\tLast LR --> [0.006389999999999999]\n",
            "\n",
            "\t\t\tTrain metrics: accuracy: 37164/50000 (74.3280%)\n"
          ],
          "name": "stdout"
        },
        {
          "output_type": "stream",
          "text": [
            "\n",
            "  0%|          | 0/196 [00:00<?, ?it/s]"
          ],
          "name": "stderr"
        },
        {
          "output_type": "stream",
          "text": [
            "\n",
            "\tTest metrics: average loss: 0.0025, accuracy: 7811/10000 (78.11000%)\n",
            "\n",
            "\n",
            " epoch num ================================= 13\n"
          ],
          "name": "stdout"
        },
        {
          "output_type": "stream",
          "text": [
            "100%|██████████| 196/196 [00:51<00:00,  3.82it/s]"
          ],
          "name": "stderr"
        },
        {
          "output_type": "stream",
          "text": [
            "\n",
            "\n",
            "\t\t\tLast LR --> [0.006389999999999999]\n",
            "\n",
            "\t\t\tTrain metrics: accuracy: 37360/50000 (74.7200%)\n"
          ],
          "name": "stdout"
        },
        {
          "output_type": "stream",
          "text": [
            "\n",
            "  0%|          | 0/196 [00:00<?, ?it/s]"
          ],
          "name": "stderr"
        },
        {
          "output_type": "stream",
          "text": [
            "\n",
            "\tTest metrics: average loss: 0.0025, accuracy: 7880/10000 (78.80000%)\n",
            "\n",
            "\n",
            " epoch num ================================= 14\n"
          ],
          "name": "stdout"
        },
        {
          "output_type": "stream",
          "text": [
            "100%|██████████| 196/196 [00:51<00:00,  3.83it/s]"
          ],
          "name": "stderr"
        },
        {
          "output_type": "stream",
          "text": [
            "\n",
            "\n",
            "\t\t\tLast LR --> [0.006389999999999999]\n",
            "\n",
            "\t\t\tTrain metrics: accuracy: 37460/50000 (74.9200%)\n"
          ],
          "name": "stdout"
        },
        {
          "output_type": "stream",
          "text": [
            "\n",
            "  0%|          | 0/196 [00:00<?, ?it/s]"
          ],
          "name": "stderr"
        },
        {
          "output_type": "stream",
          "text": [
            "\n",
            "\tTest metrics: average loss: 0.0024, accuracy: 7947/10000 (79.47000%)\n",
            "\n",
            "\n",
            " epoch num ================================= 15\n"
          ],
          "name": "stdout"
        },
        {
          "output_type": "stream",
          "text": [
            "100%|██████████| 196/196 [00:51<00:00,  3.83it/s]"
          ],
          "name": "stderr"
        },
        {
          "output_type": "stream",
          "text": [
            "\n",
            "\n",
            "\t\t\tLast LR --> [0.006389999999999999]\n",
            "\n",
            "\t\t\tTrain metrics: accuracy: 37652/50000 (75.3040%)\n"
          ],
          "name": "stdout"
        },
        {
          "output_type": "stream",
          "text": [
            "\n",
            "  0%|          | 0/196 [00:00<?, ?it/s]"
          ],
          "name": "stderr"
        },
        {
          "output_type": "stream",
          "text": [
            "\n",
            "\tTest metrics: average loss: 0.0027, accuracy: 7736/10000 (77.36000%)\n",
            "\n",
            "\n",
            " epoch num ================================= 16\n"
          ],
          "name": "stdout"
        },
        {
          "output_type": "stream",
          "text": [
            "100%|██████████| 196/196 [00:51<00:00,  3.83it/s]"
          ],
          "name": "stderr"
        },
        {
          "output_type": "stream",
          "text": [
            "\n",
            "\n",
            "\t\t\tLast LR --> [0.006389999999999999]\n",
            "\n",
            "\t\t\tTrain metrics: accuracy: 37946/50000 (75.8920%)\n"
          ],
          "name": "stdout"
        },
        {
          "output_type": "stream",
          "text": [
            "\n",
            "  0%|          | 0/196 [00:00<?, ?it/s]"
          ],
          "name": "stderr"
        },
        {
          "output_type": "stream",
          "text": [
            "\n",
            "\tTest metrics: average loss: 0.0025, accuracy: 7874/10000 (78.74000%)\n",
            "\n",
            "\n",
            " epoch num ================================= 17\n"
          ],
          "name": "stdout"
        },
        {
          "output_type": "stream",
          "text": [
            "100%|██████████| 196/196 [00:51<00:00,  3.83it/s]"
          ],
          "name": "stderr"
        },
        {
          "output_type": "stream",
          "text": [
            "\n",
            "\n",
            "\t\t\tLast LR --> [0.006389999999999999]\n",
            "\n",
            "\t\t\tTrain metrics: accuracy: 37937/50000 (75.8740%)\n"
          ],
          "name": "stdout"
        },
        {
          "output_type": "stream",
          "text": [
            "\n",
            "  0%|          | 0/196 [00:00<?, ?it/s]"
          ],
          "name": "stderr"
        },
        {
          "output_type": "stream",
          "text": [
            "\n",
            "\tTest metrics: average loss: 0.0024, accuracy: 8024/10000 (80.24000%)\n",
            "\n",
            "\n",
            " epoch num ================================= 18\n"
          ],
          "name": "stdout"
        },
        {
          "output_type": "stream",
          "text": [
            "100%|██████████| 196/196 [00:51<00:00,  3.83it/s]"
          ],
          "name": "stderr"
        },
        {
          "output_type": "stream",
          "text": [
            "\n",
            "\n",
            "\t\t\tLast LR --> [0.006389999999999999]\n",
            "\n",
            "\t\t\tTrain metrics: accuracy: 38068/50000 (76.1360%)\n"
          ],
          "name": "stdout"
        },
        {
          "output_type": "stream",
          "text": [
            "\n",
            "  0%|          | 0/196 [00:00<?, ?it/s]"
          ],
          "name": "stderr"
        },
        {
          "output_type": "stream",
          "text": [
            "\n",
            "\tTest metrics: average loss: 0.0023, accuracy: 7935/10000 (79.35000%)\n",
            "\n",
            "\n",
            " epoch num ================================= 19\n"
          ],
          "name": "stdout"
        },
        {
          "output_type": "stream",
          "text": [
            "100%|██████████| 196/196 [00:51<00:00,  3.83it/s]"
          ],
          "name": "stderr"
        },
        {
          "output_type": "stream",
          "text": [
            "\n",
            "\n",
            "\t\t\tLast LR --> [0.006389999999999999]\n",
            "\n",
            "\t\t\tTrain metrics: accuracy: 38321/50000 (76.6420%)\n"
          ],
          "name": "stdout"
        },
        {
          "output_type": "stream",
          "text": [
            "\n",
            "  0%|          | 0/196 [00:00<?, ?it/s]"
          ],
          "name": "stderr"
        },
        {
          "output_type": "stream",
          "text": [
            "\n",
            "\tTest metrics: average loss: 0.0023, accuracy: 7976/10000 (79.76000%)\n",
            "\n",
            "\n",
            " epoch num ================================= 20\n"
          ],
          "name": "stdout"
        },
        {
          "output_type": "stream",
          "text": [
            "100%|██████████| 196/196 [00:51<00:00,  3.82it/s]"
          ],
          "name": "stderr"
        },
        {
          "output_type": "stream",
          "text": [
            "\n",
            "\n",
            "\t\t\tLast LR --> [0.006389999999999999]\n",
            "\n",
            "\t\t\tTrain metrics: accuracy: 38327/50000 (76.6540%)\n"
          ],
          "name": "stdout"
        },
        {
          "output_type": "stream",
          "text": [
            "\n",
            "  0%|          | 0/196 [00:00<?, ?it/s]"
          ],
          "name": "stderr"
        },
        {
          "output_type": "stream",
          "text": [
            "\n",
            "\tTest metrics: average loss: 0.0023, accuracy: 8081/10000 (80.81000%)\n",
            "\n",
            "\n",
            " epoch num ================================= 21\n"
          ],
          "name": "stdout"
        },
        {
          "output_type": "stream",
          "text": [
            "100%|██████████| 196/196 [00:51<00:00,  3.83it/s]"
          ],
          "name": "stderr"
        },
        {
          "output_type": "stream",
          "text": [
            "\n",
            "\n",
            "\t\t\tLast LR --> [0.004536899999999999]\n",
            "\n",
            "\t\t\tTrain metrics: accuracy: 38989/50000 (77.9780%)\n"
          ],
          "name": "stdout"
        },
        {
          "output_type": "stream",
          "text": [
            "\n",
            "  0%|          | 0/196 [00:00<?, ?it/s]"
          ],
          "name": "stderr"
        },
        {
          "output_type": "stream",
          "text": [
            "\n",
            "\tTest metrics: average loss: 0.0023, accuracy: 8015/10000 (80.15000%)\n",
            "\n",
            "\n",
            " epoch num ================================= 22\n"
          ],
          "name": "stdout"
        },
        {
          "output_type": "stream",
          "text": [
            "100%|██████████| 196/196 [00:51<00:00,  3.83it/s]"
          ],
          "name": "stderr"
        },
        {
          "output_type": "stream",
          "text": [
            "\n",
            "\n",
            "\t\t\tLast LR --> [0.004536899999999999]\n",
            "\n",
            "\t\t\tTrain metrics: accuracy: 39108/50000 (78.2160%)\n"
          ],
          "name": "stdout"
        },
        {
          "output_type": "stream",
          "text": [
            "\n",
            "  0%|          | 0/196 [00:00<?, ?it/s]"
          ],
          "name": "stderr"
        },
        {
          "output_type": "stream",
          "text": [
            "\n",
            "\tTest metrics: average loss: 0.0023, accuracy: 8031/10000 (80.31000%)\n",
            "\n",
            "\n",
            " epoch num ================================= 23\n"
          ],
          "name": "stdout"
        },
        {
          "output_type": "stream",
          "text": [
            "100%|██████████| 196/196 [00:51<00:00,  3.84it/s]"
          ],
          "name": "stderr"
        },
        {
          "output_type": "stream",
          "text": [
            "\n",
            "\n",
            "\t\t\tLast LR --> [0.004536899999999999]\n",
            "\n",
            "\t\t\tTrain metrics: accuracy: 39194/50000 (78.3880%)\n"
          ],
          "name": "stdout"
        },
        {
          "output_type": "stream",
          "text": [
            "\n",
            "  0%|          | 0/196 [00:00<?, ?it/s]"
          ],
          "name": "stderr"
        },
        {
          "output_type": "stream",
          "text": [
            "\n",
            "\tTest metrics: average loss: 0.0022, accuracy: 8158/10000 (81.58000%)\n",
            "\n",
            "\n",
            " epoch num ================================= 24\n"
          ],
          "name": "stdout"
        },
        {
          "output_type": "stream",
          "text": [
            "100%|██████████| 196/196 [00:51<00:00,  3.84it/s]"
          ],
          "name": "stderr"
        },
        {
          "output_type": "stream",
          "text": [
            "\n",
            "\n",
            "\t\t\tLast LR --> [0.004536899999999999]\n",
            "\n",
            "\t\t\tTrain metrics: accuracy: 39383/50000 (78.7660%)\n"
          ],
          "name": "stdout"
        },
        {
          "output_type": "stream",
          "text": [
            "\n",
            "  0%|          | 0/196 [00:00<?, ?it/s]"
          ],
          "name": "stderr"
        },
        {
          "output_type": "stream",
          "text": [
            "\n",
            "\tTest metrics: average loss: 0.0021, accuracy: 8176/10000 (81.76000%)\n",
            "\n",
            "\n",
            " epoch num ================================= 25\n"
          ],
          "name": "stdout"
        },
        {
          "output_type": "stream",
          "text": [
            "100%|██████████| 196/196 [00:51<00:00,  3.84it/s]"
          ],
          "name": "stderr"
        },
        {
          "output_type": "stream",
          "text": [
            "\n",
            "\n",
            "\t\t\tLast LR --> [0.004536899999999999]\n",
            "\n",
            "\t\t\tTrain metrics: accuracy: 39404/50000 (78.8080%)\n"
          ],
          "name": "stdout"
        },
        {
          "output_type": "stream",
          "text": [
            "\n",
            "  0%|          | 0/196 [00:00<?, ?it/s]"
          ],
          "name": "stderr"
        },
        {
          "output_type": "stream",
          "text": [
            "\n",
            "\tTest metrics: average loss: 0.0021, accuracy: 8204/10000 (82.04000%)\n",
            "\n",
            "\n",
            " epoch num ================================= 26\n"
          ],
          "name": "stdout"
        },
        {
          "output_type": "stream",
          "text": [
            "100%|██████████| 196/196 [00:51<00:00,  3.84it/s]"
          ],
          "name": "stderr"
        },
        {
          "output_type": "stream",
          "text": [
            "\n",
            "\n",
            "\t\t\tLast LR --> [0.004536899999999999]\n",
            "\n",
            "\t\t\tTrain metrics: accuracy: 39639/50000 (79.2780%)\n"
          ],
          "name": "stdout"
        },
        {
          "output_type": "stream",
          "text": [
            "\n",
            "  0%|          | 0/196 [00:00<?, ?it/s]"
          ],
          "name": "stderr"
        },
        {
          "output_type": "stream",
          "text": [
            "\n",
            "\tTest metrics: average loss: 0.0021, accuracy: 8153/10000 (81.53000%)\n",
            "\n",
            "\n",
            " epoch num ================================= 27\n"
          ],
          "name": "stdout"
        },
        {
          "output_type": "stream",
          "text": [
            "100%|██████████| 196/196 [00:51<00:00,  3.83it/s]"
          ],
          "name": "stderr"
        },
        {
          "output_type": "stream",
          "text": [
            "\n",
            "\n",
            "\t\t\tLast LR --> [0.004536899999999999]\n",
            "\n",
            "\t\t\tTrain metrics: accuracy: 39467/50000 (78.9340%)\n"
          ],
          "name": "stdout"
        },
        {
          "output_type": "stream",
          "text": [
            "\n",
            "  0%|          | 0/196 [00:00<?, ?it/s]"
          ],
          "name": "stderr"
        },
        {
          "output_type": "stream",
          "text": [
            "\n",
            "\tTest metrics: average loss: 0.0023, accuracy: 8076/10000 (80.76000%)\n",
            "\n",
            "\n",
            " epoch num ================================= 28\n"
          ],
          "name": "stdout"
        },
        {
          "output_type": "stream",
          "text": [
            "100%|██████████| 196/196 [00:51<00:00,  3.83it/s]"
          ],
          "name": "stderr"
        },
        {
          "output_type": "stream",
          "text": [
            "\n",
            "\n",
            "\t\t\tLast LR --> [0.004536899999999999]\n",
            "\n",
            "\t\t\tTrain metrics: accuracy: 39672/50000 (79.3440%)\n"
          ],
          "name": "stdout"
        },
        {
          "output_type": "stream",
          "text": [
            "\n",
            "  0%|          | 0/196 [00:00<?, ?it/s]"
          ],
          "name": "stderr"
        },
        {
          "output_type": "stream",
          "text": [
            "\n",
            "\tTest metrics: average loss: 0.0022, accuracy: 8149/10000 (81.49000%)\n",
            "\n",
            "\n",
            " epoch num ================================= 29\n"
          ],
          "name": "stdout"
        },
        {
          "output_type": "stream",
          "text": [
            "100%|██████████| 196/196 [00:51<00:00,  3.83it/s]"
          ],
          "name": "stderr"
        },
        {
          "output_type": "stream",
          "text": [
            "\n",
            "\n",
            "\t\t\tLast LR --> [0.004536899999999999]\n",
            "\n",
            "\t\t\tTrain metrics: accuracy: 39700/50000 (79.4000%)\n"
          ],
          "name": "stdout"
        },
        {
          "output_type": "stream",
          "text": [
            "\n",
            "  0%|          | 0/196 [00:00<?, ?it/s]"
          ],
          "name": "stderr"
        },
        {
          "output_type": "stream",
          "text": [
            "\n",
            "\tTest metrics: average loss: 0.0022, accuracy: 8184/10000 (81.84000%)\n",
            "\n",
            "\n",
            " epoch num ================================= 30\n"
          ],
          "name": "stdout"
        },
        {
          "output_type": "stream",
          "text": [
            "100%|██████████| 196/196 [00:51<00:00,  3.84it/s]"
          ],
          "name": "stderr"
        },
        {
          "output_type": "stream",
          "text": [
            "\n",
            "\n",
            "\t\t\tLast LR --> [0.004536899999999999]\n",
            "\n",
            "\t\t\tTrain metrics: accuracy: 39801/50000 (79.6020%)\n"
          ],
          "name": "stdout"
        },
        {
          "output_type": "stream",
          "text": [
            "\n",
            "  0%|          | 0/196 [00:00<?, ?it/s]"
          ],
          "name": "stderr"
        },
        {
          "output_type": "stream",
          "text": [
            "\n",
            "\tTest metrics: average loss: 0.0020, accuracy: 8253/10000 (82.53000%)\n",
            "\n",
            "\n",
            " epoch num ================================= 31\n"
          ],
          "name": "stdout"
        },
        {
          "output_type": "stream",
          "text": [
            "100%|██████████| 196/196 [00:51<00:00,  3.83it/s]"
          ],
          "name": "stderr"
        },
        {
          "output_type": "stream",
          "text": [
            "\n",
            "\n",
            "\t\t\tLast LR --> [0.0032211989999999992]\n",
            "\n",
            "\t\t\tTrain metrics: accuracy: 40211/50000 (80.4220%)\n"
          ],
          "name": "stdout"
        },
        {
          "output_type": "stream",
          "text": [
            "\n",
            "  0%|          | 0/196 [00:00<?, ?it/s]"
          ],
          "name": "stderr"
        },
        {
          "output_type": "stream",
          "text": [
            "\n",
            "\tTest metrics: average loss: 0.0021, accuracy: 8271/10000 (82.71000%)\n",
            "\n",
            "\n",
            " epoch num ================================= 32\n"
          ],
          "name": "stdout"
        },
        {
          "output_type": "stream",
          "text": [
            "100%|██████████| 196/196 [00:51<00:00,  3.83it/s]"
          ],
          "name": "stderr"
        },
        {
          "output_type": "stream",
          "text": [
            "\n",
            "\n",
            "\t\t\tLast LR --> [0.0032211989999999992]\n",
            "\n",
            "\t\t\tTrain metrics: accuracy: 40291/50000 (80.5820%)\n"
          ],
          "name": "stdout"
        },
        {
          "output_type": "stream",
          "text": [
            "\n",
            "  0%|          | 0/196 [00:00<?, ?it/s]"
          ],
          "name": "stderr"
        },
        {
          "output_type": "stream",
          "text": [
            "\n",
            "\tTest metrics: average loss: 0.0020, accuracy: 8280/10000 (82.80000%)\n",
            "\n",
            "\n",
            " epoch num ================================= 33\n"
          ],
          "name": "stdout"
        },
        {
          "output_type": "stream",
          "text": [
            "100%|██████████| 196/196 [00:51<00:00,  3.84it/s]"
          ],
          "name": "stderr"
        },
        {
          "output_type": "stream",
          "text": [
            "\n",
            "\n",
            "\t\t\tLast LR --> [0.0032211989999999992]\n",
            "\n",
            "\t\t\tTrain metrics: accuracy: 40372/50000 (80.7440%)\n"
          ],
          "name": "stdout"
        },
        {
          "output_type": "stream",
          "text": [
            "\n",
            "  0%|          | 0/196 [00:00<?, ?it/s]"
          ],
          "name": "stderr"
        },
        {
          "output_type": "stream",
          "text": [
            "\n",
            "\tTest metrics: average loss: 0.0020, accuracy: 8283/10000 (82.83000%)\n",
            "\n",
            "\n",
            " epoch num ================================= 34\n"
          ],
          "name": "stdout"
        },
        {
          "output_type": "stream",
          "text": [
            "100%|██████████| 196/196 [00:50<00:00,  3.85it/s]"
          ],
          "name": "stderr"
        },
        {
          "output_type": "stream",
          "text": [
            "\n",
            "\n",
            "\t\t\tLast LR --> [0.0032211989999999992]\n",
            "\n",
            "\t\t\tTrain metrics: accuracy: 40481/50000 (80.9620%)\n"
          ],
          "name": "stdout"
        },
        {
          "output_type": "stream",
          "text": [
            "\n",
            "  0%|          | 0/196 [00:00<?, ?it/s]"
          ],
          "name": "stderr"
        },
        {
          "output_type": "stream",
          "text": [
            "\n",
            "\tTest metrics: average loss: 0.0022, accuracy: 8190/10000 (81.90000%)\n",
            "\n",
            "\n",
            " epoch num ================================= 35\n"
          ],
          "name": "stdout"
        },
        {
          "output_type": "stream",
          "text": [
            "100%|██████████| 196/196 [00:51<00:00,  3.83it/s]"
          ],
          "name": "stderr"
        },
        {
          "output_type": "stream",
          "text": [
            "\n",
            "\n",
            "\t\t\tLast LR --> [0.0032211989999999992]\n",
            "\n",
            "\t\t\tTrain metrics: accuracy: 40541/50000 (81.0820%)\n"
          ],
          "name": "stdout"
        },
        {
          "output_type": "stream",
          "text": [
            "\n",
            "  0%|          | 0/196 [00:00<?, ?it/s]"
          ],
          "name": "stderr"
        },
        {
          "output_type": "stream",
          "text": [
            "\n",
            "\tTest metrics: average loss: 0.0020, accuracy: 8324/10000 (83.24000%)\n",
            "\n",
            "\n",
            " epoch num ================================= 36\n"
          ],
          "name": "stdout"
        },
        {
          "output_type": "stream",
          "text": [
            "100%|██████████| 196/196 [00:51<00:00,  3.83it/s]"
          ],
          "name": "stderr"
        },
        {
          "output_type": "stream",
          "text": [
            "\n",
            "\n",
            "\t\t\tLast LR --> [0.0032211989999999992]\n",
            "\n",
            "\t\t\tTrain metrics: accuracy: 40673/50000 (81.3460%)\n"
          ],
          "name": "stdout"
        },
        {
          "output_type": "stream",
          "text": [
            "\n",
            "  0%|          | 0/196 [00:00<?, ?it/s]"
          ],
          "name": "stderr"
        },
        {
          "output_type": "stream",
          "text": [
            "\n",
            "\tTest metrics: average loss: 0.0020, accuracy: 8337/10000 (83.37000%)\n",
            "\n",
            "\n",
            " epoch num ================================= 37\n"
          ],
          "name": "stdout"
        },
        {
          "output_type": "stream",
          "text": [
            "100%|██████████| 196/196 [00:51<00:00,  3.84it/s]"
          ],
          "name": "stderr"
        },
        {
          "output_type": "stream",
          "text": [
            "\n",
            "\n",
            "\t\t\tLast LR --> [0.0032211989999999992]\n",
            "\n",
            "\t\t\tTrain metrics: accuracy: 40455/50000 (80.9100%)\n"
          ],
          "name": "stdout"
        },
        {
          "output_type": "stream",
          "text": [
            "\n",
            "  0%|          | 0/196 [00:00<?, ?it/s]"
          ],
          "name": "stderr"
        },
        {
          "output_type": "stream",
          "text": [
            "\n",
            "\tTest metrics: average loss: 0.0020, accuracy: 8337/10000 (83.37000%)\n",
            "\n",
            "\n",
            " epoch num ================================= 38\n"
          ],
          "name": "stdout"
        },
        {
          "output_type": "stream",
          "text": [
            "100%|██████████| 196/196 [00:51<00:00,  3.83it/s]"
          ],
          "name": "stderr"
        },
        {
          "output_type": "stream",
          "text": [
            "\n",
            "\n",
            "\t\t\tLast LR --> [0.0032211989999999992]\n",
            "\n",
            "\t\t\tTrain metrics: accuracy: 40704/50000 (81.4080%)\n"
          ],
          "name": "stdout"
        },
        {
          "output_type": "stream",
          "text": [
            "\n",
            "  0%|          | 0/196 [00:00<?, ?it/s]"
          ],
          "name": "stderr"
        },
        {
          "output_type": "stream",
          "text": [
            "\n",
            "\tTest metrics: average loss: 0.0020, accuracy: 8305/10000 (83.05000%)\n",
            "\n",
            "\n",
            " epoch num ================================= 39\n"
          ],
          "name": "stdout"
        },
        {
          "output_type": "stream",
          "text": [
            "100%|██████████| 196/196 [00:51<00:00,  3.83it/s]"
          ],
          "name": "stderr"
        },
        {
          "output_type": "stream",
          "text": [
            "\n",
            "\n",
            "\t\t\tLast LR --> [0.0032211989999999992]\n",
            "\n",
            "\t\t\tTrain metrics: accuracy: 40774/50000 (81.5480%)\n"
          ],
          "name": "stdout"
        },
        {
          "output_type": "stream",
          "text": [
            "\n",
            "  0%|          | 0/196 [00:00<?, ?it/s]"
          ],
          "name": "stderr"
        },
        {
          "output_type": "stream",
          "text": [
            "\n",
            "\tTest metrics: average loss: 0.0021, accuracy: 8246/10000 (82.46000%)\n",
            "\n",
            "\n",
            " epoch num ================================= 40\n"
          ],
          "name": "stdout"
        },
        {
          "output_type": "stream",
          "text": [
            "100%|██████████| 196/196 [00:51<00:00,  3.84it/s]"
          ],
          "name": "stderr"
        },
        {
          "output_type": "stream",
          "text": [
            "\n",
            "\n",
            "\t\t\tLast LR --> [0.0032211989999999992]\n",
            "\n",
            "\t\t\tTrain metrics: accuracy: 40853/50000 (81.7060%)\n"
          ],
          "name": "stdout"
        },
        {
          "output_type": "stream",
          "text": [
            "\n",
            "  0%|          | 0/196 [00:00<?, ?it/s]"
          ],
          "name": "stderr"
        },
        {
          "output_type": "stream",
          "text": [
            "\n",
            "\tTest metrics: average loss: 0.0020, accuracy: 8296/10000 (82.96000%)\n",
            "\n",
            "\n",
            " epoch num ================================= 41\n"
          ],
          "name": "stdout"
        },
        {
          "output_type": "stream",
          "text": [
            "100%|██████████| 196/196 [00:51<00:00,  3.83it/s]"
          ],
          "name": "stderr"
        },
        {
          "output_type": "stream",
          "text": [
            "\n",
            "\n",
            "\t\t\tLast LR --> [0.0022870512899999993]\n",
            "\n",
            "\t\t\tTrain metrics: accuracy: 41121/50000 (82.2420%)\n"
          ],
          "name": "stdout"
        },
        {
          "output_type": "stream",
          "text": [
            "\n",
            "  0%|          | 0/196 [00:00<?, ?it/s]"
          ],
          "name": "stderr"
        },
        {
          "output_type": "stream",
          "text": [
            "\n",
            "\tTest metrics: average loss: 0.0020, accuracy: 8313/10000 (83.13000%)\n",
            "\n",
            "\n",
            " epoch num ================================= 42\n"
          ],
          "name": "stdout"
        },
        {
          "output_type": "stream",
          "text": [
            "100%|██████████| 196/196 [00:51<00:00,  3.84it/s]"
          ],
          "name": "stderr"
        },
        {
          "output_type": "stream",
          "text": [
            "\n",
            "\n",
            "\t\t\tLast LR --> [0.0022870512899999993]\n",
            "\n",
            "\t\t\tTrain metrics: accuracy: 41254/50000 (82.5080%)\n"
          ],
          "name": "stdout"
        },
        {
          "output_type": "stream",
          "text": [
            "\n",
            "  0%|          | 0/196 [00:00<?, ?it/s]"
          ],
          "name": "stderr"
        },
        {
          "output_type": "stream",
          "text": [
            "\n",
            "\tTest metrics: average loss: 0.0020, accuracy: 8388/10000 (83.88000%)\n",
            "\n",
            "\n",
            " epoch num ================================= 43\n"
          ],
          "name": "stdout"
        },
        {
          "output_type": "stream",
          "text": [
            "100%|██████████| 196/196 [00:51<00:00,  3.83it/s]"
          ],
          "name": "stderr"
        },
        {
          "output_type": "stream",
          "text": [
            "\n",
            "\n",
            "\t\t\tLast LR --> [0.0022870512899999993]\n",
            "\n",
            "\t\t\tTrain metrics: accuracy: 41238/50000 (82.4760%)\n"
          ],
          "name": "stdout"
        },
        {
          "output_type": "stream",
          "text": [
            "\n",
            "  0%|          | 0/196 [00:00<?, ?it/s]"
          ],
          "name": "stderr"
        },
        {
          "output_type": "stream",
          "text": [
            "\n",
            "\tTest metrics: average loss: 0.0019, accuracy: 8389/10000 (83.89000%)\n",
            "\n",
            "\n",
            " epoch num ================================= 44\n"
          ],
          "name": "stdout"
        },
        {
          "output_type": "stream",
          "text": [
            "100%|██████████| 196/196 [00:51<00:00,  3.84it/s]"
          ],
          "name": "stderr"
        },
        {
          "output_type": "stream",
          "text": [
            "\n",
            "\n",
            "\t\t\tLast LR --> [0.0022870512899999993]\n",
            "\n",
            "\t\t\tTrain metrics: accuracy: 41305/50000 (82.6100%)\n"
          ],
          "name": "stdout"
        },
        {
          "output_type": "stream",
          "text": [
            "\n",
            "  0%|          | 0/196 [00:00<?, ?it/s]"
          ],
          "name": "stderr"
        },
        {
          "output_type": "stream",
          "text": [
            "\n",
            "\tTest metrics: average loss: 0.0019, accuracy: 8346/10000 (83.46000%)\n",
            "\n",
            "\n",
            " epoch num ================================= 45\n"
          ],
          "name": "stdout"
        },
        {
          "output_type": "stream",
          "text": [
            "100%|██████████| 196/196 [00:51<00:00,  3.84it/s]"
          ],
          "name": "stderr"
        },
        {
          "output_type": "stream",
          "text": [
            "\n",
            "\n",
            "\t\t\tLast LR --> [0.0022870512899999993]\n",
            "\n",
            "\t\t\tTrain metrics: accuracy: 41422/50000 (82.8440%)\n"
          ],
          "name": "stdout"
        },
        {
          "output_type": "stream",
          "text": [
            "\n",
            "  0%|          | 0/196 [00:00<?, ?it/s]"
          ],
          "name": "stderr"
        },
        {
          "output_type": "stream",
          "text": [
            "\n",
            "\tTest metrics: average loss: 0.0020, accuracy: 8362/10000 (83.62000%)\n",
            "\n",
            "\n",
            " epoch num ================================= 46\n"
          ],
          "name": "stdout"
        },
        {
          "output_type": "stream",
          "text": [
            "100%|██████████| 196/196 [00:51<00:00,  3.84it/s]"
          ],
          "name": "stderr"
        },
        {
          "output_type": "stream",
          "text": [
            "\n",
            "\n",
            "\t\t\tLast LR --> [0.0022870512899999993]\n",
            "\n",
            "\t\t\tTrain metrics: accuracy: 41439/50000 (82.8780%)\n"
          ],
          "name": "stdout"
        },
        {
          "output_type": "stream",
          "text": [
            "\n",
            "  0%|          | 0/196 [00:00<?, ?it/s]"
          ],
          "name": "stderr"
        },
        {
          "output_type": "stream",
          "text": [
            "\n",
            "\tTest metrics: average loss: 0.0020, accuracy: 8359/10000 (83.59000%)\n",
            "\n",
            "\n",
            " epoch num ================================= 47\n"
          ],
          "name": "stdout"
        },
        {
          "output_type": "stream",
          "text": [
            "100%|██████████| 196/196 [00:50<00:00,  3.85it/s]"
          ],
          "name": "stderr"
        },
        {
          "output_type": "stream",
          "text": [
            "\n",
            "\n",
            "\t\t\tLast LR --> [0.0022870512899999993]\n",
            "\n",
            "\t\t\tTrain metrics: accuracy: 41351/50000 (82.7020%)\n"
          ],
          "name": "stdout"
        },
        {
          "output_type": "stream",
          "text": [
            "\n",
            "  0%|          | 0/196 [00:00<?, ?it/s]"
          ],
          "name": "stderr"
        },
        {
          "output_type": "stream",
          "text": [
            "\n",
            "\tTest metrics: average loss: 0.0020, accuracy: 8400/10000 (84.00000%)\n",
            "\n",
            "\n",
            " epoch num ================================= 48\n"
          ],
          "name": "stdout"
        },
        {
          "output_type": "stream",
          "text": [
            "100%|██████████| 196/196 [00:50<00:00,  3.85it/s]"
          ],
          "name": "stderr"
        },
        {
          "output_type": "stream",
          "text": [
            "\n",
            "\n",
            "\t\t\tLast LR --> [0.0022870512899999993]\n",
            "\n",
            "\t\t\tTrain metrics: accuracy: 41351/50000 (82.7020%)\n"
          ],
          "name": "stdout"
        },
        {
          "output_type": "stream",
          "text": [
            "\n",
            "  0%|          | 0/196 [00:00<?, ?it/s]"
          ],
          "name": "stderr"
        },
        {
          "output_type": "stream",
          "text": [
            "\n",
            "\tTest metrics: average loss: 0.0021, accuracy: 8274/10000 (82.74000%)\n",
            "\n",
            "\n",
            " epoch num ================================= 49\n"
          ],
          "name": "stdout"
        },
        {
          "output_type": "stream",
          "text": [
            "100%|██████████| 196/196 [00:51<00:00,  3.84it/s]"
          ],
          "name": "stderr"
        },
        {
          "output_type": "stream",
          "text": [
            "\n",
            "\n",
            "\t\t\tLast LR --> [0.0022870512899999993]\n",
            "\n",
            "\t\t\tTrain metrics: accuracy: 41459/50000 (82.9180%)\n"
          ],
          "name": "stdout"
        },
        {
          "output_type": "stream",
          "text": [
            "\n",
            "  0%|          | 0/196 [00:00<?, ?it/s]"
          ],
          "name": "stderr"
        },
        {
          "output_type": "stream",
          "text": [
            "\n",
            "\tTest metrics: average loss: 0.0020, accuracy: 8351/10000 (83.51000%)\n",
            "\n",
            "\n",
            " epoch num ================================= 50\n"
          ],
          "name": "stdout"
        },
        {
          "output_type": "stream",
          "text": [
            "100%|██████████| 196/196 [00:50<00:00,  3.84it/s]"
          ],
          "name": "stderr"
        },
        {
          "output_type": "stream",
          "text": [
            "\n",
            "\n",
            "\t\t\tLast LR --> [0.0022870512899999993]\n",
            "\n",
            "\t\t\tTrain metrics: accuracy: 41508/50000 (83.0160%)\n"
          ],
          "name": "stdout"
        },
        {
          "output_type": "stream",
          "text": [
            "\n",
            "  0%|          | 0/196 [00:00<?, ?it/s]"
          ],
          "name": "stderr"
        },
        {
          "output_type": "stream",
          "text": [
            "\n",
            "\tTest metrics: average loss: 0.0019, accuracy: 8365/10000 (83.65000%)\n",
            "\n",
            "\n",
            " epoch num ================================= 51\n"
          ],
          "name": "stdout"
        },
        {
          "output_type": "stream",
          "text": [
            "100%|██████████| 196/196 [00:51<00:00,  3.84it/s]"
          ],
          "name": "stderr"
        },
        {
          "output_type": "stream",
          "text": [
            "\n",
            "\n",
            "\t\t\tLast LR --> [0.0016238064158999993]\n",
            "\n",
            "\t\t\tTrain metrics: accuracy: 41759/50000 (83.5180%)\n"
          ],
          "name": "stdout"
        },
        {
          "output_type": "stream",
          "text": [
            "\n",
            "  0%|          | 0/196 [00:00<?, ?it/s]"
          ],
          "name": "stderr"
        },
        {
          "output_type": "stream",
          "text": [
            "\n",
            "\tTest metrics: average loss: 0.0019, accuracy: 8408/10000 (84.08000%)\n",
            "\n",
            "\n",
            " epoch num ================================= 52\n"
          ],
          "name": "stdout"
        },
        {
          "output_type": "stream",
          "text": [
            "100%|██████████| 196/196 [00:51<00:00,  3.82it/s]"
          ],
          "name": "stderr"
        },
        {
          "output_type": "stream",
          "text": [
            "\n",
            "\n",
            "\t\t\tLast LR --> [0.0016238064158999993]\n",
            "\n",
            "\t\t\tTrain metrics: accuracy: 41823/50000 (83.6460%)\n"
          ],
          "name": "stdout"
        },
        {
          "output_type": "stream",
          "text": [
            "\n",
            "  0%|          | 0/196 [00:00<?, ?it/s]"
          ],
          "name": "stderr"
        },
        {
          "output_type": "stream",
          "text": [
            "\n",
            "\tTest metrics: average loss: 0.0020, accuracy: 8387/10000 (83.87000%)\n",
            "\n",
            "\n",
            " epoch num ================================= 53\n"
          ],
          "name": "stdout"
        },
        {
          "output_type": "stream",
          "text": [
            "100%|██████████| 196/196 [00:51<00:00,  3.84it/s]"
          ],
          "name": "stderr"
        },
        {
          "output_type": "stream",
          "text": [
            "\n",
            "\n",
            "\t\t\tLast LR --> [0.0016238064158999993]\n",
            "\n",
            "\t\t\tTrain metrics: accuracy: 41882/50000 (83.7640%)\n"
          ],
          "name": "stdout"
        },
        {
          "output_type": "stream",
          "text": [
            "\n",
            "  0%|          | 0/196 [00:00<?, ?it/s]"
          ],
          "name": "stderr"
        },
        {
          "output_type": "stream",
          "text": [
            "\n",
            "\tTest metrics: average loss: 0.0020, accuracy: 8353/10000 (83.53000%)\n",
            "\n",
            "\n",
            " epoch num ================================= 54\n"
          ],
          "name": "stdout"
        },
        {
          "output_type": "stream",
          "text": [
            "100%|██████████| 196/196 [00:51<00:00,  3.83it/s]"
          ],
          "name": "stderr"
        },
        {
          "output_type": "stream",
          "text": [
            "\n",
            "\n",
            "\t\t\tLast LR --> [0.0016238064158999993]\n",
            "\n",
            "\t\t\tTrain metrics: accuracy: 41789/50000 (83.5780%)\n"
          ],
          "name": "stdout"
        },
        {
          "output_type": "stream",
          "text": [
            "\n",
            "  0%|          | 0/196 [00:00<?, ?it/s]"
          ],
          "name": "stderr"
        },
        {
          "output_type": "stream",
          "text": [
            "\n",
            "\tTest metrics: average loss: 0.0020, accuracy: 8392/10000 (83.92000%)\n",
            "\n",
            "\n",
            " epoch num ================================= 55\n"
          ],
          "name": "stdout"
        },
        {
          "output_type": "stream",
          "text": [
            "100%|██████████| 196/196 [00:51<00:00,  3.84it/s]"
          ],
          "name": "stderr"
        },
        {
          "output_type": "stream",
          "text": [
            "\n",
            "\n",
            "\t\t\tLast LR --> [0.0016238064158999993]\n",
            "\n",
            "\t\t\tTrain metrics: accuracy: 41894/50000 (83.7880%)\n"
          ],
          "name": "stdout"
        },
        {
          "output_type": "stream",
          "text": [
            "\n",
            "  0%|          | 0/196 [00:00<?, ?it/s]"
          ],
          "name": "stderr"
        },
        {
          "output_type": "stream",
          "text": [
            "\n",
            "\tTest metrics: average loss: 0.0019, accuracy: 8380/10000 (83.80000%)\n",
            "\n",
            "\n",
            " epoch num ================================= 56\n"
          ],
          "name": "stdout"
        },
        {
          "output_type": "stream",
          "text": [
            "100%|██████████| 196/196 [00:51<00:00,  3.84it/s]"
          ],
          "name": "stderr"
        },
        {
          "output_type": "stream",
          "text": [
            "\n",
            "\n",
            "\t\t\tLast LR --> [0.0016238064158999993]\n",
            "\n",
            "\t\t\tTrain metrics: accuracy: 41969/50000 (83.9380%)\n"
          ],
          "name": "stdout"
        },
        {
          "output_type": "stream",
          "text": [
            "\n",
            "  0%|          | 0/196 [00:00<?, ?it/s]"
          ],
          "name": "stderr"
        },
        {
          "output_type": "stream",
          "text": [
            "\n",
            "\tTest metrics: average loss: 0.0020, accuracy: 8373/10000 (83.73000%)\n",
            "\n",
            "\n",
            " epoch num ================================= 57\n"
          ],
          "name": "stdout"
        },
        {
          "output_type": "stream",
          "text": [
            "100%|██████████| 196/196 [00:51<00:00,  3.84it/s]"
          ],
          "name": "stderr"
        },
        {
          "output_type": "stream",
          "text": [
            "\n",
            "\n",
            "\t\t\tLast LR --> [0.0016238064158999993]\n",
            "\n",
            "\t\t\tTrain metrics: accuracy: 42101/50000 (84.2020%)\n"
          ],
          "name": "stdout"
        },
        {
          "output_type": "stream",
          "text": [
            "\n",
            "  0%|          | 0/196 [00:00<?, ?it/s]"
          ],
          "name": "stderr"
        },
        {
          "output_type": "stream",
          "text": [
            "\n",
            "\tTest metrics: average loss: 0.0019, accuracy: 8386/10000 (83.86000%)\n",
            "\n",
            "\n",
            " epoch num ================================= 58\n"
          ],
          "name": "stdout"
        },
        {
          "output_type": "stream",
          "text": [
            "100%|██████████| 196/196 [00:50<00:00,  3.85it/s]"
          ],
          "name": "stderr"
        },
        {
          "output_type": "stream",
          "text": [
            "\n",
            "\n",
            "\t\t\tLast LR --> [0.0016238064158999993]\n",
            "\n",
            "\t\t\tTrain metrics: accuracy: 42075/50000 (84.1500%)\n"
          ],
          "name": "stdout"
        },
        {
          "output_type": "stream",
          "text": [
            "\n",
            "  0%|          | 0/196 [00:00<?, ?it/s]"
          ],
          "name": "stderr"
        },
        {
          "output_type": "stream",
          "text": [
            "\n",
            "\tTest metrics: average loss: 0.0020, accuracy: 8355/10000 (83.55000%)\n",
            "\n",
            "\n",
            " epoch num ================================= 59\n"
          ],
          "name": "stdout"
        },
        {
          "output_type": "stream",
          "text": [
            "100%|██████████| 196/196 [00:50<00:00,  3.84it/s]"
          ],
          "name": "stderr"
        },
        {
          "output_type": "stream",
          "text": [
            "\n",
            "\n",
            "\t\t\tLast LR --> [0.0016238064158999993]\n",
            "\n",
            "\t\t\tTrain metrics: accuracy: 42068/50000 (84.1360%)\n"
          ],
          "name": "stdout"
        },
        {
          "output_type": "stream",
          "text": [
            "\n",
            "  0%|          | 0/196 [00:00<?, ?it/s]"
          ],
          "name": "stderr"
        },
        {
          "output_type": "stream",
          "text": [
            "\n",
            "\tTest metrics: average loss: 0.0019, accuracy: 8410/10000 (84.10000%)\n",
            "\n",
            "\n",
            " epoch num ================================= 60\n"
          ],
          "name": "stdout"
        },
        {
          "output_type": "stream",
          "text": [
            "100%|██████████| 196/196 [00:51<00:00,  3.84it/s]"
          ],
          "name": "stderr"
        },
        {
          "output_type": "stream",
          "text": [
            "\n",
            "\n",
            "\t\t\tLast LR --> [0.0016238064158999993]\n",
            "\n",
            "\t\t\tTrain metrics: accuracy: 42031/50000 (84.0620%)\n"
          ],
          "name": "stdout"
        },
        {
          "output_type": "stream",
          "text": [
            "\n",
            "  0%|          | 0/196 [00:00<?, ?it/s]"
          ],
          "name": "stderr"
        },
        {
          "output_type": "stream",
          "text": [
            "\n",
            "\tTest metrics: average loss: 0.0019, accuracy: 8413/10000 (84.13000%)\n",
            "\n",
            "\n",
            " epoch num ================================= 61\n"
          ],
          "name": "stdout"
        },
        {
          "output_type": "stream",
          "text": [
            "100%|██████████| 196/196 [00:51<00:00,  3.83it/s]"
          ],
          "name": "stderr"
        },
        {
          "output_type": "stream",
          "text": [
            "\n",
            "\n",
            "\t\t\tLast LR --> [0.0011529025552889994]\n",
            "\n",
            "\t\t\tTrain metrics: accuracy: 42350/50000 (84.7000%)\n"
          ],
          "name": "stdout"
        },
        {
          "output_type": "stream",
          "text": [
            "\n",
            "  0%|          | 0/196 [00:00<?, ?it/s]"
          ],
          "name": "stderr"
        },
        {
          "output_type": "stream",
          "text": [
            "\n",
            "\tTest metrics: average loss: 0.0019, accuracy: 8391/10000 (83.91000%)\n",
            "\n",
            "\n",
            " epoch num ================================= 62\n"
          ],
          "name": "stdout"
        },
        {
          "output_type": "stream",
          "text": [
            "100%|██████████| 196/196 [00:51<00:00,  3.84it/s]"
          ],
          "name": "stderr"
        },
        {
          "output_type": "stream",
          "text": [
            "\n",
            "\n",
            "\t\t\tLast LR --> [0.0011529025552889994]\n",
            "\n",
            "\t\t\tTrain metrics: accuracy: 42259/50000 (84.5180%)\n"
          ],
          "name": "stdout"
        },
        {
          "output_type": "stream",
          "text": [
            "\n",
            "  0%|          | 0/196 [00:00<?, ?it/s]"
          ],
          "name": "stderr"
        },
        {
          "output_type": "stream",
          "text": [
            "\n",
            "\tTest metrics: average loss: 0.0019, accuracy: 8434/10000 (84.34000%)\n",
            "\n",
            "\n",
            " epoch num ================================= 63\n"
          ],
          "name": "stdout"
        },
        {
          "output_type": "stream",
          "text": [
            "100%|██████████| 196/196 [00:51<00:00,  3.83it/s]"
          ],
          "name": "stderr"
        },
        {
          "output_type": "stream",
          "text": [
            "\n",
            "\n",
            "\t\t\tLast LR --> [0.0011529025552889994]\n",
            "\n",
            "\t\t\tTrain metrics: accuracy: 42453/50000 (84.9060%)\n"
          ],
          "name": "stdout"
        },
        {
          "output_type": "stream",
          "text": [
            "\n",
            "  0%|          | 0/196 [00:00<?, ?it/s]"
          ],
          "name": "stderr"
        },
        {
          "output_type": "stream",
          "text": [
            "\n",
            "\tTest metrics: average loss: 0.0019, accuracy: 8423/10000 (84.23000%)\n",
            "\n",
            "\n",
            " epoch num ================================= 64\n"
          ],
          "name": "stdout"
        },
        {
          "output_type": "stream",
          "text": [
            "100%|██████████| 196/196 [00:51<00:00,  3.83it/s]"
          ],
          "name": "stderr"
        },
        {
          "output_type": "stream",
          "text": [
            "\n",
            "\n",
            "\t\t\tLast LR --> [0.0011529025552889994]\n",
            "\n",
            "\t\t\tTrain metrics: accuracy: 42299/50000 (84.5980%)\n"
          ],
          "name": "stdout"
        },
        {
          "output_type": "stream",
          "text": [
            "\n",
            "  0%|          | 0/196 [00:00<?, ?it/s]"
          ],
          "name": "stderr"
        },
        {
          "output_type": "stream",
          "text": [
            "\n",
            "\tTest metrics: average loss: 0.0020, accuracy: 8363/10000 (83.63000%)\n",
            "\n",
            "\n",
            " epoch num ================================= 65\n"
          ],
          "name": "stdout"
        },
        {
          "output_type": "stream",
          "text": [
            "100%|██████████| 196/196 [00:51<00:00,  3.84it/s]"
          ],
          "name": "stderr"
        },
        {
          "output_type": "stream",
          "text": [
            "\n",
            "\n",
            "\t\t\tLast LR --> [0.0011529025552889994]\n",
            "\n",
            "\t\t\tTrain metrics: accuracy: 42368/50000 (84.7360%)\n"
          ],
          "name": "stdout"
        },
        {
          "output_type": "stream",
          "text": [
            "\n",
            "  0%|          | 0/196 [00:00<?, ?it/s]"
          ],
          "name": "stderr"
        },
        {
          "output_type": "stream",
          "text": [
            "\n",
            "\tTest metrics: average loss: 0.0019, accuracy: 8434/10000 (84.34000%)\n",
            "\n",
            "\n",
            " epoch num ================================= 66\n"
          ],
          "name": "stdout"
        },
        {
          "output_type": "stream",
          "text": [
            "100%|██████████| 196/196 [00:51<00:00,  3.84it/s]"
          ],
          "name": "stderr"
        },
        {
          "output_type": "stream",
          "text": [
            "\n",
            "\n",
            "\t\t\tLast LR --> [0.0011529025552889994]\n",
            "\n",
            "\t\t\tTrain metrics: accuracy: 42385/50000 (84.7700%)\n"
          ],
          "name": "stdout"
        },
        {
          "output_type": "stream",
          "text": [
            "\n",
            "  0%|          | 0/196 [00:00<?, ?it/s]"
          ],
          "name": "stderr"
        },
        {
          "output_type": "stream",
          "text": [
            "\n",
            "\tTest metrics: average loss: 0.0019, accuracy: 8420/10000 (84.20000%)\n",
            "\n",
            "\n",
            " epoch num ================================= 67\n"
          ],
          "name": "stdout"
        },
        {
          "output_type": "stream",
          "text": [
            "100%|██████████| 196/196 [00:51<00:00,  3.84it/s]"
          ],
          "name": "stderr"
        },
        {
          "output_type": "stream",
          "text": [
            "\n",
            "\n",
            "\t\t\tLast LR --> [0.0011529025552889994]\n",
            "\n",
            "\t\t\tTrain metrics: accuracy: 42240/50000 (84.4800%)\n"
          ],
          "name": "stdout"
        },
        {
          "output_type": "stream",
          "text": [
            "\n",
            "  0%|          | 0/196 [00:00<?, ?it/s]"
          ],
          "name": "stderr"
        },
        {
          "output_type": "stream",
          "text": [
            "\n",
            "\tTest metrics: average loss: 0.0019, accuracy: 8425/10000 (84.25000%)\n",
            "\n",
            "\n",
            " epoch num ================================= 68\n"
          ],
          "name": "stdout"
        },
        {
          "output_type": "stream",
          "text": [
            "100%|██████████| 196/196 [00:50<00:00,  3.85it/s]"
          ],
          "name": "stderr"
        },
        {
          "output_type": "stream",
          "text": [
            "\n",
            "\n",
            "\t\t\tLast LR --> [0.0011529025552889994]\n",
            "\n",
            "\t\t\tTrain metrics: accuracy: 42408/50000 (84.8160%)\n"
          ],
          "name": "stdout"
        },
        {
          "output_type": "stream",
          "text": [
            "\n",
            "  0%|          | 0/196 [00:00<?, ?it/s]"
          ],
          "name": "stderr"
        },
        {
          "output_type": "stream",
          "text": [
            "\n",
            "\tTest metrics: average loss: 0.0019, accuracy: 8413/10000 (84.13000%)\n",
            "\n",
            "\n",
            " epoch num ================================= 69\n"
          ],
          "name": "stdout"
        },
        {
          "output_type": "stream",
          "text": [
            "100%|██████████| 196/196 [00:51<00:00,  3.84it/s]"
          ],
          "name": "stderr"
        },
        {
          "output_type": "stream",
          "text": [
            "\n",
            "\n",
            "\t\t\tLast LR --> [0.0011529025552889994]\n",
            "\n",
            "\t\t\tTrain metrics: accuracy: 42447/50000 (84.8940%)\n"
          ],
          "name": "stdout"
        },
        {
          "output_type": "stream",
          "text": [
            "\n",
            "  0%|          | 0/196 [00:00<?, ?it/s]"
          ],
          "name": "stderr"
        },
        {
          "output_type": "stream",
          "text": [
            "\n",
            "\tTest metrics: average loss: 0.0019, accuracy: 8455/10000 (84.55000%)\n",
            "\n",
            "\n",
            " epoch num ================================= 70\n"
          ],
          "name": "stdout"
        },
        {
          "output_type": "stream",
          "text": [
            "100%|██████████| 196/196 [00:51<00:00,  3.84it/s]"
          ],
          "name": "stderr"
        },
        {
          "output_type": "stream",
          "text": [
            "\n",
            "\n",
            "\t\t\tLast LR --> [0.0011529025552889994]\n",
            "\n",
            "\t\t\tTrain metrics: accuracy: 42543/50000 (85.0860%)\n"
          ],
          "name": "stdout"
        },
        {
          "output_type": "stream",
          "text": [
            "\n",
            "  0%|          | 0/196 [00:00<?, ?it/s]"
          ],
          "name": "stderr"
        },
        {
          "output_type": "stream",
          "text": [
            "\n",
            "\tTest metrics: average loss: 0.0019, accuracy: 8411/10000 (84.11000%)\n",
            "\n",
            "\n",
            " epoch num ================================= 71\n"
          ],
          "name": "stdout"
        },
        {
          "output_type": "stream",
          "text": [
            "100%|██████████| 196/196 [00:50<00:00,  3.85it/s]"
          ],
          "name": "stderr"
        },
        {
          "output_type": "stream",
          "text": [
            "\n",
            "\n",
            "\t\t\tLast LR --> [0.0008185608142551895]\n",
            "\n",
            "\t\t\tTrain metrics: accuracy: 42664/50000 (85.3280%)\n"
          ],
          "name": "stdout"
        },
        {
          "output_type": "stream",
          "text": [
            "\n",
            "  0%|          | 0/196 [00:00<?, ?it/s]"
          ],
          "name": "stderr"
        },
        {
          "output_type": "stream",
          "text": [
            "\n",
            "\tTest metrics: average loss: 0.0019, accuracy: 8440/10000 (84.40000%)\n",
            "\n",
            "\n",
            " epoch num ================================= 72\n"
          ],
          "name": "stdout"
        },
        {
          "output_type": "stream",
          "text": [
            "100%|██████████| 196/196 [00:51<00:00,  3.83it/s]"
          ],
          "name": "stderr"
        },
        {
          "output_type": "stream",
          "text": [
            "\n",
            "\n",
            "\t\t\tLast LR --> [0.0008185608142551895]\n",
            "\n",
            "\t\t\tTrain metrics: accuracy: 42631/50000 (85.2620%)\n"
          ],
          "name": "stdout"
        },
        {
          "output_type": "stream",
          "text": [
            "\n",
            "  0%|          | 0/196 [00:00<?, ?it/s]"
          ],
          "name": "stderr"
        },
        {
          "output_type": "stream",
          "text": [
            "\n",
            "\tTest metrics: average loss: 0.0019, accuracy: 8454/10000 (84.54000%)\n",
            "\n",
            "\n",
            " epoch num ================================= 73\n"
          ],
          "name": "stdout"
        },
        {
          "output_type": "stream",
          "text": [
            "100%|██████████| 196/196 [00:51<00:00,  3.82it/s]"
          ],
          "name": "stderr"
        },
        {
          "output_type": "stream",
          "text": [
            "\n",
            "\n",
            "\t\t\tLast LR --> [0.0008185608142551895]\n",
            "\n",
            "\t\t\tTrain metrics: accuracy: 42656/50000 (85.3120%)\n"
          ],
          "name": "stdout"
        },
        {
          "output_type": "stream",
          "text": [
            "\n",
            "  0%|          | 0/196 [00:00<?, ?it/s]"
          ],
          "name": "stderr"
        },
        {
          "output_type": "stream",
          "text": [
            "\n",
            "\tTest metrics: average loss: 0.0019, accuracy: 8448/10000 (84.48000%)\n",
            "\n",
            "\n",
            " epoch num ================================= 74\n"
          ],
          "name": "stdout"
        },
        {
          "output_type": "stream",
          "text": [
            "100%|██████████| 196/196 [00:50<00:00,  3.84it/s]"
          ],
          "name": "stderr"
        },
        {
          "output_type": "stream",
          "text": [
            "\n",
            "\n",
            "\t\t\tLast LR --> [0.0008185608142551895]\n",
            "\n",
            "\t\t\tTrain metrics: accuracy: 42766/50000 (85.5320%)\n"
          ],
          "name": "stdout"
        },
        {
          "output_type": "stream",
          "text": [
            "\n",
            "  0%|          | 0/196 [00:00<?, ?it/s]"
          ],
          "name": "stderr"
        },
        {
          "output_type": "stream",
          "text": [
            "\n",
            "\tTest metrics: average loss: 0.0019, accuracy: 8447/10000 (84.47000%)\n",
            "\n",
            "\n",
            " epoch num ================================= 75\n"
          ],
          "name": "stdout"
        },
        {
          "output_type": "stream",
          "text": [
            "100%|██████████| 196/196 [00:51<00:00,  3.83it/s]"
          ],
          "name": "stderr"
        },
        {
          "output_type": "stream",
          "text": [
            "\n",
            "\n",
            "\t\t\tLast LR --> [0.0008185608142551895]\n",
            "\n",
            "\t\t\tTrain metrics: accuracy: 42680/50000 (85.3600%)\n"
          ],
          "name": "stdout"
        },
        {
          "output_type": "stream",
          "text": [
            "\n",
            "  0%|          | 0/196 [00:00<?, ?it/s]"
          ],
          "name": "stderr"
        },
        {
          "output_type": "stream",
          "text": [
            "\n",
            "\tTest metrics: average loss: 0.0019, accuracy: 8451/10000 (84.51000%)\n",
            "\n",
            "\n",
            " epoch num ================================= 76\n"
          ],
          "name": "stdout"
        },
        {
          "output_type": "stream",
          "text": [
            "100%|██████████| 196/196 [00:50<00:00,  3.85it/s]"
          ],
          "name": "stderr"
        },
        {
          "output_type": "stream",
          "text": [
            "\n",
            "\n",
            "\t\t\tLast LR --> [0.0008185608142551895]\n",
            "\n",
            "\t\t\tTrain metrics: accuracy: 42806/50000 (85.6120%)\n"
          ],
          "name": "stdout"
        },
        {
          "output_type": "stream",
          "text": [
            "\n",
            "  0%|          | 0/196 [00:00<?, ?it/s]"
          ],
          "name": "stderr"
        },
        {
          "output_type": "stream",
          "text": [
            "\n",
            "\tTest metrics: average loss: 0.0019, accuracy: 8445/10000 (84.45000%)\n",
            "\n",
            "\n",
            " epoch num ================================= 77\n"
          ],
          "name": "stdout"
        },
        {
          "output_type": "stream",
          "text": [
            "100%|██████████| 196/196 [00:50<00:00,  3.84it/s]"
          ],
          "name": "stderr"
        },
        {
          "output_type": "stream",
          "text": [
            "\n",
            "\n",
            "\t\t\tLast LR --> [0.0008185608142551895]\n",
            "\n",
            "\t\t\tTrain metrics: accuracy: 42704/50000 (85.4080%)\n"
          ],
          "name": "stdout"
        },
        {
          "output_type": "stream",
          "text": [
            "\n",
            "  0%|          | 0/196 [00:00<?, ?it/s]"
          ],
          "name": "stderr"
        },
        {
          "output_type": "stream",
          "text": [
            "\n",
            "\tTest metrics: average loss: 0.0019, accuracy: 8430/10000 (84.30000%)\n",
            "\n",
            "\n",
            " epoch num ================================= 78\n"
          ],
          "name": "stdout"
        },
        {
          "output_type": "stream",
          "text": [
            "100%|██████████| 196/196 [00:51<00:00,  3.84it/s]"
          ],
          "name": "stderr"
        },
        {
          "output_type": "stream",
          "text": [
            "\n",
            "\n",
            "\t\t\tLast LR --> [0.0008185608142551895]\n",
            "\n",
            "\t\t\tTrain metrics: accuracy: 42877/50000 (85.7540%)\n"
          ],
          "name": "stdout"
        },
        {
          "output_type": "stream",
          "text": [
            "\n",
            "  0%|          | 0/196 [00:00<?, ?it/s]"
          ],
          "name": "stderr"
        },
        {
          "output_type": "stream",
          "text": [
            "\n",
            "\tTest metrics: average loss: 0.0019, accuracy: 8448/10000 (84.48000%)\n",
            "\n",
            "\n",
            " epoch num ================================= 79\n"
          ],
          "name": "stdout"
        },
        {
          "output_type": "stream",
          "text": [
            "100%|██████████| 196/196 [00:51<00:00,  3.83it/s]"
          ],
          "name": "stderr"
        },
        {
          "output_type": "stream",
          "text": [
            "\n",
            "\n",
            "\t\t\tLast LR --> [0.0008185608142551895]\n",
            "\n",
            "\t\t\tTrain metrics: accuracy: 42726/50000 (85.4520%)\n"
          ],
          "name": "stdout"
        },
        {
          "output_type": "stream",
          "text": [
            "\n",
            "  0%|          | 0/196 [00:00<?, ?it/s]"
          ],
          "name": "stderr"
        },
        {
          "output_type": "stream",
          "text": [
            "\n",
            "\tTest metrics: average loss: 0.0019, accuracy: 8468/10000 (84.68000%)\n",
            "\n",
            "\n",
            " epoch num ================================= 80\n"
          ],
          "name": "stdout"
        },
        {
          "output_type": "stream",
          "text": [
            "100%|██████████| 196/196 [00:50<00:00,  3.85it/s]"
          ],
          "name": "stderr"
        },
        {
          "output_type": "stream",
          "text": [
            "\n",
            "\n",
            "\t\t\tLast LR --> [0.0008185608142551895]\n",
            "\n",
            "\t\t\tTrain metrics: accuracy: 42770/50000 (85.5400%)\n"
          ],
          "name": "stdout"
        },
        {
          "output_type": "stream",
          "text": [
            "\n",
            "  0%|          | 0/196 [00:00<?, ?it/s]"
          ],
          "name": "stderr"
        },
        {
          "output_type": "stream",
          "text": [
            "\n",
            "\tTest metrics: average loss: 0.0019, accuracy: 8444/10000 (84.44000%)\n",
            "\n",
            "\n",
            " epoch num ================================= 81\n"
          ],
          "name": "stdout"
        },
        {
          "output_type": "stream",
          "text": [
            "100%|██████████| 196/196 [00:51<00:00,  3.83it/s]"
          ],
          "name": "stderr"
        },
        {
          "output_type": "stream",
          "text": [
            "\n",
            "\n",
            "\t\t\tLast LR --> [0.0005811781781211845]\n",
            "\n",
            "\t\t\tTrain metrics: accuracy: 42747/50000 (85.4940%)\n"
          ],
          "name": "stdout"
        },
        {
          "output_type": "stream",
          "text": [
            "\n",
            "  0%|          | 0/196 [00:00<?, ?it/s]"
          ],
          "name": "stderr"
        },
        {
          "output_type": "stream",
          "text": [
            "\n",
            "\tTest metrics: average loss: 0.0019, accuracy: 8467/10000 (84.67000%)\n",
            "\n",
            "\n",
            " epoch num ================================= 82\n"
          ],
          "name": "stdout"
        },
        {
          "output_type": "stream",
          "text": [
            "100%|██████████| 196/196 [00:51<00:00,  3.83it/s]"
          ],
          "name": "stderr"
        },
        {
          "output_type": "stream",
          "text": [
            "\n",
            "\n",
            "\t\t\tLast LR --> [0.0005811781781211845]\n",
            "\n",
            "\t\t\tTrain metrics: accuracy: 42917/50000 (85.8340%)\n"
          ],
          "name": "stdout"
        },
        {
          "output_type": "stream",
          "text": [
            "\n",
            "  0%|          | 0/196 [00:00<?, ?it/s]"
          ],
          "name": "stderr"
        },
        {
          "output_type": "stream",
          "text": [
            "\n",
            "\tTest metrics: average loss: 0.0019, accuracy: 8487/10000 (84.87000%)\n",
            "\n",
            "\n",
            " epoch num ================================= 83\n"
          ],
          "name": "stdout"
        },
        {
          "output_type": "stream",
          "text": [
            "100%|██████████| 196/196 [00:51<00:00,  3.84it/s]"
          ],
          "name": "stderr"
        },
        {
          "output_type": "stream",
          "text": [
            "\n",
            "\n",
            "\t\t\tLast LR --> [0.0005811781781211845]\n",
            "\n",
            "\t\t\tTrain metrics: accuracy: 42976/50000 (85.9520%)\n"
          ],
          "name": "stdout"
        },
        {
          "output_type": "stream",
          "text": [
            "\n",
            "  0%|          | 0/196 [00:00<?, ?it/s]"
          ],
          "name": "stderr"
        },
        {
          "output_type": "stream",
          "text": [
            "\n",
            "\tTest metrics: average loss: 0.0019, accuracy: 8447/10000 (84.47000%)\n",
            "\n",
            "\n",
            " epoch num ================================= 84\n"
          ],
          "name": "stdout"
        },
        {
          "output_type": "stream",
          "text": [
            "100%|██████████| 196/196 [00:51<00:00,  3.84it/s]"
          ],
          "name": "stderr"
        },
        {
          "output_type": "stream",
          "text": [
            "\n",
            "\n",
            "\t\t\tLast LR --> [0.0005811781781211845]\n",
            "\n",
            "\t\t\tTrain metrics: accuracy: 42934/50000 (85.8680%)\n"
          ],
          "name": "stdout"
        },
        {
          "output_type": "stream",
          "text": [
            "\n",
            "  0%|          | 0/196 [00:00<?, ?it/s]"
          ],
          "name": "stderr"
        },
        {
          "output_type": "stream",
          "text": [
            "\n",
            "\tTest metrics: average loss: 0.0019, accuracy: 8471/10000 (84.71000%)\n",
            "\n",
            "\n",
            " epoch num ================================= 85\n"
          ],
          "name": "stdout"
        },
        {
          "output_type": "stream",
          "text": [
            "100%|██████████| 196/196 [00:51<00:00,  3.83it/s]"
          ],
          "name": "stderr"
        },
        {
          "output_type": "stream",
          "text": [
            "\n",
            "\n",
            "\t\t\tLast LR --> [0.0005811781781211845]\n",
            "\n",
            "\t\t\tTrain metrics: accuracy: 43047/50000 (86.0940%)\n"
          ],
          "name": "stdout"
        },
        {
          "output_type": "stream",
          "text": [
            "\n",
            "  0%|          | 0/196 [00:00<?, ?it/s]"
          ],
          "name": "stderr"
        },
        {
          "output_type": "stream",
          "text": [
            "\n",
            "\tTest metrics: average loss: 0.0019, accuracy: 8477/10000 (84.77000%)\n",
            "\n",
            "\n",
            " epoch num ================================= 86\n"
          ],
          "name": "stdout"
        },
        {
          "output_type": "stream",
          "text": [
            "100%|██████████| 196/196 [00:51<00:00,  3.84it/s]"
          ],
          "name": "stderr"
        },
        {
          "output_type": "stream",
          "text": [
            "\n",
            "\n",
            "\t\t\tLast LR --> [0.0005811781781211845]\n",
            "\n",
            "\t\t\tTrain metrics: accuracy: 42867/50000 (85.7340%)\n"
          ],
          "name": "stdout"
        },
        {
          "output_type": "stream",
          "text": [
            "\n",
            "  0%|          | 0/196 [00:00<?, ?it/s]"
          ],
          "name": "stderr"
        },
        {
          "output_type": "stream",
          "text": [
            "\n",
            "\tTest metrics: average loss: 0.0019, accuracy: 8440/10000 (84.40000%)\n",
            "\n",
            "\n",
            " epoch num ================================= 87\n"
          ],
          "name": "stdout"
        },
        {
          "output_type": "stream",
          "text": [
            "100%|██████████| 196/196 [00:51<00:00,  3.83it/s]"
          ],
          "name": "stderr"
        },
        {
          "output_type": "stream",
          "text": [
            "\n",
            "\n",
            "\t\t\tLast LR --> [0.0005811781781211845]\n",
            "\n",
            "\t\t\tTrain metrics: accuracy: 42920/50000 (85.8400%)\n"
          ],
          "name": "stdout"
        },
        {
          "output_type": "stream",
          "text": [
            "\n",
            "  0%|          | 0/196 [00:00<?, ?it/s]"
          ],
          "name": "stderr"
        },
        {
          "output_type": "stream",
          "text": [
            "\n",
            "\tTest metrics: average loss: 0.0019, accuracy: 8439/10000 (84.39000%)\n",
            "\n",
            "\n",
            " epoch num ================================= 88\n"
          ],
          "name": "stdout"
        },
        {
          "output_type": "stream",
          "text": [
            "100%|██████████| 196/196 [00:51<00:00,  3.84it/s]"
          ],
          "name": "stderr"
        },
        {
          "output_type": "stream",
          "text": [
            "\n",
            "\n",
            "\t\t\tLast LR --> [0.0005811781781211845]\n",
            "\n",
            "\t\t\tTrain metrics: accuracy: 42936/50000 (85.8720%)\n"
          ],
          "name": "stdout"
        },
        {
          "output_type": "stream",
          "text": [
            "\n",
            "  0%|          | 0/196 [00:00<?, ?it/s]"
          ],
          "name": "stderr"
        },
        {
          "output_type": "stream",
          "text": [
            "\n",
            "\tTest metrics: average loss: 0.0019, accuracy: 8454/10000 (84.54000%)\n",
            "\n",
            "\n",
            " epoch num ================================= 89\n"
          ],
          "name": "stdout"
        },
        {
          "output_type": "stream",
          "text": [
            "100%|██████████| 196/196 [00:51<00:00,  3.84it/s]"
          ],
          "name": "stderr"
        },
        {
          "output_type": "stream",
          "text": [
            "\n",
            "\n",
            "\t\t\tLast LR --> [0.0005811781781211845]\n",
            "\n",
            "\t\t\tTrain metrics: accuracy: 42919/50000 (85.8380%)\n"
          ],
          "name": "stdout"
        },
        {
          "output_type": "stream",
          "text": [
            "\n",
            "  0%|          | 0/196 [00:00<?, ?it/s]"
          ],
          "name": "stderr"
        },
        {
          "output_type": "stream",
          "text": [
            "\n",
            "\tTest metrics: average loss: 0.0019, accuracy: 8461/10000 (84.61000%)\n",
            "\n",
            "\n",
            " epoch num ================================= 90\n"
          ],
          "name": "stdout"
        },
        {
          "output_type": "stream",
          "text": [
            "100%|██████████| 196/196 [00:51<00:00,  3.83it/s]"
          ],
          "name": "stderr"
        },
        {
          "output_type": "stream",
          "text": [
            "\n",
            "\n",
            "\t\t\tLast LR --> [0.0005811781781211845]\n",
            "\n",
            "\t\t\tTrain metrics: accuracy: 43173/50000 (86.3460%)\n"
          ],
          "name": "stdout"
        },
        {
          "output_type": "stream",
          "text": [
            "\n",
            "  0%|          | 0/196 [00:00<?, ?it/s]"
          ],
          "name": "stderr"
        },
        {
          "output_type": "stream",
          "text": [
            "\n",
            "\tTest metrics: average loss: 0.0019, accuracy: 8423/10000 (84.23000%)\n",
            "\n",
            "\n",
            " epoch num ================================= 91\n"
          ],
          "name": "stdout"
        },
        {
          "output_type": "stream",
          "text": [
            " 39%|███▉      | 77/196 [00:20<00:30,  3.86it/s]"
          ],
          "name": "stderr"
        }
      ]
    },
    {
      "cell_type": "code",
      "metadata": {
        "id": "Bwyu6oSuKRoo"
      },
      "source": [
        "optimizer = optim.SGD(model.parameters(), lr=0.0005, momentum=0.93, nesterov=True)\n",
        "step = StepLR(optimizer, step_size=3, gamma=0.79)\n",
        "train_eval_model(model, train_loader, optimizer, device, epochs=50, test=True, test_loader=test_loader,scheduler=step)"
      ],
      "execution_count": null,
      "outputs": []
    },
    {
      "cell_type": "code",
      "metadata": {
        "id": "ynjiFMBOEeA8"
      },
      "source": [
        "# optimizer = optim.SGD(model.parameters(), lr=0.0008, momentum=0.9, nesterov=True)\n",
        "# step = StepLR(optimizer, step_size=7, gamma=0.61)\n",
        "# train_eval_model(model, train_loader, optimizer, device, epochs=100, test=True, test_loader=test_loader,scheduler=step)"
      ],
      "execution_count": null,
      "outputs": []
    },
    {
      "cell_type": "code",
      "metadata": {
        "id": "UQA2MHVKsWYo"
      },
      "source": [
        "plot_graphs(train_losses=train_losses, train_accuracy=train_accuracy,\n",
        "            test_losses=test_losses,test_accuracy=test_accuracy)    "
      ],
      "execution_count": null,
      "outputs": []
    },
    {
      "cell_type": "code",
      "metadata": {
        "id": "9qlzXdttVbrM"
      },
      "source": [
        ""
      ],
      "execution_count": null,
      "outputs": []
    }
  ]
}